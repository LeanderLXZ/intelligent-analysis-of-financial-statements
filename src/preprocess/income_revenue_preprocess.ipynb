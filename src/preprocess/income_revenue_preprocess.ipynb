{
 "metadata": {
  "language_info": {
   "codemirror_mode": {
    "name": "ipython",
    "version": 3
   },
   "file_extension": ".py",
   "mimetype": "text/x-python",
   "name": "python",
   "nbconvert_exporter": "python",
   "pygments_lexer": "ipython3",
   "version": "3.7.10"
  },
  "orig_nbformat": 2,
  "kernelspec": {
   "name": "python3",
   "display_name": "Python 3.7.10 64-bit ('base': conda)",
   "metadata": {
    "interpreter": {
     "hash": "274ae7b1ae6bdb01b6edc022f96e68befb0463a18757fe08f3108c854cb76e94"
    }
   }
  }
 },
 "nbformat": 4,
 "nbformat_minor": 2,
 "cells": [
  {
   "cell_type": "code",
   "execution_count": null,
   "metadata": {},
   "outputs": [],
   "source": [
    "import numpy as np\n",
    "import pandas as pd\n",
    "from os.path import join\n",
    "import matplotlib.pyplot as plt\n",
    "\n",
    "%matplotlib inline\n",
    "pd.set_option('display.max_rows', None)\n",
    "pd.set_option('display.max_columns', None)"
   ]
  },
  {
   "cell_type": "code",
   "execution_count": null,
   "metadata": {},
   "outputs": [],
   "source": [
    "df = pd.read_csv('../../data/financial_statements/normalized_l2/csv/balance_industry.csv')"
   ]
  },
  {
   "cell_type": "code",
   "execution_count": null,
   "metadata": {},
   "outputs": [],
   "source": [
    "df = pd.read_csv('../../data/financial_statements/original/3_FdmtISBankLT2018_(新)银行业利润表(所有会计期末最新披露).csv')\n",
    "df = df.drop(df[df['reportType']=='Q3'].index, axis=0)\n",
    "type_dict = {\n",
    "    'Q1': 'Q1',\n",
    "    'S1': 'Q2',\n",
    "    'Q3': 'Q3',\n",
    "    'CQ3': 'Q3',\n",
    "    'A': 'A'\n",
    "}\n",
    "df['reportType'] = df['reportType'].apply(lambda x: type_dict[x])"
   ]
  },
  {
   "cell_type": "code",
   "execution_count": null,
   "metadata": {},
   "outputs": [],
   "source": [
    "df.head()"
   ]
  },
  {
   "cell_type": "code",
   "execution_count": null,
   "metadata": {},
   "outputs": [],
   "source": [
    "df = DataPreprocess(\n",
    "    '../../data/financial_statements/',\n",
    "    delete_list\n",
    ").normalize_l1('../../data/financial_statements/original/3_FdmtISBankLT2018_(新)银行业利润表(所有会计期末最新披露).csv', is_balance_sheet=False)"
   ]
  },
  {
   "cell_type": "code",
   "execution_count": null,
   "metadata": {},
   "outputs": [],
   "source": [
    "df.head()"
   ]
  },
  {
   "cell_type": "code",
   "execution_count": null,
   "metadata": {},
   "outputs": [],
   "source": [
    "'000001' in df_delist['TICKER']"
   ]
  },
  {
   "cell_type": "code",
   "execution_count": null,
   "metadata": {},
   "outputs": [],
   "source": [
    "df = pd.read_csv('../../data/financial_statements/original/3_FdmtISBankLT2018_(新)银行业利润表(所有会计期末最新披露).csv')\n",
    "len(set(df['ticker']))"
   ]
  },
  {
   "cell_type": "code",
   "execution_count": null,
   "metadata": {},
   "outputs": [],
   "source": [
    "df = pd.read_csv('../../data/financial_statements_pit/original/7_FdmtBsBank2018_(新)银行业资产负债表 (Point in time).csv')\n",
    "len(set(df['ticker']))"
   ]
  },
  {
   "cell_type": "code",
   "execution_count": null,
   "metadata": {},
   "outputs": [],
   "source": [
    "df = pd.read_csv('../../data/financial_statements_pit/original/11_FdmtISBank2018_(新)银行业利润表 (Point in time).csv')\n",
    "df = df.sort_values(\n",
    "    by=['ticker', 'endDate', 'endDateRep', 'actPubtime', 'fiscalPeriod'], \n",
    "    ascending=[True, True, True, True, True]\n",
    ")"
   ]
  },
  {
   "cell_type": "code",
   "execution_count": null,
   "metadata": {},
   "outputs": [],
   "source": [
    "data_path = '../../data/financial_statements_pit/normalized_l2/'\n",
    "set_income = get_concat_df(data_path, 'income', '_pit')\n",
    "set_cash_flow = get_concat_df(data_path, 'cash_flow', '_pit')\n",
    "set_balance= get_concat_df(data_path, 'balance', '_pit')\n",
    "\n",
    "check_dirs([data_path + 'absence/'])\n",
    "\n",
    "print(len(set_income - set_cash_flow))\n",
    "with open(data_path + 'absence/income-cash_flow.txt', 'w') as f:\n",
    "    f.write('Total: {}\\n'.format(len(set_income - set_cash_flow)))\n",
    "    f.write('-' * 50 + '\\n')\n",
    "    for i in sorted(list(set_income - set_cash_flow)):\n",
    "        f.write(str(i) + '\\n')\n",
    "print(len(set_cash_flow - set_income))\n",
    "with open(data_path + 'absence/cash_flow-income.txt', 'w') as f:\n",
    "    f.write('Total: {}\\n'.format(len(set_cash_flow - set_income)))\n",
    "    f.write('-' * 50 + '\\n')\n",
    "    for i in sorted(list(set_cash_flow - set_income)):\n",
    "        f.write(str(i) + '\\n')\n",
    "print(len(set_income - set_balance))\n",
    "with open(data_path + 'absence/income-balance.txt', 'w') as f:\n",
    "    f.write('Total: {}\\n'.format(len(set_income - set_balance)))\n",
    "    f.write('-' * 50 + '\\n')\n",
    "    for i in sorted(list(set_income - set_balance)):\n",
    "        f.write(str(i) + '\\n')\n",
    "print(len(set_balance - set_income))\n",
    "with open(data_path + 'absence/balance-income.txt', 'w') as f:\n",
    "    f.write('Total: {}\\n'.format(len(set_balance - set_income)))\n",
    "    f.write('-' * 50 + '\\n')\n",
    "    for i in sorted(list(set_balance - set_income)):\n",
    "        f.write(str(i) + '\\n')\n",
    "print(len(set_balance - set_cash_flow))\n",
    "with open(data_path + 'absence/balance-cash_flow.txt', 'w') as f:\n",
    "    f.write('Total: {}\\n'.format(len(set_balance - set_cash_flow)))\n",
    "    f.write('-' * 50 + '\\n')\n",
    "    for i in sorted(list(set_balance - set_cash_flow)):\n",
    "        f.write(str(i) + '\\n')\n",
    "print(len(set_cash_flow - set_balance))\n",
    "with open(data_path + 'absence/cash_flow-balance.txt', 'w') as f:\n",
    "    f.write('Total: {}\\n'.format(len(set_cash_flow - set_balance)))\n",
    "    f.write('-' * 50 + '\\n')\n",
    "    for i in sorted(list(set_cash_flow - set_balance)):\n",
    "        f.write(str(i) + '\\n')"
   ]
  },
  {
   "cell_type": "code",
   "execution_count": null,
   "metadata": {},
   "outputs": [],
   "source": []
  },
  {
   "cell_type": "code",
   "execution_count": null,
   "metadata": {},
   "outputs": [],
   "source": []
  },
  {
   "cell_type": "code",
   "execution_count": null,
   "metadata": {},
   "outputs": [],
   "source": []
  },
  {
   "cell_type": "code",
   "execution_count": null,
   "metadata": {},
   "outputs": [],
   "source": []
  },
  {
   "cell_type": "code",
   "execution_count": null,
   "metadata": {},
   "outputs": [],
   "source": [
    "df_income = pd.read_csv('../../data/financial_statements/normalized_l2/csv/income_bank.csv')\n",
    "df_income['ticker'] = df_income['ticker'].apply(lambda x: str(x).zfill(6))\n",
    "df_income = df_income[df_income['endDate'].apply(lambda x: str(x)[-6:]=='-12-31')]\n",
    "df_income.drop_duplicates(subset=['ticker', 'endDate'], keep='last', inplace=True)\n",
    "df_income['endDate'] = df_income['endDate'].apply(lambda x: int(x[:4]))\n",
    "\n",
    "df_income.set_index(['endDate', 'ticker'], inplace=True)\n",
    "df_income.index.names = [None, 'TICKER']\n",
    "\n",
    "df_income_r = df_income[['revenue']]"
   ]
  },
  {
   "cell_type": "code",
   "execution_count": null,
   "metadata": {},
   "outputs": [],
   "source": [
    "df_income_r = df_income_r.unstack(1).T\n",
    "df_income_r.reset_index(inplace=True)\n",
    "df_income_r = df_income_r.drop(columns=['level_0'])\n",
    "df_income_r.set_index('TICKER', inplace=True)\n",
    "df_income_r.to_csv('revenue.csv', index=True)"
   ]
  },
  {
   "cell_type": "code",
   "execution_count": null,
   "metadata": {},
   "outputs": [],
   "source": [
    "df_income_r.head()"
   ]
  },
  {
   "cell_type": "code",
   "execution_count": null,
   "metadata": {},
   "outputs": [],
   "source": [
    "len(df_income_r.index.values) == len(df_income_r.dropna(how='all').index.values)"
   ]
  },
  {
   "cell_type": "code",
   "execution_count": null,
   "metadata": {},
   "outputs": [],
   "source": [
    "len(df_income_r.index.values)"
   ]
  },
  {
   "cell_type": "code",
   "execution_count": null,
   "metadata": {},
   "outputs": [],
   "source": [
    "df_income_r_neg = df_income_r.apply(lambda x: x<0)\n",
    "df_income_r_neg_list = pd.DataFrame(columns=('TICKER', 'YEARS'))\n",
    "for t, r in df_income_r_neg.iterrows():\n",
    "    neg_list = []\n",
    "    for k in r.keys():\n",
    "        if r[k]:\n",
    "            neg_list.append(k)\n",
    "    if neg_list:\n",
    "        df_income_r_neg_list = df_income_r_neg_list.append(\n",
    "            pd.DataFrame({'TICKER': [t], 'YEARS': [neg_list]}), ignore_index=True)\n",
    "# df_income_r_neg_list.to_csv('../../data/revenue/revenue_neg_years.csv', index=False)\n",
    "df_income_r_neg_list.head()"
   ]
  },
  {
   "cell_type": "code",
   "execution_count": null,
   "metadata": {},
   "outputs": [],
   "source": [
    "df_income_r_count_list = pd.DataFrame(columns=('TICKER', 'COUNTS', 'YEARS'))\n",
    "df_income_r_not_ct_list = pd.DataFrame(columns=('TICKER', 'YEARS'))\n",
    "for t, r in df_income_r.iterrows():\n",
    "    r = r.notnull()\n",
    "    counts = sum(r)\n",
    "    years_list = []\n",
    "    for k in r.keys():\n",
    "        if r[k]:\n",
    "            years_list.append(k)\n",
    "    df_income_r_count_list = df_income_r_count_list.append(\n",
    "        pd.DataFrame({'TICKER': [t], 'COUNTS': [counts], 'YEARS': [years_list]}), ignore_index=True)\n",
    "    if not years_list:\n",
    "        print(code)\n",
    "    if years_list[-1] - years_list[0] != counts - 1:\n",
    "        df_income_r_not_ct_list = df_income_r_not_ct_list.append(\n",
    "            pd.DataFrame({'TICKER': [code], 'YEARS': [years_list]}), ignore_index=True)\n",
    "df_income_r_count_list.to_csv('../../data/revenue/revenue_counts.csv', index=False)\n",
    "df_income_r_not_ct_list.to_csv('../../data/revenue/revenue_discontinuous.csv', index=False)\n",
    "df_income_r_count_list.head()"
   ]
  },
  {
   "cell_type": "code",
   "execution_count": null,
   "metadata": {},
   "outputs": [],
   "source": [
    "df_income_r_not_ct_list.head()"
   ]
  },
  {
   "cell_type": "code",
   "execution_count": null,
   "metadata": {},
   "outputs": [],
   "source": [
    "import pandas as pd\n",
    "df = pd.read_csv('../../data/financial_statements/original/12_FdmtCFBankLT2018_(新)银行业现金流量表(所有会计期末最新披露)/FdmtCFBankLT2018_A.csv')\n",
    "df[df['ticker']==601963]"
   ]
  },
  {
   "cell_type": "code",
   "execution_count": null,
   "metadata": {},
   "outputs": [],
   "source": [
    "import pandas as pd\n",
    "df = pd.read_csv('../../data/financial_statements/original/14_FdmtCFInduLT2018_(新)一般工商业现金流量表(所有会计期末最新披露)/FdmtCFInduLT2018_A.csv')\n",
    "df[df['ticker']==300307]"
   ]
  },
  {
   "cell_type": "code",
   "execution_count": null,
   "metadata": {},
   "outputs": [],
   "source": [
    "df = pd.read_csv('../../data/financial_statements/original/12_FdmtCFBankLT2018_(新)银行业现金流量表(所有会计期末最新披露)/FdmtCFBankLT2018_A.csv')"
   ]
  },
  {
   "cell_type": "code",
   "execution_count": null,
   "metadata": {},
   "outputs": [],
   "source": [
    "df_income_pit = pd.read_csv('../../data/financial_statements_pit/original/3_FdmtCFInsu2018_(新)保险业现金流量表 (Point in time).csv')\n",
    "# df_income_pit = df_income_pit[df_income.columns]\n",
    "df_income_pit.shape"
   ]
  },
  {
   "cell_type": "code",
   "execution_count": null,
   "metadata": {},
   "outputs": [],
   "source": [
    "df[(df['ticker']==688699) & (df['endDate']=='2019-09-30')]"
   ]
  },
  {
   "cell_type": "code",
   "execution_count": null,
   "metadata": {},
   "outputs": [],
   "source": [
    "import pandas as pd\n",
    "%matplotlib inline\n",
    "pd.set_option('display.max_rows', None)\n",
    "pd.set_option('display.max_columns', None)\n",
    "df = pd.read_csv('../../data/financial_statements/original/14_FdmtCFInduLT2018_(新)一般工商业现金流量表(所有会计期末最新披露).csv')\n",
    "df_Q3_3 = df[df['reportType']=='Q3'].groupby(['ticker', 'endDate', 'endDateRep']).apply(lambda x: 9 not in set(x['fiscalPeriod']))"
   ]
  },
  {
   "cell_type": "code",
   "execution_count": null,
   "metadata": {},
   "outputs": [],
   "source": [
    "df_Q3_3.iloc[0] = True\n",
    "df_Q3_3.iloc[2] = True"
   ]
  },
  {
   "cell_type": "code",
   "execution_count": null,
   "metadata": {},
   "outputs": [],
   "source": [
    "df_Q3_3_not_9 = []\n",
    "for t, ed, edr in df_Q3_3[df_Q3_3.values].index.to_list():\n",
    "    df_Q3_3_not_9.append(\n",
    "        df[(df['ticker']==t) \\\n",
    "        & (df['endDate']==ed) \\\n",
    "        & (df['endDateRep']==edr)])"
   ]
  },
  {
   "cell_type": "code",
   "execution_count": null,
   "metadata": {},
   "outputs": [],
   "source": [
    "df_Q3_3[df_Q3_3.values].index.to_list()"
   ]
  },
  {
   "cell_type": "code",
   "execution_count": null,
   "metadata": {},
   "outputs": [],
   "source": [
    "pd.concat(df_Q3_3_not_9)"
   ]
  },
  {
   "cell_type": "code",
   "execution_count": null,
   "metadata": {},
   "outputs": [],
   "source": [
    "import pandas as pd\n",
    "df_income = pd.read_csv('../../data/financial_statements/original/6_FdmtBSBankLT2018_(新)银行业资产负债表(所有会计期末最新披露).csv')\n",
    "df_income_pit = pd.read_csv('../../data/financial_statements_pit/original/7_FdmtBsBank2018_(新)银行业资产负债表 (Point in time).csv')\n",
    "print(sorted(list(set(df_income.columns) - set(df_income_pit.columns))))\n",
    "print(sorted(list(set(df_income_pit.columns) - set(df_income.columns))))\n",
    "print(len(sorted(list(set(df_income.columns) - set(df_income_pit.columns)))))\n",
    "print(len(sorted(list(set(df_income_pit.columns) - set(df_income.columns)))))"
   ]
  },
  {
   "cell_type": "code",
   "execution_count": null,
   "metadata": {},
   "outputs": [],
   "source": [
    "import pandas as pd\n",
    "df_income = pd.read_csv('../../data/financial_statements/original/12_FdmtCFBankLT2018_(新)银行业现金流量表(所有会计期末最新披露).csv')\n",
    "df_income_pit = pd.read_csv('../../data/financial_statements_pit/original/1_FdmtCFBank2018_(新)银行业现金流量表 (Point in time).csv')\n",
    "print('df_income.columns:', len(set(df_income.columns)), '\\n')\n",
    "print('df_income.columns - df_income_pit.columns:\\n\\n', sorted(list(set(df_income.columns) - set(df_income_pit.columns))), '\\n')\n",
    "print(len(sorted(list(set(df_income.columns) - set(df_income_pit.columns)))), '\\n')\n",
    "print('----------------------------------------')\n",
    "print('df_income_pit.columns:', len(set(df_income_pit.columns)), '\\n')\n",
    "print('df_income_pit.columns - df_income.columns:\\n\\n', sorted(list(set(df_income_pit.columns) - set(df_income.columns))), '\\n')\n",
    "print(len(sorted(list(set(df_income_pit.columns) - set(df_income.columns)))), '\\n')"
   ]
  },
  {
   "cell_type": "code",
   "execution_count": null,
   "metadata": {},
   "outputs": [],
   "source": [
    "set_income = set()\n",
    "for _, row in df_income.iterrows():\n",
    "    set_income.add((row['ticker'], row['secShortName'], row['endDate']))\n",
    "set_income_pit = set()\n",
    "for _, row in df_income_pit.iterrows():\n",
    "    set_income_pit.add((row['ticker'], row['secShortName'], row['endDate']))"
   ]
  },
  {
   "cell_type": "code",
   "execution_count": null,
   "metadata": {},
   "outputs": [],
   "source": [
    "set_income - set_income_pit"
   ]
  },
  {
   "cell_type": "code",
   "execution_count": null,
   "metadata": {},
   "outputs": [],
   "source": [
    "df_income.shape"
   ]
  },
  {
   "cell_type": "code",
   "execution_count": null,
   "metadata": {},
   "outputs": [],
   "source": [
    "df_income.compare(df_income_pit[df_income.columns])"
   ]
  },
  {
   "cell_type": "code",
   "execution_count": null,
   "metadata": {},
   "outputs": [],
   "source": [
    "df_income_pit[df_income.columns].columns == df_income.columns"
   ]
  },
  {
   "cell_type": "code",
   "execution_count": null,
   "metadata": {},
   "outputs": [],
   "source": [
    "df_income.head()"
   ]
  },
  {
   "cell_type": "code",
   "execution_count": null,
   "metadata": {},
   "outputs": [],
   "source": [
    "df_income_pit[df_income.columns].head()"
   ]
  },
  {
   "cell_type": "code",
   "execution_count": null,
   "metadata": {},
   "outputs": [],
   "source": [
    "df1 = pd.read_csv('../../data/financial_statements_pit/original/11_FdmtISBank2018_(新)银行业利润表 (Point in time).csv')"
   ]
  },
  {
   "cell_type": "code",
   "execution_count": null,
   "metadata": {},
   "outputs": [],
   "source": [
    "df1 = df1 = df1[df1['endDate'] >= '2011-01-01']"
   ]
  },
  {
   "cell_type": "code",
   "execution_count": null,
   "metadata": {},
   "outputs": [],
   "source": [
    "df1.sort_values(by=['ticker', 'endDate']).loc[[61, 63, 64, 66]]"
   ]
  },
  {
   "cell_type": "code",
   "execution_count": null,
   "metadata": {},
   "outputs": [],
   "source": [
    "df2 = df1.duplicated(subset=['endDate', 'endDateRep', 'actPubtime'], keep='all')"
   ]
  },
  {
   "cell_type": "code",
   "execution_count": null,
   "metadata": {},
   "outputs": [],
   "source": [
    "df2"
   ]
  }
 ]
}