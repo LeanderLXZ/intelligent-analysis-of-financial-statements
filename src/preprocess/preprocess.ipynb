{
 "metadata": {
  "language_info": {
   "codemirror_mode": {
    "name": "ipython",
    "version": 3
   },
   "file_extension": ".py",
   "mimetype": "text/x-python",
   "name": "python",
   "nbconvert_exporter": "python",
   "pygments_lexer": "ipython3",
   "version": "3.7.10"
  },
  "orig_nbformat": 2,
  "kernelspec": {
   "name": "python3710jvsc74a57bd00e1c4d3dcea8496d4d1b6010947b7e6014dd55142f121b004263eb1e901003ed",
   "display_name": "Python 3.7.6 64-bit ('base': conda)"
  }
 },
 "nbformat": 4,
 "nbformat_minor": 2,
 "cells": [
  {
   "cell_type": "code",
   "execution_count": 2,
   "metadata": {},
   "outputs": [],
   "source": [
    "import os\n",
    "import re\n",
    "import pandas as pd\n",
    "import numpy as np\n",
    "from os.path import join\n",
    "%matplotlib inline\n",
    "pd.set_option('display.max_rows', None)\n",
    "pd.set_option('display.max_columns', None)"
   ]
  },
  {
   "source": [
    "# Delist companies list\n",
    "***"
   ],
   "cell_type": "markdown",
   "metadata": {}
  },
  {
   "cell_type": "code",
   "execution_count": 19,
   "metadata": {},
   "outputs": [
    {
     "output_type": "execute_result",
     "data": {
      "text/plain": [
       "    TICKER STOCK_NAME DELIST_DATE\n",
       "2   000003      PT金田A  2002-06-14\n",
       "12  000013     *ST石化A  2004-09-20\n",
       "14  000015      PT中浩A  2001-10-22\n",
       "17  000018       神城A退  2020-01-07\n",
       "21  000022       深赤湾A  2018-12-26"
      ],
      "text/html": "<div>\n<style scoped>\n    .dataframe tbody tr th:only-of-type {\n        vertical-align: middle;\n    }\n\n    .dataframe tbody tr th {\n        vertical-align: top;\n    }\n\n    .dataframe thead th {\n        text-align: right;\n    }\n</style>\n<table border=\"1\" class=\"dataframe\">\n  <thead>\n    <tr style=\"text-align: right;\">\n      <th></th>\n      <th>TICKER</th>\n      <th>STOCK_NAME</th>\n      <th>DELIST_DATE</th>\n    </tr>\n  </thead>\n  <tbody>\n    <tr>\n      <th>2</th>\n      <td>000003</td>\n      <td>PT金田A</td>\n      <td>2002-06-14</td>\n    </tr>\n    <tr>\n      <th>12</th>\n      <td>000013</td>\n      <td>*ST石化A</td>\n      <td>2004-09-20</td>\n    </tr>\n    <tr>\n      <th>14</th>\n      <td>000015</td>\n      <td>PT中浩A</td>\n      <td>2001-10-22</td>\n    </tr>\n    <tr>\n      <th>17</th>\n      <td>000018</td>\n      <td>神城A退</td>\n      <td>2020-01-07</td>\n    </tr>\n    <tr>\n      <th>21</th>\n      <td>000022</td>\n      <td>深赤湾A</td>\n      <td>2018-12-26</td>\n    </tr>\n  </tbody>\n</table>\n</div>"
     },
     "metadata": {},
     "execution_count": 19
    }
   ],
   "source": [
    "# Read halt information CSV\n",
    "date = '20210611'\n",
    "df_info = pd.read_csv('../../data/stocks_information/stocks_info-{}.csv'.format(date))\n",
    "\n",
    "# Copy halt dataframe\n",
    "df_delist = df_info.copy()\n",
    "\n",
    "# Get delist stocks\n",
    "# df_delist = df_delist[df_delist['listStatusCD'] == 'DE']\n",
    "df_delist = df_delist[(df_delist['listStatusCD'] == 'DE') & (df_delist['ticker'].apply(lambda x: len(x) == 6))]\n",
    "\n",
    "# Drop columns\n",
    "df_delist = df_delist[['ticker', 'secShortName', 'delistDate']]\n",
    "\n",
    "# Normalize ticker\n",
    "df_delist['ticker'] = df_delist['ticker'].apply(lambda x: str(x).zfill(6))\n",
    "\n",
    "# Delete duplicates (with different halt dates)\n",
    "df_delist.drop_duplicates(inplace=True)\n",
    "\n",
    "# Normalize ticker\n",
    "df_delist = df_delist.rename(columns={\n",
    "    'ticker': 'TICKER',\n",
    "    'secShortName': 'STOCK_NAME',\n",
    "    'delistDate': 'DELIST_DATE'\n",
    "})\n",
    "df_delist = df_delist.sort_values(by='TICKER')\n",
    "\n",
    "# Save dataframe\n",
    "df_delist.to_csv('../../data/stocks_information/delist-{}.csv'.format(date), index=False)\n",
    "df_delist.to_excel('../../data/stocks_information/delist-{}.xlsx'.format(date), index=False)\n",
    "\n",
    "df_delist.head()"
   ]
  },
  {
   "cell_type": "code",
   "execution_count": 4,
   "metadata": {},
   "outputs": [
    {
     "output_type": "execute_result",
     "data": {
      "text/plain": [
       "(141, 3)"
      ]
     },
     "metadata": {},
     "execution_count": 4
    }
   ],
   "source": [
    "df_delist.shape"
   ]
  },
  {
   "cell_type": "code",
   "execution_count": 3,
   "metadata": {},
   "outputs": [
    {
     "output_type": "stream",
     "name": "stderr",
     "text": [
      "/home/leander/anaconda3/lib/python3.7/site-packages/IPython/core/interactiveshell.py:3166: DtypeWarning: Columns (3) have mixed types.Specify dtype option on import or set low_memory=False.\n  interactivity=interactivity, compiler=compiler, result=result)\n"
     ]
    },
    {
     "output_type": "execute_result",
     "data": {
      "text/plain": [
       "      TICKER STOCK_NAME DELIST_DATE\n",
       "819   000018       神城A退  2020-01-07\n",
       "1100  000024       招商地产  2015-12-30\n",
       "1581  000033        新都退  2017-07-07\n",
       "4094  000406       石油大明  2006-04-21\n",
       "4631  000418       小天鹅A  2019-06-21"
      ],
      "text/html": "<div>\n<style scoped>\n    .dataframe tbody tr th:only-of-type {\n        vertical-align: middle;\n    }\n\n    .dataframe tbody tr th {\n        vertical-align: top;\n    }\n\n    .dataframe thead th {\n        text-align: right;\n    }\n</style>\n<table border=\"1\" class=\"dataframe\">\n  <thead>\n    <tr style=\"text-align: right;\">\n      <th></th>\n      <th>TICKER</th>\n      <th>STOCK_NAME</th>\n      <th>DELIST_DATE</th>\n    </tr>\n  </thead>\n  <tbody>\n    <tr>\n      <th>819</th>\n      <td>000018</td>\n      <td>神城A退</td>\n      <td>2020-01-07</td>\n    </tr>\n    <tr>\n      <th>1100</th>\n      <td>000024</td>\n      <td>招商地产</td>\n      <td>2015-12-30</td>\n    </tr>\n    <tr>\n      <th>1581</th>\n      <td>000033</td>\n      <td>新都退</td>\n      <td>2017-07-07</td>\n    </tr>\n    <tr>\n      <th>4094</th>\n      <td>000406</td>\n      <td>石油大明</td>\n      <td>2006-04-21</td>\n    </tr>\n    <tr>\n      <th>4631</th>\n      <td>000418</td>\n      <td>小天鹅A</td>\n      <td>2019-06-21</td>\n    </tr>\n  </tbody>\n</table>\n</div>"
     },
     "metadata": {},
     "execution_count": 3
    }
   ],
   "source": [
    "# # Read halt information CSV\n",
    "# date = '20210417'\n",
    "# df_halt = pd.read_csv('../../data/stocks_information/halt_{}.csv'.format(date))\n",
    "\n",
    "# # Copy halt dataframe\n",
    "# df_delist = df_halt.copy()\n",
    "\n",
    "# # Get delist stocks\n",
    "# df_delist = df_delist[df_delist['listStatusCD'] == 'DE']\n",
    "\n",
    "# # Drop columns\n",
    "# df_delist.drop(columns=['secID', 'haltBeginTime', 'haltEndTime', 'exchangeCD', 'listStatusCD', 'assetClass'], inplace=True)\n",
    "\n",
    "# # Normalize ticker\n",
    "# df_delist['ticker'] = df_delist['ticker'].apply(lambda x: str(x).zfill(6))\n",
    "\n",
    "# # Delete duplicates (with different halt dates)\n",
    "# df_delist.drop_duplicates(inplace=True)\n",
    "\n",
    "# # Normalize ticker\n",
    "# df_delist = df_delist.rename(columns={\n",
    "#     'ticker': 'TICKER',\n",
    "#     'secShortName': 'STOCK_NAME',\n",
    "#     'delistDate': 'DELIST_DATE'\n",
    "# })\n",
    "# df_delist = df_delist.sort_values(by='TICKER')\n",
    "\n",
    "# # Save dataframe\n",
    "# df_delist.to_csv('../../data/stocks_information/delist_{}.csv'.format(date), index=False)\n",
    "# df_delist.to_excel('../../data/stocks_information/delist_{}.xlsx'.format(date), index=False)\n",
    "\n",
    "# df_delist.head()"
   ]
  },
  {
   "source": [
    "# ST companies list\n",
    "***"
   ],
   "cell_type": "markdown",
   "metadata": {}
  },
  {
   "cell_type": "code",
   "execution_count": 5,
   "metadata": {},
   "outputs": [],
   "source": [
    "# Read ST information CSV\n",
    "date = '20210611'\n",
    "df_st = pd.read_csv('../../data/stocks_information/st-{}.csv'.format(date), index_col=0)\n",
    "\n",
    "# Normalize ticker\n",
    "df_st['ticker'] = df_st['ticker'].apply(lambda x: str(x).zfill(6))\n",
    "\n",
    "# Get the set of stocks\n",
    "stocks = set(i for i in zip(df_st['ticker'], df_st['STflg'], df_st['tradeAbbrName']))\n",
    "\n",
    "# Extract start date and end date of the ST duration\n",
    "df_st_duration = pd.DataFrame(columns=('TICKER', 'STOCK_NAME', 'START_DATE', 'END_DATE', 'ST_FLAG'))\n",
    "for t, s, n in stocks:\n",
    "    df_i = df_st[(df_st['ticker'] == t) & (df_st['STflg'] == s)]\n",
    "    dates_i = df_i['tradeDate'].sort_values().values\n",
    "    start_date, end_date = dates_i[0], dates_i[-1]\n",
    "    df_st_duration = df_st_duration.append(pd.DataFrame({\n",
    "        'TICKER': [t], \n",
    "        'STOCK_NAME': [n], \n",
    "        'START_DATE': [start_date], \n",
    "        'END_DATE': [end_date], \n",
    "        'ST_FLAG': [s]\n",
    "    }), ignore_index=True)\n",
    "df_st_duration = df_st_duration.sort_values(by='TICKER')\n",
    "\n",
    "# Save dataframe\n",
    "df_st_duration.to_csv('../../data/stocks_information/st_duration-{}.csv'.format(date), index=False)\n",
    "df_st_duration.to_excel('../../data/stocks_information/st_duration-{}.xlsx'.format(date), index=False)\n",
    "\n",
    "df_st_duration.head()"
   ]
  },
  {
   "cell_type": "code",
   "execution_count": null,
   "metadata": {},
   "outputs": [],
   "source": [
    "set(df_st['STflg'])"
   ]
  },
  {
   "cell_type": "code",
   "execution_count": null,
   "metadata": {},
   "outputs": [],
   "source": [
    "print('S: ', len(set(df_st[df_st['STflg'] == 'S']['secID'])))\n",
    "print('*: ', len(set(df_st[df_st['STflg'] == '*']['secID'])))\n",
    "print('ST: ', len(set(df_st[df_st['STflg'] == 'ST']['secID'])))\n",
    "print('*ST: ', len(set(df_st[df_st['STflg'] == '*ST']['secID'])))\n",
    "print('SST: ', len(set(df_st[df_st['STflg'] == 'SST']['secID'])))\n",
    "print('S*ST: ', len(set(df_st[df_st['STflg'] == 'S*ST']['secID'])))\n",
    "print('Total: ', len(set(df_st['secID'])))\n"
   ]
  },
  {
   "cell_type": "code",
   "execution_count": null,
   "metadata": {},
   "outputs": [],
   "source": [
    "orig_path = 'data/financial_statements_pit/original/csv'\n",
    "\n",
    "for cn_name, en_name in self.cn_to_en.items():\n",
    "    print(cn_name, en_name)\n",
    "    df = pd.read_csv(join(orig_path, cn_name) + '.csv')\n",
    "\n",
    "    # Nomalize ticker\n",
    "    df['ticker'] = df['ticker'].apply(lambda x: str(x).zfill(6))\n",
    "\n",
    "    # Delete Companies\n",
    "    df.drop(df[df['ticker'].apply(\n",
    "        lambda x: (x[0] in ['9', 'A', '2']) | (x in self.drop_list)\n",
    "    )].index, inplace=True\n",
    "\n",
    "    df = df.sort_values(\n",
    "        by=['ticker', 'endDate', 'endDateRep', 'actPubtime', 'fiscalPeriod'], \n",
    "        ascending=[True, True, True, True, True]\n",
    "    )"
   ]
  },
  {
   "source": [
    "# Preprocessing\n",
    "***"
   ],
   "cell_type": "markdown",
   "metadata": {}
  },
  {
   "cell_type": "code",
   "execution_count": 5,
   "metadata": {},
   "outputs": [],
   "source": [
    "from preprocess import DataPreprocess"
   ]
  },
  {
   "cell_type": "code",
   "execution_count": 6,
   "metadata": {},
   "outputs": [
    {
     "output_type": "stream",
     "name": "stdout",
     "text": [
      "income_bank\n",
      "income_insurance\n",
      "income_security\n",
      "income_industry\n",
      "balance_bank\n",
      "balance_insurance\n",
      "balance_security\n",
      "balance_industry\n",
      "cash_flow_bank\n",
      "cash_flow_insurance\n",
      "cash_flow_security\n",
      "cash_flow_industry\n",
      "----------------------------------------------------------------------\n",
      "income_bank\n",
      "----------------------------------------------------------------------\n",
      "income_insurance\n",
      "----------------------------------------------------------------------\n",
      "income_security\n",
      "----------------------------------------------------------------------\n",
      "income_industry\n",
      "----------------------------------------------------------------------\n",
      "balance_bank\n",
      "----------------------------------------------------------------------\n",
      "balance_insurance\n",
      "----------------------------------------------------------------------\n",
      "balance_security\n",
      "----------------------------------------------------------------------\n",
      "balance_industry\n",
      "----------------------------------------------------------------------\n",
      "cash_flow_bank\n",
      "----------------------------------------------------------------------\n",
      "cash_flow_insurance\n",
      "----------------------------------------------------------------------\n",
      "cash_flow_security\n",
      "----------------------------------------------------------------------\n",
      "cash_flow_industry\n"
     ]
    }
   ],
   "source": [
    "delete_list = set(df_delist['TICKER'])\n",
    "\n",
    "DataPreprocess(\n",
    "    '../../data/financial_statements/',\n",
    "    '../../data/financial_statements/',\n",
    "    delete_list\n",
    ").process_l1()\n",
    "\n",
    "DataPreprocess(\n",
    "    '../../data/financial_statements/',\n",
    "    '../../data/financial_statements/',\n",
    "    delete_list\n",
    ").process_l2()"
   ]
  },
  {
   "source": [
    "# Compare PIT"
   ],
   "cell_type": "markdown",
   "metadata": {}
  },
  {
   "cell_type": "code",
   "execution_count": 3,
   "metadata": {},
   "outputs": [
    {
     "output_type": "stream",
     "name": "stdout",
     "text": [
      "File: income_bank\n",
      "----------\n",
      "Non-PIT shape: (1120, 2)\n",
      "PIT shape: (1114, 2)\n",
      "----------\n",
      "In Non-PIT but not in PIT:\n",
      "======================================================================\n",
      "File: income_insurance\n",
      "----------\n",
      "Non-PIT shape: (216, 2)\n",
      "PIT shape: (216, 2)\n",
      "======================================================================\n",
      "File: income_security\n",
      "----------\n",
      "Non-PIT shape: (1192, 2)\n",
      "PIT shape: (1191, 2)\n",
      "----------\n",
      "In Non-PIT but not in PIT:\n",
      "======================================================================\n",
      "File: income_industry\n",
      "----------\n",
      "Non-PIT shape: (125766, 2)\n",
      "PIT shape: (124398, 2)\n",
      "----------\n",
      "In Non-PIT but not in PIT:\n",
      "----------\n",
      "In PIT but not in Non-PIT:\n",
      "======================================================================\n",
      "File: balance_bank\n",
      "----------\n",
      "Non-PIT shape: (1033, 2)\n",
      "PIT shape: (1033, 2)\n",
      "======================================================================\n",
      "File: balance_insurance\n",
      "----------\n",
      "Non-PIT shape: (188, 2)\n",
      "PIT shape: (188, 2)\n",
      "======================================================================\n",
      "File: balance_security\n",
      "----------\n",
      "Non-PIT shape: (1121, 2)\n",
      "PIT shape: (1122, 2)\n",
      "----------\n",
      "In PIT but not in Non-PIT:\n",
      "======================================================================\n",
      "File: balance_industry\n",
      "----------\n",
      "Non-PIT shape: (120154, 2)\n",
      "PIT shape: (121376, 2)\n",
      "----------\n",
      "In PIT but not in Non-PIT:\n",
      "======================================================================\n",
      "File: cash_flow_bank\n",
      "----------\n",
      "Non-PIT shape: (1091, 2)\n",
      "PIT shape: (1085, 2)\n",
      "----------\n",
      "In Non-PIT but not in PIT:\n",
      "======================================================================\n",
      "File: cash_flow_insurance\n",
      "----------\n",
      "Non-PIT shape: (214, 2)\n",
      "PIT shape: (27908, 2)\n",
      "----------\n",
      "In Non-PIT but not in PIT:\n",
      "----------\n",
      "In PIT but not in Non-PIT:\n",
      "======================================================================\n",
      "File: cash_flow_security\n",
      "----------\n",
      "Non-PIT shape: (1230, 2)\n",
      "PIT shape: (1229, 2)\n",
      "----------\n",
      "In Non-PIT but not in PIT:\n",
      "======================================================================\n",
      "File: cash_flow_industry\n",
      "----------\n",
      "Non-PIT shape: (108919, 2)\n",
      "PIT shape: (124343, 2)\n",
      "----------\n",
      "In Non-PIT but not in PIT:\n",
      "----------\n",
      "In PIT but not in Non-PIT:\n",
      "======================================================================\n"
     ]
    }
   ],
   "source": [
    "# import pandas as pd\n",
    "# from os.path import join\n",
    "\n",
    "# # Check if directories exit or not\n",
    "# def check_dirs(path_list):\n",
    "#     for dir_path in path_list:\n",
    "#         if not os.path.isdir(dir_path):\n",
    "#             os.makedirs(dir_path)\n",
    "\n",
    "# df_cn_en = pd.read_csv('../../data/financial_statements/cn_to_en.csv')\n",
    "# cn_to_en = {c: e for c, e in zip(df_cn_en['cn_name'], df_cn_en['en_name'])}\n",
    "\n",
    "# save_path = '../../data/comparison'\n",
    "# check_dirs([save_path])\n",
    "# check_dirs([join(save_path, 'in-PIT-not-in-Non-PIT')])\n",
    "# check_dirs([join(save_path, 'in-Non-PIT-not-in-PIT')])\n",
    "\n",
    "# for cn_name, en_name in cn_to_en.items():\n",
    "#     print('File:', en_name)\n",
    "\n",
    "#     df_non_pit_orig = pd.read_csv('../../data/financial_statements/normalized_l2/csv/' + en_name + '.csv')\n",
    "#     df_pit_orig = pd.read_csv('../../data/financial_statements_pit/normalized_l2/csv/' + en_name + '_pit.csv')\n",
    "\n",
    "#     # Nomalize ticker\n",
    "#     df_non_pit_orig['ticker'] = df_non_pit_orig['ticker'].apply(lambda x: str(x).zfill(6))\n",
    "#     df_pit_orig['ticker'] = df_pit_orig['ticker'].apply(lambda x: str(x).zfill(6))\n",
    "    \n",
    "#     df_non_pit = df_non_pit_orig[['ticker', 'endDate']]\n",
    "#     df_pit = df_pit_orig[['ticker', 'endDate']]\n",
    "\n",
    "#     set_non_pit = set()\n",
    "#     for _, row in df_non_pit.iterrows():\n",
    "#         set_non_pit.add((\n",
    "#             row['ticker'], \n",
    "#             row['endDate']\n",
    "#         ))\n",
    "#     set_pit = set()\n",
    "#     for _, row in df_pit.iterrows():\n",
    "#         set_pit.add((\n",
    "#             row['ticker'], \n",
    "#             row['endDate']\n",
    "#         ))\n",
    "\n",
    "#     print('-' * 10)\n",
    "#     print('Non-PIT shape:', df_non_pit.shape)\n",
    "#     print('PIT shape:', df_pit.shape)\n",
    "#     if set_non_pit - set_pit:\n",
    "#         print('-' * 10)\n",
    "#         print('In Non-PIT but not in PIT:')\n",
    "#         df_in_non_pit = []\n",
    "#         for i in set_non_pit - set_pit:\n",
    "#             # print(i)\n",
    "#             df_in_non_pit.append(\n",
    "#                 df_non_pit_orig[(df_non_pit_orig['ticker'] == i[0]) & (df_non_pit_orig['endDate'] == i[1])])\n",
    "#         df_in_non_pit = pd.concat(df_in_non_pit)\n",
    "#         df_in_non_pit = df_in_non_pit.sort_values(by='ticker')\n",
    "#         df_in_non_pit.to_excel(join(join(save_path, 'in-Non-PIT-not-in-PIT'), en_name + '.xlsx'), index=False)\n",
    "#     if set_pit - set_non_pit:\n",
    "#         print('-' * 10)\n",
    "#         print('In PIT but not in Non-PIT:')\n",
    "#         df_in_pit = []\n",
    "#         for i in set_pit - set_non_pit:\n",
    "#             # print(i)\n",
    "#             df_in_pit.append(\n",
    "#                 df_pit_orig[(df_pit_orig['ticker'] == i[0]) & (df_pit_orig['endDate'] == i[1])])\n",
    "#         df_in_pit = pd.concat(df_in_pit)\n",
    "#         df_in_pit = df_in_pit.sort_values(by='ticker')\n",
    "#         df_in_pit.to_excel(join(join(save_path, 'in-PIT-not-in-Non-PIT'), en_name + '.xlsx'), index=False)\n",
    "#     print('=' * 70)"
   ]
  },
  {
   "source": [
    "# Find zeros\n",
    "***"
   ],
   "cell_type": "markdown",
   "metadata": {}
  },
  {
   "cell_type": "code",
   "execution_count": 7,
   "metadata": {},
   "outputs": [
    {
     "output_type": "stream",
     "name": "stdout",
     "text": [
      "File: income_bank\n",
      "File: income_insurance\n",
      "File: income_security\n",
      "File: income_industry\n",
      "File: balance_bank\n",
      "File: balance_insurance\n",
      "File: balance_security\n",
      "File: balance_industry\n",
      "File: cash_flow_bank\n",
      "File: cash_flow_insurance\n",
      "File: cash_flow_security\n",
      "File: cash_flow_industry\n"
     ]
    }
   ],
   "source": [
    "import pandas as pd\n",
    "from os.path import join\n",
    "\n",
    "# Check if directories exit or not\n",
    "def check_dirs(path_list):\n",
    "    for dir_path in path_list:\n",
    "        if not os.path.isdir(dir_path):\n",
    "            os.makedirs(dir_path)\n",
    "\n",
    "data_path = '../../data/financial_statements/'\n",
    "\n",
    "df_cn_en = pd.read_csv(join(data_path, 'cn_to_en.csv'))\n",
    "cn_to_en = {c: e for c, e in zip(df_cn_en['cn_name'], df_cn_en['en_name'])}\n",
    "\n",
    "save_path = join(data_path, 'normalized_l2/zeros')\n",
    "check_dirs([save_path])\n",
    "\n",
    "for en_name in cn_to_en.values():\n",
    "    print('File:', en_name)\n",
    "    df = pd.read_csv(join(join(data_path, 'normalized_l2/csv'), en_name) + '.csv')\n",
    "    df_zero = []\n",
    "    for _, row in df.iterrows():\n",
    "        for k, v in row.items():\n",
    "            if v == 0:\n",
    "                df_zero.append(row)\n",
    "    if df_zero:\n",
    "        df_zero = pd.concat(df_zero, axis=1).T\n",
    "        df_zero.to_excel(join(save_path, en_name) + '.xlsx', index=False)"
   ]
  },
  {
   "cell_type": "code",
   "execution_count": 7,
   "metadata": {},
   "outputs": [],
   "source": [
    "# import pandas as pd\n",
    "# from os.path import join\n",
    "\n",
    "# # Check if directories exit or not\n",
    "# def check_dirs(path_list):\n",
    "#     for dir_path in path_list:\n",
    "#         if not os.path.isdir(dir_path):\n",
    "#             os.makedirs(dir_path)\n",
    "\n",
    "# data_path = '../../data/financial_statements_pit/'\n",
    "\n",
    "# df_cn_en = pd.read_csv(join(data_path, 'cn_to_en.csv'))\n",
    "# cn_to_en = {c: e for c, e in zip(df_cn_en['cn_name'], df_cn_en['en_name'])}\n",
    "\n",
    "# save_path = join(data_path, 'normalized_l2/zeros')\n",
    "# check_dirs([save_path])\n",
    "\n",
    "# for en_name in cn_to_en.values():\n",
    "#     print('File:', en_name)\n",
    "#     df = pd.read_csv(join(join(data_path, 'normalized_l2/csv'), en_name) + '.csv')\n",
    "#     df_zero = []\n",
    "#     for _, row in df.iterrows():\n",
    "#         for k, v in row.items():\n",
    "#             if v == 0:\n",
    "#                 df_zero.append(row)\n",
    "#     if df_zero:\n",
    "#         df_zero = pd.concat(df_zero, axis=1).T\n",
    "#         df_zero.to_excel(join(save_path, en_name) + '.xlsx', index=False)"
   ]
  },
  {
   "source": [
    "# Check Q3\n",
    "***"
   ],
   "cell_type": "markdown",
   "metadata": {}
  },
  {
   "cell_type": "code",
   "execution_count": 8,
   "metadata": {},
   "outputs": [],
   "source": [
    "import pandas as pd\n",
    "from os.path import join\n",
    "\n",
    "# Check if directories exit or not\n",
    "def check_dirs(path_list):\n",
    "    for dir_path in path_list:\n",
    "        if not os.path.isdir(dir_path):\n",
    "            os.makedirs(dir_path)\n",
    "\n",
    "def check_Q3_fiscal_period(data_path):\n",
    "    df_cn_en = pd.read_csv(join(data_path, 'cn_to_en.csv'))\n",
    "    cn_to_en = {c: e for c, e in zip(df_cn_en['cn_name'], df_cn_en['en_name'])}\n",
    "\n",
    "    save_path = join(data_path, 'Q3-3-not-9_endDate_endDateRep')\n",
    "    check_dirs([save_path])\n",
    "\n",
    "    for en_name in cn_to_en.values():\n",
    "        print('File:', en_name)\n",
    "        df = pd.read_csv(join(join(data_path, 'original/csv'), en_name) + '.csv')\n",
    "        df_Q3_3 = df[(df['reportType']=='Q3') | (df['reportType']=='CQ3')].groupby(\n",
    "            ['ticker', 'endDate', 'endDateRep']).apply(\n",
    "                lambda x: 9 not in set(x['fiscalPeriod']))\n",
    "        df_Q3_3_not_9 = []\n",
    "        for t, ed, edr in df_Q3_3[df_Q3_3.values].index.to_list():\n",
    "            df_Q3_3_not_9.append(\n",
    "                df[(df['ticker']==t) \\\n",
    "                & (df['endDate']==ed) \\\n",
    "                & (df['endDateRep']==edr) \\\n",
    "                & (df['mergedFlag']==1)])\n",
    "        if df_Q3_3_not_9:\n",
    "            df_Q3_3_not_9 = pd.concat(df_Q3_3_not_9)\n",
    "            df_Q3_3_not_9.to_excel(join(save_path, en_name) + '.xlsx', index=False)"
   ]
  },
  {
   "cell_type": "code",
   "execution_count": 9,
   "metadata": {},
   "outputs": [
    {
     "output_type": "stream",
     "name": "stdout",
     "text": [
      "File: income_bank\n",
      "File: income_insurance\n",
      "File: income_security\n",
      "File: income_industry\n",
      "File: balance_bank\n",
      "File: balance_insurance\n",
      "File: balance_security\n",
      "File: balance_industry\n",
      "File: cash_flow_bank\n",
      "File: cash_flow_insurance\n",
      "File: cash_flow_security\n",
      "File: cash_flow_industry\n"
     ]
    }
   ],
   "source": [
    "check_Q3_fiscal_period('../../data/financial_statements/')\n",
    "# check_Q3_fiscal_period('../../data/financial_statements_pit/')"
   ]
  },
  {
   "cell_type": "code",
   "execution_count": 10,
   "metadata": {},
   "outputs": [],
   "source": [
    "import pandas as pd\n",
    "from os.path import join\n",
    "\n",
    "# Check if directories exit or not\n",
    "def check_dirs(path_list):\n",
    "    for dir_path in path_list:\n",
    "        if not os.path.isdir(dir_path):\n",
    "            os.makedirs(dir_path)\n",
    "\n",
    "def check_Q3_fiscal_period(data_path):\n",
    "    df_cn_en = pd.read_csv(join(data_path, 'cn_to_en.csv'))\n",
    "    cn_to_en = {c: e for c, e in zip(df_cn_en['cn_name'], df_cn_en['en_name'])}\n",
    "\n",
    "    save_path = join(data_path, 'Q3-3-not-9_endDate')\n",
    "    check_dirs([save_path])\n",
    "\n",
    "    for en_name in cn_to_en.values():\n",
    "        print('File:', en_name)\n",
    "        df = pd.read_csv(join(join(data_path, 'original/csv'), en_name) + '.csv')\n",
    "        df_Q3_3 = df[(df['reportType']=='Q3') | (df['reportType']=='CQ3')].groupby(\n",
    "            ['ticker', 'endDate']).apply(\n",
    "                lambda x: 9 not in set(x['fiscalPeriod']))\n",
    "        df_Q3_3_not_9 = []\n",
    "        for t, ed in df_Q3_3[df_Q3_3.values].index.to_list():\n",
    "            df_Q3_3_not_9.append(\n",
    "                df[(df['ticker']==t) \\\n",
    "                & (df['endDate']==ed) \\\n",
    "                & (df['mergedFlag']==1)])\n",
    "        if df_Q3_3_not_9:\n",
    "            df_Q3_3_not_9 = pd.concat(df_Q3_3_not_9)\n",
    "            df_Q3_3_not_9.to_excel(join(save_path, en_name) + '.xlsx', index=False)"
   ]
  },
  {
   "cell_type": "code",
   "execution_count": 11,
   "metadata": {},
   "outputs": [
    {
     "output_type": "stream",
     "name": "stdout",
     "text": [
      "File: income_bank\n",
      "File: income_insurance\n",
      "File: income_security\n",
      "File: income_industry\n",
      "File: balance_bank\n",
      "File: balance_insurance\n",
      "File: balance_security\n",
      "File: balance_industry\n",
      "File: cash_flow_bank\n",
      "File: cash_flow_insurance\n",
      "File: cash_flow_security\n",
      "File: cash_flow_industry\n"
     ]
    }
   ],
   "source": [
    "check_Q3_fiscal_period('../../data/financial_statements/')\n",
    "# check_Q3_fiscal_period('../../data/financial_statements_pit/')"
   ]
  },
  {
   "source": [
    "# Time series statistics\n",
    "***"
   ],
   "cell_type": "markdown",
   "metadata": {}
  },
  {
   "source": [
    "# income - year"
   ],
   "cell_type": "markdown",
   "metadata": {}
  },
  {
   "cell_type": "code",
   "execution_count": 12,
   "metadata": {},
   "outputs": [],
   "source": [
    "# Check if directories exit or not\n",
    "def check_dirs(path_list):\n",
    "    for dir_path in path_list:\n",
    "        if not os.path.isdir(dir_path):\n",
    "            os.makedirs(dir_path)\n",
    "\n",
    "def generate_year_revenue_sheets(df_income, data_path, file_name):\n",
    "\n",
    "    df_income['ticker'] = df_income['ticker'].apply(lambda x: str(x).zfill(6))\n",
    "    df_income = df_income[df_income['endDate'].apply(lambda x: str(x)[-6:]=='-12-31')]\n",
    "    df_income.drop_duplicates(subset=['ticker', 'endDate'], keep='last', inplace=True)\n",
    "    df_income['endDate'] = df_income['endDate'].apply(lambda x: int(x[:4]))\n",
    "\n",
    "    df_income.set_index(['endDate', 'ticker'], inplace=True)\n",
    "    df_income.index.names = [None, 'TICKER']\n",
    "\n",
    "    df_income_r = df_income[['revenue']]\n",
    "    df_income_r = df_income_r.unstack(1).T\n",
    "    df_income_r.reset_index(inplace=True)\n",
    "    df_income_r = df_income_r.drop(columns=['level_0'])\n",
    "    df_income_r.set_index('TICKER', inplace=True)\n",
    "\n",
    "    df_income_r_count_list = pd.DataFrame(columns=('TICKER', 'COUNTS', 'YEARS'))\n",
    "    df_income_r_not_ct_list = pd.DataFrame(columns=('TICKER', 'YEARS'))\n",
    "    last_year = int(sorted(df_income_r.columns)[-1])\n",
    "\n",
    "    for ticker, row in df_income_r.iterrows():\n",
    "        row = row.notnull()\n",
    "        counts = sum(row)\n",
    "        years_list = []\n",
    "        for k in row.keys():\n",
    "            if row[k]:\n",
    "                years_list.append(k)\n",
    "        df_income_r_count_list = df_income_r_count_list.append(\n",
    "            pd.DataFrame({'TICKER': [ticker], 'COUNTS': [counts], 'YEARS': [years_list]}), ignore_index=True)\n",
    "\n",
    "        if not years_list:\n",
    "            print('No data:', ticker)\n",
    "            df_income_r_not_ct_list = df_income_r_not_ct_list.append(\n",
    "                pd.DataFrame({'TICKER': [ticker], 'YEARS': [[]]}), ignore_index=True)\n",
    "        # elif years_list[-1] - years_list[0] != counts - 1:\n",
    "        elif last_year - years_list[0] != counts - 1:\n",
    "            df_income_r_not_ct_list = df_income_r_not_ct_list.append(\n",
    "                pd.DataFrame({'TICKER': [ticker], 'YEARS': [years_list]}), ignore_index=True)\n",
    "\n",
    "    save_path = join(data_path, 'revenue')\n",
    "    check_dirs([save_path])\n",
    "    df_income_r.to_excel(join(save_path, file_name + '.xlsx'), index=True)\n",
    "    df_income_r_count_list.to_excel(join(save_path, file_name + '_counts.xlsx'), index=False)\n",
    "    df_income_r_not_ct_list.to_excel(join(save_path, file_name + '_discontinuous.xlsx'), index=False)"
   ]
  },
  {
   "cell_type": "code",
   "execution_count": 13,
   "metadata": {},
   "outputs": [
    {
     "output_type": "stream",
     "name": "stderr",
     "text": [
      "ipykernel_launcher:11: SettingWithCopyWarning: \nA value is trying to be set on a copy of a slice from a DataFrame\n\nSee the caveats in the documentation: https://pandas.pydata.org/pandas-docs/stable/user_guide/indexing.html#returning-a-view-versus-a-copy\nipykernel_launcher:12: SettingWithCopyWarning: \nA value is trying to be set on a copy of a slice from a DataFrame.\nTry using .loc[row_indexer,col_indexer] = value instead\n\nSee the caveats in the documentation: https://pandas.pydata.org/pandas-docs/stable/user_guide/indexing.html#returning-a-view-versus-a-copy\n"
     ]
    }
   ],
   "source": [
    "data_path = '../../data/financial_statements/normalized_l2/'\n",
    "df_1 = pd.read_csv(join(join(data_path, 'csv'), 'income_bank.csv'))[['ticker', 'endDate', 'revenue']]\n",
    "df_2 = pd.read_csv(join(join(data_path, 'csv'), 'income_insurance.csv'))[['ticker', 'endDate', 'revenue']]\n",
    "df_3 = pd.read_csv(join(join(data_path, 'csv'), 'income_security.csv'))[['ticker', 'endDate', 'revenue']]\n",
    "df_4 = pd.read_csv(join(join(data_path, 'csv'), 'income_industry.csv'))[['ticker', 'endDate', 'revenue']]\n",
    "df = pd.concat([df_1, df_2, df_3, df_4])\n",
    "generate_year_revenue_sheets(df, data_path, 'revenue_year')\n",
    "\n",
    "# data_path = '../../data/financial_statements_pit/normalized_l2/'\n",
    "# df_1 = pd.read_csv(join(join(data_path, 'csv'), 'income_bank_pit.csv'))[['ticker', 'endDate', 'revenue']]\n",
    "# df_2 = pd.read_csv(join(join(data_path, 'csv'), 'income_insurance_pit.csv'))[['ticker', 'endDate', 'revenue']]\n",
    "# df_3 = pd.read_csv(join(join(data_path, 'csv'), 'income_security_pit.csv'))[['ticker', 'endDate', 'revenue']]\n",
    "# df_4 = pd.read_csv(join(join(data_path, 'csv'), 'income_industry_pit.csv'))[['ticker', 'endDate', 'revenue']]\n",
    "# df = pd.concat([df_1, df_2, df_3, df_4])\n",
    "# generate_year_revenue_sheets(df, data_path, 'revenue_year_pit')"
   ]
  },
  {
   "source": [
    "# industry t-revenue - revenue"
   ],
   "cell_type": "markdown",
   "metadata": {}
  },
  {
   "cell_type": "code",
   "execution_count": 14,
   "metadata": {},
   "outputs": [],
   "source": [
    "df_income_industry = pd.read_csv('../../data/financial_statements/normalized_l2/csv/income_industry.csv')\n",
    "col_name = df_income_industry.columns.tolist()\n",
    "col_name.insert(col_name.index('revenue') + 1, 'tRevenue-revenue')\n",
    "df_income_industry = df_income_industry.reindex(columns=col_name)\n",
    "df_income_industry['tRevenue-revenue'] = df_income_industry['tRevenue'] - df_income_industry['revenue']\n",
    "df_income_industry.to_excel('../../data/financial_statements/normalized_l2/revenue/income_industry_t_revenue.xlsx')\n",
    "\n",
    "# df_income_industry = pd.read_csv('../../data/financial_statements_pit/normalized_l2/csv/income_industry_pit.csv')\n",
    "# col_name = df_income_industry.columns.tolist()\n",
    "# col_name.insert(col_name.index('revenue') + 1, 'tRevenue-revenue')\n",
    "# df_income_industry = df_income_industry.reindex(columns=col_name)\n",
    "# df_income_industry['tRevenue-revenue'] = df_income_industry['tRevenue'] - df_income_industry['revenue']\n",
    "# df_income_industry.to_excel('../../data/financial_statements_pit/normalized_l2/revenue/income_industry_pit_t_revenue.xlsx')"
   ]
  },
  {
   "source": [
    "# income - quarter"
   ],
   "cell_type": "markdown",
   "metadata": {}
  },
  {
   "cell_type": "code",
   "execution_count": 15,
   "metadata": {},
   "outputs": [],
   "source": [
    "# Check if directories exit or not\n",
    "def check_dirs(path_list):\n",
    "    for dir_path in path_list:\n",
    "        if not os.path.isdir(dir_path):\n",
    "            os.makedirs(dir_path)\n",
    "\n",
    "def generate_quarter_revenue_sheets(df_income, data_path, file_name):\n",
    "\n",
    "    df_income['ticker'] = df_income['ticker'].apply(lambda x: str(x).zfill(6))\n",
    "    df_income.drop_duplicates(subset=['ticker', 'endDate'], keep='last', inplace=True)\n",
    "    df_income['endDate'] = df_income['endDate'].apply(lambda x: x[:7])\n",
    "\n",
    "    df_income.set_index(['endDate', 'ticker'], inplace=True)\n",
    "    df_income.index.names = [None, 'TICKER']\n",
    "\n",
    "    df_income_r = df_income[['revenue']]\n",
    "    df_income_r = df_income_r.unstack(1).T\n",
    "    df_income_r.reset_index(inplace=True)\n",
    "    df_income_r = df_income_r.drop(columns=['level_0'])\n",
    "    df_income_r.set_index('TICKER', inplace=True)\n",
    "\n",
    "    df_income_r_count_list = pd.DataFrame(columns=('TICKER', 'COUNTS', 'QUARTERS'))\n",
    "    df_income_r_not_ct_list = pd.DataFrame(columns=('TICKER', 'QUARTERS'))\n",
    "    quarters_all = sorted(df_income_r.columns)\n",
    "    last_quarter = quarters_all[-1]\n",
    "\n",
    "    for ticker, row in df_income_r.iterrows():\n",
    "        row = row.notnull()\n",
    "        counts = sum(row)\n",
    "        quarters_list = []\n",
    "        for k in row.keys():\n",
    "            if row[k]:\n",
    "                quarters_list.append(k)\n",
    "        df_income_r_count_list = df_income_r_count_list.append(\n",
    "            pd.DataFrame({'TICKER': [ticker], 'COUNTS': [counts], 'QUARTERS': [quarters_list]}), ignore_index=True)\n",
    "\n",
    "        if not quarters_list:\n",
    "            print('No data:', ticker)\n",
    "            df_income_r_not_ct_list = df_income_r_not_ct_list.append(\n",
    "                pd.DataFrame({'TICKER': [ticker], 'QUARTERS': [[]]}), ignore_index=True)\n",
    "        # elif quarters_list[-1] - quarters_list[0] != counts - 1:\n",
    "        elif len(quarters_all) - quarters_all.index(quarters_list[0]) != counts:\n",
    "            df_income_r_not_ct_list = df_income_r_not_ct_list.append(\n",
    "                pd.DataFrame({'TICKER': [ticker], 'QUARTERS': [quarters_list]}), ignore_index=True)\n",
    "\n",
    "    save_path = join(data_path, 'revenue')\n",
    "    check_dirs([save_path])\n",
    "    df_income_r.to_excel(join(save_path, file_name + '.xlsx'), index=True)\n",
    "    df_income_r_count_list.to_excel(join(save_path, file_name + '_counts.xlsx'), index=False)\n",
    "    df_income_r_not_ct_list.to_excel(join(save_path, file_name + '_discontinuous.xlsx'), index=False)"
   ]
  },
  {
   "cell_type": "code",
   "execution_count": 16,
   "metadata": {},
   "outputs": [],
   "source": [
    "data_path = '../../data/financial_statements/normalized_l2/'\n",
    "df_1 = pd.read_csv(join(join(data_path, 'csv'), 'income_bank.csv'))[['ticker', 'endDate', 'revenue']]\n",
    "df_2 = pd.read_csv(join(join(data_path, 'csv'), 'income_insurance.csv'))[['ticker', 'endDate', 'revenue']]\n",
    "df_3 = pd.read_csv(join(join(data_path, 'csv'), 'income_security.csv'))[['ticker', 'endDate', 'revenue']]\n",
    "df_4 = pd.read_csv(join(join(data_path, 'csv'), 'income_industry.csv'))[['ticker', 'endDate', 'revenue']]\n",
    "df = pd.concat([df_1, df_2, df_3, df_4])\n",
    "generate_quarter_revenue_sheets(df, data_path, 'revenue_quarter')\n",
    "\n",
    "# data_path = '../../data/financial_statements_pit/normalized_l2/'\n",
    "# df_1 = pd.read_csv(join(join(data_path, 'csv'), 'income_bank_pit.csv'))[['ticker', 'endDate', 'revenue']]\n",
    "# df_2 = pd.read_csv(join(join(data_path, 'csv'), 'income_insurance_pit.csv'))[['ticker', 'endDate', 'revenue']]\n",
    "# df_3 = pd.read_csv(join(join(data_path, 'csv'), 'income_security_pit.csv'))[['ticker', 'endDate', 'revenue']]\n",
    "# df_4 = pd.read_csv(join(join(data_path, 'csv'), 'income_industry_pit.csv'))[['ticker', 'endDate', 'revenue']]\n",
    "# df = pd.concat([df_1, df_2, df_3, df_4])\n",
    "# generate_quarter_revenue_sheets(df, data_path, 'revenue_quarter_pit')"
   ]
  },
  {
   "source": [
    "# Check data absence in three statements\n",
    "***"
   ],
   "cell_type": "markdown",
   "metadata": {}
  },
  {
   "cell_type": "code",
   "execution_count": 17,
   "metadata": {},
   "outputs": [],
   "source": [
    "import numpy as np\n",
    "import pandas as pd\n",
    "from os.path import join\n",
    "import matplotlib.pyplot as plt\n",
    "\n",
    "%matplotlib inline\n",
    "pd.set_option('display.max_rows', None)\n",
    "pd.set_option('display.max_columns', None)\n",
    "\n",
    "# Check if directories exit or not\n",
    "def check_dirs(path_list):\n",
    "    for dir_path in path_list:\n",
    "        if not os.path.isdir(dir_path):\n",
    "            os.makedirs(dir_path)\n",
    "\n",
    "def get_concat_df(data_path, name, post_fix=''):\n",
    "    df_1 = pd.read_csv(join(join(data_path, 'csv'), name + '_bank' + post_fix + '.csv'))[['ticker', 'endDate']]\n",
    "    df_2 = pd.read_csv(join(join(data_path, 'csv'), name + '_insurance' + post_fix + '.csv'))[['ticker', 'endDate']]\n",
    "    df_3 = pd.read_csv(join(join(data_path, 'csv'), name + '_security' + post_fix + '.csv'))[['ticker', 'endDate']]\n",
    "    df_4 = pd.read_csv(join(join(data_path, 'csv'), name + '_industry' + post_fix + '.csv'))[['ticker', 'endDate']]\n",
    "    df = pd.concat([df_1, df_2, df_3, df_4])\n",
    "    df['ticker'] = df['ticker'].apply(lambda x: str(x).zfill(6))\n",
    "    df = df.set_index(['ticker', 'endDate'])\n",
    "    return set(df.index.to_list())"
   ]
  },
  {
   "cell_type": "code",
   "execution_count": 18,
   "metadata": {},
   "outputs": [
    {
     "output_type": "stream",
     "name": "stdout",
     "text": [
      "93\n",
      "42\n",
      "8337\n",
      "10\n",
      "25\n",
      "8301\n"
     ]
    }
   ],
   "source": [
    "data_path = '../../data/financial_statements/normalized_l2/'\n",
    "set_income = get_concat_df(data_path, 'income')\n",
    "set_cash_flow = get_concat_df(data_path, 'cash_flow')\n",
    "set_balance= get_concat_df(data_path, 'balance')\n",
    "\n",
    "check_dirs([data_path + 'absence/'])\n",
    "\n",
    "print(len(set_income - set_cash_flow))\n",
    "with open(data_path + 'absence/income-cash_flow.txt', 'w') as f:\n",
    "    f.write('Total: {}\\n'.format(len(set_income - set_cash_flow)))\n",
    "    f.write('-' * 50 + '\\n')\n",
    "    for i in sorted(list(set_income - set_cash_flow)):\n",
    "        f.write(str(i) + '\\n')\n",
    "print(len(set_cash_flow - set_income))\n",
    "with open(data_path + 'absence/cash_flow-income.txt', 'w') as f:\n",
    "    f.write('Total: {}\\n'.format(len(set_cash_flow - set_income)))\n",
    "    f.write('-' * 50 + '\\n')\n",
    "    for i in sorted(list(set_cash_flow - set_income)):\n",
    "        f.write(str(i) + '\\n')\n",
    "print(len(set_income - set_balance))\n",
    "with open(data_path + 'absence/income-balance.txt', 'w') as f:\n",
    "    f.write('Total: {}\\n'.format(len(set_income - set_balance)))\n",
    "    f.write('-' * 50 + '\\n')\n",
    "    for i in sorted(list(set_income - set_balance)):\n",
    "        f.write(str(i) + '\\n')\n",
    "print(len(set_balance - set_income))\n",
    "with open(data_path + 'absence/balance-income.txt', 'w') as f:\n",
    "    f.write('Total: {}\\n'.format(len(set_balance - set_income)))\n",
    "    f.write('-' * 50 + '\\n')\n",
    "    for i in sorted(list(set_balance - set_income)):\n",
    "        f.write(str(i) + '\\n')\n",
    "print(len(set_balance - set_cash_flow))\n",
    "with open(data_path + 'absence/balance-cash_flow.txt', 'w') as f:\n",
    "    f.write('Total: {}\\n'.format(len(set_balance - set_cash_flow)))\n",
    "    f.write('-' * 50 + '\\n')\n",
    "    for i in sorted(list(set_balance - set_cash_flow)):\n",
    "        f.write(str(i) + '\\n')\n",
    "print(len(set_cash_flow - set_balance))\n",
    "with open(data_path + 'absence/cash_flow-balance.txt', 'w') as f:\n",
    "    f.write('Total: {}\\n'.format(len(set_cash_flow - set_balance)))\n",
    "    f.write('-' * 50 + '\\n')\n",
    "    for i in sorted(list(set_cash_flow - set_balance)):\n",
    "        f.write(str(i) + '\\n')\n",
    "\n",
    "# data_path = '../../data/financial_statements_pit/normalized_l2/'\n",
    "# set_income = get_concat_df(data_path, 'income', '_pit')\n",
    "# set_cash_flow = get_concat_df(data_path, 'cash_flow', '_pit')\n",
    "# set_balance= get_concat_df(data_path, 'balance', '_pit')\n",
    "\n",
    "# check_dirs([data_path + 'absence/'])\n",
    "\n",
    "# print(len(set_income - set_cash_flow))\n",
    "# with open(data_path + 'absence/income-cash_flow.txt', 'w') as f:\n",
    "#     f.write('Total: {}\\n'.format(len(set_income - set_cash_flow)))\n",
    "#     f.write('-' * 50 + '\\n')\n",
    "#     for i in sorted(list(set_income - set_cash_flow)):\n",
    "#         f.write(str(i) + '\\n')\n",
    "# print(len(set_cash_flow - set_income))\n",
    "# with open(data_path + 'absence/cash_flow-income.txt', 'w') as f:\n",
    "#     f.write('Total: {}\\n'.format(len(set_cash_flow - set_income)))\n",
    "#     f.write('-' * 50 + '\\n')\n",
    "#     for i in sorted(list(set_cash_flow - set_income)):\n",
    "#         f.write(str(i) + '\\n')\n",
    "# print(len(set_income - set_balance))\n",
    "# with open(data_path + 'absence/income-balance.txt', 'w') as f:\n",
    "#     f.write('Total: {}\\n'.format(len(set_income - set_balance)))\n",
    "#     f.write('-' * 50 + '\\n')\n",
    "#     for i in sorted(list(set_income - set_balance)):\n",
    "#         f.write(str(i) + '\\n')\n",
    "# print(len(set_balance - set_income))\n",
    "# with open(data_path + 'absence/balance-income.txt', 'w') as f:\n",
    "#     f.write('Total: {}\\n'.format(len(set_balance - set_income)))\n",
    "#     f.write('-' * 50 + '\\n')\n",
    "#     for i in sorted(list(set_balance - set_income)):\n",
    "#         f.write(str(i) + '\\n')\n",
    "# print(len(set_balance - set_cash_flow))\n",
    "# with open(data_path + 'absence/balance-cash_flow.txt', 'w') as f:\n",
    "#     f.write('Total: {}\\n'.format(len(set_balance - set_cash_flow)))\n",
    "#     f.write('-' * 50 + '\\n')\n",
    "#     for i in sorted(list(set_balance - set_cash_flow)):\n",
    "#         f.write(str(i) + '\\n')\n",
    "# print(len(set_cash_flow - set_balance))\n",
    "# with open(data_path + 'absence/cash_flow-balance.txt', 'w') as f:\n",
    "#     f.write('Total: {}\\n'.format(len(set_cash_flow - set_balance)))\n",
    "#     f.write('-' * 50 + '\\n')\n",
    "#     for i in sorted(list(set_cash_flow - set_balance)):\n",
    "#         f.write(str(i) + '\\n')"
   ]
  },
  {
   "source": [
    "# Check data continuity in three statements\n",
    "***"
   ],
   "cell_type": "markdown",
   "metadata": {}
  },
  {
   "cell_type": "code",
   "execution_count": 19,
   "metadata": {},
   "outputs": [],
   "source": [
    "import numpy as np\n",
    "import pandas as pd\n",
    "from os.path import join\n",
    "import matplotlib.pyplot as plt\n",
    "\n",
    "%matplotlib inline\n",
    "pd.set_option('display.max_rows', None)\n",
    "pd.set_option('display.max_columns', None)\n",
    "\n",
    "# Check if directories exit or not\n",
    "def check_dirs(path_list):\n",
    "    for dir_path in path_list:\n",
    "        if not os.path.isdir(dir_path):\n",
    "            os.makedirs(dir_path)\n",
    "\n",
    "def check_continuity_year(df, data_path, file_name):\n",
    "\n",
    "    df['ticker'] = df['ticker'].apply(lambda x: str(x).zfill(6))\n",
    "    df = df[df['endDate'].apply(lambda x: str(x)[-6:]=='-12-31')]\n",
    "    df.drop_duplicates(subset=['ticker', 'endDate'], keep='last', inplace=True)\n",
    "    df['endDate'] = df['endDate'].apply(lambda x: int(x[:4]))\n",
    "\n",
    "    df.set_index(['endDate', 'ticker'], inplace=True)\n",
    "    df.index.names = [None, 'TICKER']\n",
    "\n",
    "    df_r = df[['reportType']]\n",
    "    df_r = df_r.unstack(1).T\n",
    "    df_r.reset_index(inplace=True)\n",
    "    df_r = df_r.drop(columns=['level_0'])\n",
    "    df_r.set_index('TICKER', inplace=True)\n",
    "\n",
    "    df_r_count_list = pd.DataFrame(columns=('TICKER', 'COUNTS', 'YEARS'))\n",
    "    df_r_not_ct_list = pd.DataFrame(columns=('TICKER', 'YEARS'))\n",
    "    last_year = int(sorted(df_r.columns)[-1])\n",
    "\n",
    "    for ticker, row in df_r.iterrows():\n",
    "        row = row.notnull()\n",
    "        counts = sum(row)\n",
    "        years_list = []\n",
    "        for k in row.keys():\n",
    "            if row[k]:\n",
    "                years_list.append(k)\n",
    "        df_r_count_list = df_r_count_list.append(\n",
    "            pd.DataFrame({'TICKER': [ticker], 'COUNTS': [counts], 'YEARS': [years_list]}), ignore_index=True)\n",
    "\n",
    "        if not years_list:\n",
    "            print('No data:', ticker)\n",
    "            df_r_not_ct_list = df_r_not_ct_list.append(\n",
    "                pd.DataFrame({'TICKER': [ticker], 'YEARS': [[]]}), ignore_index=True)\n",
    "        # elif years_list[-1] - years_list[0] != counts - 1:\n",
    "        elif last_year - years_list[0] != counts - 1:\n",
    "            df_r_not_ct_list = df_r_not_ct_list.append(\n",
    "                pd.DataFrame({'TICKER': [ticker], 'YEARS': [years_list]}), ignore_index=True)\n",
    "\n",
    "    save_path = join(data_path, 'continuity')\n",
    "    check_dirs([save_path])\n",
    "    df_r_count_list.to_excel(join(save_path, file_name + '_counts.xlsx'), index=False)\n",
    "    df_r_not_ct_list.to_excel(join(save_path, file_name + '_discontinuous.xlsx'), index=False)\n",
    "\n",
    "def check_continuity_quarter(df, data_path, file_name):\n",
    "\n",
    "    df['ticker'] = df['ticker'].apply(lambda x: str(x).zfill(6))\n",
    "    df.drop_duplicates(subset=['ticker', 'endDate'], keep='last', inplace=True)\n",
    "    df['endDate'] = df['endDate'].apply(lambda x: x[:7])\n",
    "\n",
    "    df.set_index(['endDate', 'ticker'], inplace=True)\n",
    "    df.index.names = [None, 'TICKER']\n",
    "\n",
    "    df_r = df[['reportType']]\n",
    "    df_r = df_r.unstack(1).T\n",
    "    df_r.reset_index(inplace=True)\n",
    "    df_r = df_r.drop(columns=['level_0'])\n",
    "    df_r.set_index('TICKER', inplace=True)\n",
    "\n",
    "    df_r_count_list = pd.DataFrame(columns=('TICKER', 'COUNTS', 'QUARTERS'))\n",
    "    df_r_not_ct_list = pd.DataFrame(columns=('TICKER', 'QUARTERS'))\n",
    "    quarters_all = sorted(df_r.columns)\n",
    "    last_quarter = quarters_all[-1]\n",
    "\n",
    "    for ticker, row in df_r.iterrows():\n",
    "        row = row.notnull()\n",
    "        counts = sum(row)\n",
    "        quarters_list = []\n",
    "        for k in row.keys():\n",
    "            if row[k]:\n",
    "                quarters_list.append(k)\n",
    "        df_r_count_list = df_r_count_list.append(\n",
    "            pd.DataFrame({'TICKER': [ticker], 'COUNTS': [counts], 'QUARTERS': [quarters_list]}), ignore_index=True)\n",
    "\n",
    "        if not quarters_list:\n",
    "            print('No data:', ticker)\n",
    "            df_r_not_ct_list = df_r_not_ct_list.append(\n",
    "                pd.DataFrame({'TICKER': [ticker], 'QUARTERS': [[]]}), ignore_index=True)\n",
    "        # elif quarters_list[-1] - quarters_list[0] != counts - 1:\n",
    "        elif len(quarters_all) - quarters_all.index(quarters_list[0]) != counts:\n",
    "            df_r_not_ct_list = df_r_not_ct_list.append(\n",
    "                pd.DataFrame({'TICKER': [ticker], 'QUARTERS': [quarters_list]}), ignore_index=True)\n",
    "\n",
    "    save_path = join(data_path, 'continuity')\n",
    "    check_dirs([save_path])\n",
    "    df_r_count_list.to_excel(join(save_path, file_name + '_counts.xlsx'), index=False)\n",
    "    df_r_not_ct_list.to_excel(join(save_path, file_name + '_discontinuous.xlsx'), index=False)"
   ]
  },
  {
   "cell_type": "code",
   "execution_count": 20,
   "metadata": {},
   "outputs": [
    {
     "output_type": "stream",
     "name": "stderr",
     "text": [
      "ipykernel_launcher:20: SettingWithCopyWarning: \nA value is trying to be set on a copy of a slice from a DataFrame\n\nSee the caveats in the documentation: https://pandas.pydata.org/pandas-docs/stable/user_guide/indexing.html#returning-a-view-versus-a-copy\nipykernel_launcher:21: SettingWithCopyWarning: \nA value is trying to be set on a copy of a slice from a DataFrame.\nTry using .loc[row_indexer,col_indexer] = value instead\n\nSee the caveats in the documentation: https://pandas.pydata.org/pandas-docs/stable/user_guide/indexing.html#returning-a-view-versus-a-copy\n"
     ]
    }
   ],
   "source": [
    "def get_concat_df(data_path, name, post_fix=''):\n",
    "    df_1 = pd.read_csv(join(join(data_path, 'csv'), name + '_bank' + post_fix + '.csv'))[['ticker', 'endDate', 'reportType']]\n",
    "    df_2 = pd.read_csv(join(join(data_path, 'csv'), name + '_insurance' + post_fix + '.csv'))[['ticker', 'endDate', 'reportType']]\n",
    "    df_3 = pd.read_csv(join(join(data_path, 'csv'), name + '_security' + post_fix + '.csv'))[['ticker', 'endDate', 'reportType']]\n",
    "    df_4 = pd.read_csv(join(join(data_path, 'csv'), name + '_industry' + post_fix + '.csv'))[['ticker', 'endDate', 'reportType']]\n",
    "    df = pd.concat([df_1, df_2, df_3, df_4])\n",
    "    return df\n",
    "\n",
    "data_path = '../../data/financial_statements/normalized_l2/'\n",
    "df_income = get_concat_df(data_path, 'income')\n",
    "df_cash_flow = get_concat_df(data_path, 'cash_flow')\n",
    "df_balance= get_concat_df(data_path, 'balance')\n",
    "\n",
    "check_continuity_year(df_income, data_path, 'income_year')\n",
    "check_continuity_year(df_cash_flow, data_path, 'cash_flow_year')\n",
    "check_continuity_year(df_balance, data_path, 'balance_year')\n",
    "\n",
    "check_continuity_quarter(df_income, data_path, 'income_quarter')\n",
    "check_continuity_quarter(df_cash_flow, data_path, 'cash_flow_quarter')\n",
    "check_continuity_quarter(df_balance, data_path, 'balance_quarter')"
   ]
  },
  {
   "source": [
    "# Check duplicates\n",
    "***"
   ],
   "cell_type": "markdown",
   "metadata": {}
  },
  {
   "cell_type": "code",
   "execution_count": 21,
   "metadata": {},
   "outputs": [],
   "source": [
    "import pandas as pd\n",
    "from os.path import join\n",
    "%matplotlib inline\n",
    "pd.set_option('display.max_rows', None)\n",
    "pd.set_option('display.max_columns', None)\n",
    "\n",
    "# Check if directories exit or not\n",
    "def check_dirs(path_list):\n",
    "    for dir_path in path_list:\n",
    "        if not os.path.isdir(dir_path):\n",
    "            os.makedirs(dir_path)\n",
    "\n",
    "def get_concat_df(data_path, name):\n",
    "    def _load_csv(category):\n",
    "        df = pd.read_csv(join(data_path, name + '_' + category + '.csv'), dtype={'ticker': str})\n",
    "        df['from'] = [category] * df.shape[0]\n",
    "        return df\n",
    "    df_1 = _load_csv('bank')\n",
    "    df_2 = _load_csv('insurance')\n",
    "    df_3 = _load_csv('security')\n",
    "    df_4 = _load_csv('industry')\n",
    "    df = pd.concat([df_1, df_2, df_3, df_4])\n",
    "    df = df.reset_index()\n",
    "    df.drop(columns=['index'], inplace=True)\n",
    "    return df\n",
    "\n",
    "def check_duplicates(data_path, statement_name):\n",
    "    df = get_concat_df(join(data_path, 'csv'), statement_name)\n",
    "\n",
    "    selected = df.groupby(['ticker', 'endDate']).apply(lambda x: tuple(x.index))\n",
    "\n",
    "    idx_dup = []\n",
    "    for i in selected.values:\n",
    "        if len(i) > 1:\n",
    "            idx_dup.extend(i)\n",
    "    df_dup = df.loc[idx_dup]\n",
    "\n",
    "    col_name = df_dup.columns.tolist()\n",
    "    list1 = ['ticker', 'secShortName', 'from', 'endDate', 'endDateRep', 'actPubtime',  'reportType'] \n",
    "    df_dup = df_dup.reindex(columns=list1 + [i for i in col_name if i not in list1])\n",
    "\n",
    "    df_dup = df_dup.sort_values(\n",
    "        by=['ticker', 'endDate', 'from', 'endDateRep', 'actPubtime'], \n",
    "        ascending=[True, True, True, True, True]\n",
    "    )\n",
    "\n",
    "    save_path = join(data_path, 'duplicates')\n",
    "    check_dirs([save_path])\n",
    "    df_dup.to_excel(join(save_path, statement_name) + '.xlsx', index=False)\n",
    "    print(statement_name + ':', df_dup.shape)"
   ]
  },
  {
   "cell_type": "code",
   "execution_count": 22,
   "metadata": {},
   "outputs": [
    {
     "output_type": "stream",
     "name": "stdout",
     "text": [
      "income: (128, 93)\n",
      "balance: (26, 177)\n",
      "cash_flow: (190, 89)\n"
     ]
    }
   ],
   "source": [
    "data_path = '../../data/financial_statements/normalized_l2'\n",
    "check_duplicates(data_path, 'income')\n",
    "check_duplicates(data_path, 'balance')\n",
    "check_duplicates(data_path, 'cash_flow')"
   ]
  },
  {
   "source": [
    "# Get all stocks list    "
   ],
   "cell_type": "markdown",
   "metadata": {}
  },
  {
   "cell_type": "code",
   "execution_count": 1,
   "metadata": {},
   "outputs": [],
   "source": [
    "import numpy as np\n",
    "import pandas as pd\n",
    "from os.path import join\n",
    "import matplotlib.pyplot as plt\n",
    "\n",
    "%matplotlib inline\n",
    "pd.set_option('display.max_rows', None)\n",
    "pd.set_option('display.max_columns', None)"
   ]
  },
  {
   "cell_type": "code",
   "execution_count": 2,
   "metadata": {},
   "outputs": [],
   "source": [
    "def get_concat_df(data_path, name):\n",
    "    def _load_csv(category):\n",
    "        df = pd.read_csv(join(data_path, name + '_' + category + '.csv'), dtype={'ticker': str})\n",
    "        return df\n",
    "    df_1 = _load_csv('bank')[['ticker', 'secShortName']]\n",
    "    df_2 = _load_csv('insurance')[['ticker', 'secShortName']]\n",
    "    df_3 = _load_csv('security')[['ticker', 'secShortName']]\n",
    "    df_4 = _load_csv('industry')[['ticker', 'secShortName']]\n",
    "    df = pd.concat([df_1, df_2, df_3, df_4])\n",
    "    return df"
   ]
  },
  {
   "source": [
    "### Companies in statements"
   ],
   "cell_type": "markdown",
   "metadata": {}
  },
  {
   "cell_type": "code",
   "execution_count": 3,
   "metadata": {},
   "outputs": [],
   "source": [
    "data_path = '../../data/financial_statements/normalized_l2'\n",
    "df_income = get_concat_df(join(data_path, 'csv'), 'income')\n",
    "df_balance = get_concat_df(join(data_path, 'csv'), 'balance')\n",
    "df_cash_flow = get_concat_df(join(data_path, 'csv'), 'cash_flow')\n",
    "df = pd.concat([df_income, df_balance, df_cash_flow])\n",
    "set_s = set(df['ticker'])\n",
    "dict_s = {t: n for t, n in zip(df['ticker'], df['secShortName'])}"
   ]
  },
  {
   "cell_type": "code",
   "execution_count": 4,
   "metadata": {},
   "outputs": [
    {
     "output_type": "execute_result",
     "data": {
      "text/plain": [
       "4307"
      ]
     },
     "metadata": {},
     "execution_count": 4
    }
   ],
   "source": [
    "len(set_s)"
   ]
  },
  {
   "source": [
    "### Listed time >= 20180101 and Unlisted"
   ],
   "cell_type": "markdown",
   "metadata": {}
  },
  {
   "cell_type": "code",
   "execution_count": 2,
   "metadata": {},
   "outputs": [],
   "source": [
    "df_info = pd.read_csv('../../data/stocks_information/stocks_info_20210417.csv', dtype={'ticker': str})\n"
   ]
  },
  {
   "cell_type": "code",
   "execution_count": 3,
   "metadata": {},
   "outputs": [],
   "source": [
    "new_listed = set(df_info[(df_info['listDate'] >= '2018-01-01') | (df_info['listStatusCD'] == 'UN') | (df_info['listStatusCD'] == 'O')]['ticker'])"
   ]
  },
  {
   "cell_type": "code",
   "execution_count": 11,
   "metadata": {},
   "outputs": [
    {
     "output_type": "execute_result",
     "data": {
      "text/plain": [
       "['688655',\n",
       " '605080',\n",
       " '300982',\n",
       " '001201',\n",
       " '688323',\n",
       " '000991',\n",
       " '001203',\n",
       " '600906',\n",
       " '002710',\n",
       " '002525',\n",
       " '605016',\n",
       " '002720',\n",
       " '601206',\n",
       " '605289',\n",
       " '300728',\n",
       " '605098',\n",
       " '300060',\n",
       " '605117',\n",
       " '688097',\n",
       " '300975',\n",
       " '300978',\n",
       " '605196',\n",
       " '688682',\n",
       " '688201',\n",
       " '688383',\n",
       " '300980',\n",
       " '300972',\n",
       " '688533',\n",
       " '300646',\n",
       " '001202',\n",
       " '688395',\n",
       " '688113',\n",
       " '605305',\n",
       " '603302',\n",
       " '600349',\n",
       " '688639',\n",
       " '300983',\n",
       " '300986',\n",
       " '605300',\n",
       " '605089',\n",
       " '300361',\n",
       " '300976',\n",
       " '300981',\n",
       " '600032',\n",
       " '688688',\n",
       " '300977',\n",
       " '300985',\n",
       " '300987',\n",
       " '605180',\n",
       " '603511',\n",
       " '002257',\n",
       " '300979']"
      ]
     },
     "metadata": {},
     "execution_count": 11
    }
   ],
   "source": [
    "new_listed = set(df_info[(df_info['listStatusCD'] == 'UN') | (df_info['listStatusCD'] == 'O')]['ticker'])\n",
    "[i for i in new_listed if i[0] not in ['A', '9', '2']]"
   ]
  },
  {
   "source": [
    "### Companies in classification_fixed"
   ],
   "cell_type": "markdown",
   "metadata": {}
  },
  {
   "cell_type": "code",
   "execution_count": 7,
   "metadata": {},
   "outputs": [],
   "source": [
    "df_cls = pd.read_csv('../../data/classification/classification_fixed.csv', dtype={'TICKER_SYMBOL': str})\n",
    "set_c = set(df_cls['TICKER_SYMBOL'])\n",
    "dict_c = {t: n for t, n in zip(df_cls['TICKER_SYMBOL'], df_cls['STOCK_NAME'])}"
   ]
  },
  {
   "cell_type": "code",
   "execution_count": 8,
   "metadata": {},
   "outputs": [
    {
     "output_type": "execute_result",
     "data": {
      "text/plain": [
       "3521"
      ]
     },
     "metadata": {},
     "execution_count": 8
    }
   ],
   "source": [
    "len(set_c)"
   ]
  },
  {
   "source": [
    "### Companies in cal_now_values"
   ],
   "cell_type": "markdown",
   "metadata": {}
  },
  {
   "cell_type": "code",
   "execution_count": 14,
   "metadata": {},
   "outputs": [],
   "source": [
    "df = pd.read_csv('../../data/classification/old/cal_now_values.csv', dtype={'TICKER_SYMBOL': str})\n",
    "df['ticker'] = df['TICKER_SYMBOL'].apply(lambda x: str(x).zfill(6))\n",
    "set_o = set(df['ticker'])"
   ]
  },
  {
   "cell_type": "code",
   "execution_count": 15,
   "metadata": {},
   "outputs": [
    {
     "output_type": "execute_result",
     "data": {
      "text/plain": [
       "3521"
      ]
     },
     "metadata": {},
     "execution_count": 15
    }
   ],
   "source": [
    "len(set_o)"
   ]
  },
  {
   "source": [
    "### Get intersection"
   ],
   "cell_type": "markdown",
   "metadata": {}
  },
  {
   "cell_type": "code",
   "execution_count": 16,
   "metadata": {},
   "outputs": [
    {
     "output_type": "stream",
     "name": "stdout",
     "text": [
      "('001872', '招商港口')\n('001914', '招商积余')\n('002808', '恒久科技')\n"
     ]
    }
   ],
   "source": [
    "for i in sorted([(i, dict_s[i]) for i in set_s - new_listed - set_c]):\n",
    "    print(i)"
   ]
  },
  {
   "cell_type": "code",
   "execution_count": 17,
   "metadata": {},
   "outputs": [],
   "source": [
    "with open(data_path + '/absence/all_tickers-classification.txt', 'w') as f:\n",
    "    f.write('Total: {}\\n'.format(len(set_s - new_listed - set_c)))\n",
    "    f.write('-' * 50 + '\\n')\n",
    "    for i in sorted([(i, dict_s[i]) for i in set_s - new_listed - set_c]):\n",
    "        f.write(str(i) + '\\n')"
   ]
  },
  {
   "cell_type": "code",
   "execution_count": 18,
   "metadata": {},
   "outputs": [
    {
     "output_type": "execute_result",
     "data": {
      "text/plain": [
       "3429"
      ]
     },
     "metadata": {},
     "execution_count": 18
    }
   ],
   "source": [
    "len(set_s - new_listed)"
   ]
  },
  {
   "cell_type": "code",
   "execution_count": 19,
   "metadata": {},
   "outputs": [
    {
     "output_type": "execute_result",
     "data": {
      "text/plain": [
       "set()"
      ]
     },
     "metadata": {},
     "execution_count": 19
    }
   ],
   "source": [
    "set_o - set_c"
   ]
  },
  {
   "cell_type": "code",
   "execution_count": 3,
   "metadata": {},
   "outputs": [],
   "source": [
    "df_balance = pd.read_csv('../../data/standard_dataset/total_sheet_3(standard_2)/csv/balance_general.csv')[['ticker', 'endDate']]\n",
    "df_cash_flow = pd.read_csv('../../data/standard_dataset/total_sheet_3(standard_2)/csv/cash_flow_general.csv')[['ticker', 'endDate']]\n",
    "df_income = pd.read_csv('../../data/standard_dataset/total_sheet_3(standard_2)/csv/income_general.csv')[['ticker', 'endDate']]"
   ]
  },
  {
   "cell_type": "code",
   "execution_count": 7,
   "metadata": {},
   "outputs": [],
   "source": [
    "df_all = pd.concat([df_balance, df_cash_flow, df_income]).drop_duplicates()\n",
    "df_all['ticker'] = df_all['ticker'].apply(lambda x: str(x).zfill(6))"
   ]
  },
  {
   "cell_type": "code",
   "execution_count": 29,
   "metadata": {},
   "outputs": [
    {
     "output_type": "execute_result",
     "data": {
      "text/plain": [
       "       ticker     endDate\n",
       "96445  600093  2007-03-31\n",
       "96446  600093  2007-06-30\n",
       "96447  600093  2007-09-30\n",
       "96448  600093  2007-12-31\n",
       "96449  600093  2008-03-31\n",
       "96450  600093  2008-06-30\n",
       "96451  600093  2008-09-30\n",
       "96452  600093  2008-12-31\n",
       "96453  600093  2009-03-31\n",
       "96454  600093  2009-06-30\n",
       "96455  600093  2009-09-30\n",
       "96456  600093  2009-12-31\n",
       "96457  600093  2010-03-31\n",
       "96458  600093  2010-06-30\n",
       "96459  600093  2010-09-30\n",
       "96460  600093  2010-12-31\n",
       "96461  600093  2011-03-31\n",
       "96462  600093  2011-06-30\n",
       "96463  600093  2011-09-30\n",
       "96464  600093  2011-12-31\n",
       "96465  600093  2012-03-31\n",
       "96466  600093  2012-06-30\n",
       "96467  600093  2012-09-30\n",
       "96468  600093  2012-12-31\n",
       "96469  600093  2013-03-31\n",
       "96470  600093  2013-06-30\n",
       "96471  600093  2013-09-30\n",
       "96472  600093  2013-12-31\n",
       "96473  600093  2014-03-31\n",
       "96474  600093  2014-06-30\n",
       "96475  600093  2014-09-30\n",
       "96476  600093  2014-12-31\n",
       "96477  600093  2015-03-31\n",
       "96478  600093  2015-06-30\n",
       "96479  600093  2015-09-30\n",
       "96480  600093  2015-12-31\n",
       "96481  600093  2016-03-31\n",
       "96482  600093  2016-06-30\n",
       "96483  600093  2016-09-30\n",
       "96484  600093  2016-12-31\n",
       "96485  600093  2017-03-31\n",
       "96486  600093  2017-06-30\n",
       "96487  600093  2017-09-30\n",
       "96488  600093  2017-12-31\n",
       "96489  600093  2018-03-31\n",
       "96490  600093  2018-06-30\n",
       "96491  600093  2018-09-30\n",
       "96492  600093  2018-12-31\n",
       "96493  600093  2019-03-31\n",
       "96494  600093  2019-06-30\n",
       "96495  600093  2019-09-30\n",
       "96496  600093  2019-12-31\n",
       "96497  600093  2020-03-31\n",
       "96498  600093  2020-06-30\n",
       "96499  600093  2020-09-30"
      ],
      "text/html": "<div>\n<style scoped>\n    .dataframe tbody tr th:only-of-type {\n        vertical-align: middle;\n    }\n\n    .dataframe tbody tr th {\n        vertical-align: top;\n    }\n\n    .dataframe thead th {\n        text-align: right;\n    }\n</style>\n<table border=\"1\" class=\"dataframe\">\n  <thead>\n    <tr style=\"text-align: right;\">\n      <th></th>\n      <th>ticker</th>\n      <th>endDate</th>\n    </tr>\n  </thead>\n  <tbody>\n    <tr>\n      <th>96445</th>\n      <td>600093</td>\n      <td>2007-03-31</td>\n    </tr>\n    <tr>\n      <th>96446</th>\n      <td>600093</td>\n      <td>2007-06-30</td>\n    </tr>\n    <tr>\n      <th>96447</th>\n      <td>600093</td>\n      <td>2007-09-30</td>\n    </tr>\n    <tr>\n      <th>96448</th>\n      <td>600093</td>\n      <td>2007-12-31</td>\n    </tr>\n    <tr>\n      <th>96449</th>\n      <td>600093</td>\n      <td>2008-03-31</td>\n    </tr>\n    <tr>\n      <th>96450</th>\n      <td>600093</td>\n      <td>2008-06-30</td>\n    </tr>\n    <tr>\n      <th>96451</th>\n      <td>600093</td>\n      <td>2008-09-30</td>\n    </tr>\n    <tr>\n      <th>96452</th>\n      <td>600093</td>\n      <td>2008-12-31</td>\n    </tr>\n    <tr>\n      <th>96453</th>\n      <td>600093</td>\n      <td>2009-03-31</td>\n    </tr>\n    <tr>\n      <th>96454</th>\n      <td>600093</td>\n      <td>2009-06-30</td>\n    </tr>\n    <tr>\n      <th>96455</th>\n      <td>600093</td>\n      <td>2009-09-30</td>\n    </tr>\n    <tr>\n      <th>96456</th>\n      <td>600093</td>\n      <td>2009-12-31</td>\n    </tr>\n    <tr>\n      <th>96457</th>\n      <td>600093</td>\n      <td>2010-03-31</td>\n    </tr>\n    <tr>\n      <th>96458</th>\n      <td>600093</td>\n      <td>2010-06-30</td>\n    </tr>\n    <tr>\n      <th>96459</th>\n      <td>600093</td>\n      <td>2010-09-30</td>\n    </tr>\n    <tr>\n      <th>96460</th>\n      <td>600093</td>\n      <td>2010-12-31</td>\n    </tr>\n    <tr>\n      <th>96461</th>\n      <td>600093</td>\n      <td>2011-03-31</td>\n    </tr>\n    <tr>\n      <th>96462</th>\n      <td>600093</td>\n      <td>2011-06-30</td>\n    </tr>\n    <tr>\n      <th>96463</th>\n      <td>600093</td>\n      <td>2011-09-30</td>\n    </tr>\n    <tr>\n      <th>96464</th>\n      <td>600093</td>\n      <td>2011-12-31</td>\n    </tr>\n    <tr>\n      <th>96465</th>\n      <td>600093</td>\n      <td>2012-03-31</td>\n    </tr>\n    <tr>\n      <th>96466</th>\n      <td>600093</td>\n      <td>2012-06-30</td>\n    </tr>\n    <tr>\n      <th>96467</th>\n      <td>600093</td>\n      <td>2012-09-30</td>\n    </tr>\n    <tr>\n      <th>96468</th>\n      <td>600093</td>\n      <td>2012-12-31</td>\n    </tr>\n    <tr>\n      <th>96469</th>\n      <td>600093</td>\n      <td>2013-03-31</td>\n    </tr>\n    <tr>\n      <th>96470</th>\n      <td>600093</td>\n      <td>2013-06-30</td>\n    </tr>\n    <tr>\n      <th>96471</th>\n      <td>600093</td>\n      <td>2013-09-30</td>\n    </tr>\n    <tr>\n      <th>96472</th>\n      <td>600093</td>\n      <td>2013-12-31</td>\n    </tr>\n    <tr>\n      <th>96473</th>\n      <td>600093</td>\n      <td>2014-03-31</td>\n    </tr>\n    <tr>\n      <th>96474</th>\n      <td>600093</td>\n      <td>2014-06-30</td>\n    </tr>\n    <tr>\n      <th>96475</th>\n      <td>600093</td>\n      <td>2014-09-30</td>\n    </tr>\n    <tr>\n      <th>96476</th>\n      <td>600093</td>\n      <td>2014-12-31</td>\n    </tr>\n    <tr>\n      <th>96477</th>\n      <td>600093</td>\n      <td>2015-03-31</td>\n    </tr>\n    <tr>\n      <th>96478</th>\n      <td>600093</td>\n      <td>2015-06-30</td>\n    </tr>\n    <tr>\n      <th>96479</th>\n      <td>600093</td>\n      <td>2015-09-30</td>\n    </tr>\n    <tr>\n      <th>96480</th>\n      <td>600093</td>\n      <td>2015-12-31</td>\n    </tr>\n    <tr>\n      <th>96481</th>\n      <td>600093</td>\n      <td>2016-03-31</td>\n    </tr>\n    <tr>\n      <th>96482</th>\n      <td>600093</td>\n      <td>2016-06-30</td>\n    </tr>\n    <tr>\n      <th>96483</th>\n      <td>600093</td>\n      <td>2016-09-30</td>\n    </tr>\n    <tr>\n      <th>96484</th>\n      <td>600093</td>\n      <td>2016-12-31</td>\n    </tr>\n    <tr>\n      <th>96485</th>\n      <td>600093</td>\n      <td>2017-03-31</td>\n    </tr>\n    <tr>\n      <th>96486</th>\n      <td>600093</td>\n      <td>2017-06-30</td>\n    </tr>\n    <tr>\n      <th>96487</th>\n      <td>600093</td>\n      <td>2017-09-30</td>\n    </tr>\n    <tr>\n      <th>96488</th>\n      <td>600093</td>\n      <td>2017-12-31</td>\n    </tr>\n    <tr>\n      <th>96489</th>\n      <td>600093</td>\n      <td>2018-03-31</td>\n    </tr>\n    <tr>\n      <th>96490</th>\n      <td>600093</td>\n      <td>2018-06-30</td>\n    </tr>\n    <tr>\n      <th>96491</th>\n      <td>600093</td>\n      <td>2018-09-30</td>\n    </tr>\n    <tr>\n      <th>96492</th>\n      <td>600093</td>\n      <td>2018-12-31</td>\n    </tr>\n    <tr>\n      <th>96493</th>\n      <td>600093</td>\n      <td>2019-03-31</td>\n    </tr>\n    <tr>\n      <th>96494</th>\n      <td>600093</td>\n      <td>2019-06-30</td>\n    </tr>\n    <tr>\n      <th>96495</th>\n      <td>600093</td>\n      <td>2019-09-30</td>\n    </tr>\n    <tr>\n      <th>96496</th>\n      <td>600093</td>\n      <td>2019-12-31</td>\n    </tr>\n    <tr>\n      <th>96497</th>\n      <td>600093</td>\n      <td>2020-03-31</td>\n    </tr>\n    <tr>\n      <th>96498</th>\n      <td>600093</td>\n      <td>2020-06-30</td>\n    </tr>\n    <tr>\n      <th>96499</th>\n      <td>600093</td>\n      <td>2020-09-30</td>\n    </tr>\n  </tbody>\n</table>\n</div>"
     },
     "metadata": {},
     "execution_count": 29
    }
   ],
   "source": [
    "df_all[df_all['ticker'] == '600093']"
   ]
  },
  {
   "cell_type": "code",
   "execution_count": 25,
   "metadata": {},
   "outputs": [],
   "source": [
    "comp = []\n",
    "for t, f in df_all.groupby('ticker').apply(lambda x: ('2020-12-31' not in tuple(x['endDate'])) and (len(tuple(x['endDate'])) > 0)).iteritems():\n",
    "    if f and t not in df_delist['TICKER'].values:\n",
    "        comp.append(t)\n"
   ]
  },
  {
   "cell_type": "code",
   "execution_count": 26,
   "metadata": {},
   "outputs": [
    {
     "output_type": "execute_result",
     "data": {
      "text/plain": [
       "['000760', '002359', '600093']"
      ]
     },
     "metadata": {},
     "execution_count": 26
    }
   ],
   "source": [
    "comp"
   ]
  },
  {
   "cell_type": "code",
   "execution_count": 24,
   "metadata": {},
   "outputs": [
    {
     "output_type": "execute_result",
     "data": {
      "text/plain": [
       "True"
      ]
     },
     "metadata": {},
     "execution_count": 24
    }
   ],
   "source": [
    "'000003' in df_delist['TICKER'].values"
   ]
  },
  {
   "cell_type": "code",
   "execution_count": null,
   "metadata": {},
   "outputs": [],
   "source": []
  }
 ]
}