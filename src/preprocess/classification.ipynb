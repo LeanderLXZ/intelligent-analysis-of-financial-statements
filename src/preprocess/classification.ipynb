{
 "cells": [
  {
   "cell_type": "code",
   "execution_count": 4,
   "metadata": {},
   "outputs": [],
   "source": [
    "import numpy as np\n",
    "import pandas as pd\n",
    "from os.path import join\n",
    "import matplotlib.pyplot as plt\n",
    "\n",
    "%matplotlib inline\n",
    "pd.set_option('display.max_rows', None)\n",
    "pd.set_option('display.max_columns', None)"
   ]
  },
  {
   "cell_type": "code",
   "execution_count": 5,
   "metadata": {},
   "outputs": [],
   "source": [
    "data_path = '../../data/classification/old'\n",
    "\n",
    "df = pd.read_csv(join(data_path, 'cal_now_values.csv'))\n",
    "df1 = pd.read_csv(join(data_path, 'class1.csv'))\n",
    "df2 = pd.read_csv(join(data_path, 'class2.csv'))\n",
    "df3 = pd.read_csv(join(data_path, 'class3.csv'))\n",
    "dict = {}\n",
    "for name, code in zip(df1['行业名称'], df1['申万行业代码']):\n",
    "    dict[code] = name\n",
    "for name, code in zip(df2['行业名称'], df2['申万行业代码']):\n",
    "    dict[code] = name\n",
    "for name, code in zip(df3['行业名称'], df3['申万行业代码']):\n",
    "    dict[code] = name"
   ]
  },
  {
   "cell_type": "code",
   "execution_count": 3,
   "metadata": {},
   "outputs": [
    {
     "output_type": "stream",
     "name": "stdout",
     "text": [
      "======================================================================\n",
      "日期:  20210522\n",
      "时间:  06:40:26\n",
      "----------------------------------------------------------------------\n",
      "获取交易日历...\n",
      "获取股票名称...\n",
      "获取tushare可转债表...\n"
     ]
    }
   ],
   "source": [
    "from stocks_info import StocksInfo\n",
    "import tushare as ts\n",
    "with open('tushare_token.txt', 'r') as f:\n",
    "    tushare_token = f.readline()\n",
    "ts.set_token(tushare_token)\n",
    "tushare_api = ts.pro_api()\n",
    "s = StocksInfo(api=tushare_api)\n",
    "new_cols = [col for col in df.columns if col != 'TICKER_SYMBOL'] + ['TICKER_SYMBOL']\n",
    "df = df[new_cols]\n",
    "stock_name = []\n",
    "stock_symbol = []\n",
    "for i in df['TICKER_SYMBOL'].values:\n",
    "    code = str(i).zfill(6)\n",
    "    stock_symbol.append(code)\n",
    "    if code in s.stock_name_dict:\n",
    "        stock_name.append(s.stock_name_dict[code])\n",
    "    else:\n",
    "        stock_name.append('')\n",
    "df['STOCK_NAME'] = stock_name\n",
    "df['TICKER_SYMBOL'] = stock_symbol"
   ]
  },
  {
   "cell_type": "code",
   "execution_count": 4,
   "metadata": {},
   "outputs": [],
   "source": [
    "data_path = '../../data/classification/shenwan'\n",
    "\n",
    "sw1 = pd.read_csv(join(data_path, 'shenwan_l1.csv'))\n",
    "sw2 = pd.read_csv(join(data_path, 'shenwan_l2.csv'))\n",
    "sw3 = pd.read_csv(join(data_path, 'shenwan_l3.csv'))\n",
    "dict_sw = {}\n",
    "for name, code in zip(sw1['industryName'], sw1['industrySymbol']):\n",
    "    dict_sw[code] = name\n",
    "for name, code in zip(sw2['industryName'], sw2['industrySymbol']):\n",
    "    dict_sw[code] = name\n",
    "for name, code in zip(sw3['industryName'], sw3['industrySymbol']):\n",
    "    dict_sw[code] = name\n",
    "\n",
    "df_swc = pd.read_csv(join(data_path, 'shenwan_classification.csv'))\n",
    "df_swc = df_swc.sort_values(by=['ticker','intoDate'])\n",
    "dict_swc = {}\n",
    "for i, row in df_swc.iterrows():\n",
    "    if np.isnan(row['industrySymbol']):\n",
    "        print(row['ticker'], row['secShortName'])\n",
    "    else:\n",
    "        dict_swc[row['ticker']] = (int(row['industrySymbol']), row['industryName3'])"
   ]
  },
  {
   "cell_type": "markdown",
   "metadata": {},
   "source": [
    "# Test Shenwan Classes\n",
    "***"
   ]
  },
  {
   "cell_type": "code",
   "execution_count": 5,
   "metadata": {},
   "outputs": [
    {
     "output_type": "stream",
     "name": "stdout",
     "text": [
      "28\n104\n242\n"
     ]
    }
   ],
   "source": [
    "set_1 = set()\n",
    "set_2 = set()\n",
    "set_3 = set()\n",
    "L1 = list(df['classifi_by_14L1'].values.copy())\n",
    "print(len(set(L1)))\n",
    "for i, l in enumerate(L1):\n",
    "    if l not in dict_sw:\n",
    "        set_1.add(l)\n",
    "    else:\n",
    "        L1[i] = dict_sw[l]\n",
    "L2 = list(df['classifi_by_14L2'].values.copy())\n",
    "print(len(set(L2)))\n",
    "for i, l in enumerate(L2):\n",
    "    if l not in dict_sw:\n",
    "        set_2.add(l)\n",
    "    else:\n",
    "        L2[i] = dict_sw[l]\n",
    "L3 = list(df['classifi_by_14L3'].values.copy())\n",
    "print(len(set(L3)))\n",
    "for i, l in enumerate(L3):\n",
    "    if l not in dict_sw:\n",
    "        set_3.add(l)\n",
    "    else:\n",
    "        L3[i] = dict_sw[l]"
   ]
  },
  {
   "cell_type": "code",
   "execution_count": 6,
   "metadata": {},
   "outputs": [
    {
     "output_type": "execute_result",
     "data": {
      "text/plain": [
       "[(310304, '航空航天设备'),\n",
       " (310402, '其他交运设备服务'),\n",
       " (270201, '元件'),\n",
       " (320101, '交换设备'),\n",
       " (240106, '小金属'),\n",
       " (260402, '电气自控设备'),\n",
       " (260404, '输变电设备'),\n",
       " (450101, '百货零售'),\n",
       " (450103, '商业物业经营'),\n",
       " (310104, '专用汽车'),\n",
       " (250201, '建筑施工'),\n",
       " (250202, '装饰园林'),\n",
       " (350201, '服装'),\n",
       " (470302, '软件开发及服务'),\n",
       " (470303, '系统集成')]"
      ]
     },
     "metadata": {},
     "execution_count": 6
    }
   ],
   "source": [
    "[(s, dict[s]) for s in set_3]"
   ]
  },
  {
   "cell_type": "markdown",
   "metadata": {},
   "source": [
    "# Fixed\n",
    "***"
   ]
  },
  {
   "cell_type": "code",
   "execution_count": 7,
   "metadata": {},
   "outputs": [
    {
     "output_type": "stream",
     "name": "stdout",
     "text": [
      "28\n",
      "104\n",
      "242\n",
      "227\n"
     ]
    }
   ],
   "source": [
    "L1 = list(df['classifi_by_14L1'].values.copy())\n",
    "print(len(set(L1)))\n",
    "for i, l in enumerate(df['classifi_by_14L1'].values):\n",
    "    L1[i] = dict[l]\n",
    "df['14_L1_NAME'] = L1\n",
    "\n",
    "L2 = list(df['classifi_by_14L2'].values.copy())\n",
    "print(len(set(L2)))\n",
    "for i, l in enumerate(df['classifi_by_14L2'].values):\n",
    "    L2[i] = dict[l]\n",
    "df['14_L2_NAME'] = L2\n",
    "\n",
    "L3 = list(df['classifi_by_14L3'].values.copy())\n",
    "L3_name = []\n",
    "orig_L3 = []\n",
    "orig_L3_name = []\n",
    "fixed_flag = []\n",
    "print(len(set(L3)))\n",
    "\n",
    "for i, l in enumerate(df['classifi_by_14L3'].values):\n",
    "    if l not in dict_sw:\n",
    "        L3[i] = dict_swc[stock_symbol[i]][0]\n",
    "        L3_name.append(dict_swc[stock_symbol[i]][1])\n",
    "        orig_L3.append(l)\n",
    "        orig_L3_name.append(dict[l])\n",
    "        fixed_flag.append(1)\n",
    "    else:\n",
    "        L3_name.append(dict[l])\n",
    "        orig_L3.append(np.nan)\n",
    "        orig_L3_name.append('')\n",
    "        fixed_flag.append(0)\n",
    "df['classifi_by_14L3'] = L3\n",
    "df['14_L3_NAME'] = L3_name\n",
    "df['FIXED_FLAG'] = fixed_flag\n",
    "df['ORIGINAL_L3'] = orig_L3\n",
    "df['ORIGINAL_L3_NAME'] = orig_L3_name\n",
    "\n",
    "print(len(set(df['classifi_by_14L3'].values)))\n",
    "df = df.rename(columns={'year': 'YEAR', \n",
    "                        'month': 'MONTH', \n",
    "                        'classifi_by_14L1': '14_L1', \n",
    "                        'classifi_by_14L2': '14_L2', \n",
    "                        'classifi_by_14L3': '14_L3'})"
   ]
  },
  {
   "cell_type": "code",
   "execution_count": 8,
   "metadata": {},
   "outputs": [],
   "source": [
    "df_new = df[['TICKER_SYMBOL', 'STOCK_NAME', 'YEAR', 'MONTH', 'REPORT_TYPE', \n",
    "             '14_L1', '14_L1_NAME', '14_L2', '14_L2_NAME', '14_L3', '14_L3_NAME',\n",
    "             'FIXED_FLAG', 'ORIGINAL_L3', 'ORIGINAL_L3_NAME']]\n",
    "\n",
    "data_path = '../../data/classification/'\n",
    "\n",
    "df_new.to_excel(join(data_path, 'classification_fixed.xlsx'), index=False)\n",
    "df_new.to_csv(join(data_path, 'classification_fixed.csv'), index=False)\n",
    "# df.to_excel(join(data_path, 'total_fixed.xlsx'))"
   ]
  },
  {
   "cell_type": "markdown",
   "metadata": {},
   "source": [
    "# Original + Shenwan L3 + Errors\n",
    "***"
   ]
  },
  {
   "cell_type": "code",
   "execution_count": 9,
   "metadata": {},
   "outputs": [
    {
     "name": "stdout",
     "output_type": "stream",
     "text": [
      "28\n",
      "104\n",
      "242\n"
     ]
    }
   ],
   "source": [
    "L1 = list(df['classifi_by_14L1'].values.copy())\n",
    "print(len(set(L1)))\n",
    "for i, l in enumerate(L1):\n",
    "    L1[i] = dict[l]\n",
    "df['14L1_CN'] = L1\n",
    "\n",
    "L2 = list(df['classifi_by_14L2'].values.copy())\n",
    "print(len(set(L2)))\n",
    "for i, l in enumerate(L2):\n",
    "    L2[i] = dict[l]\n",
    "df['14L2_CN'] = L2\n",
    "\n",
    "L3 = list(df['classifi_by_14L3'].values.copy())\n",
    "print(len(set(L3)))\n",
    "\n",
    "ShenwanL3 = []\n",
    "ShenwanL3_CN = []\n",
    "for i, l in enumerate(L3):\n",
    "    ShenwanL3.append(dict_swc[stock_symbol[i]][0])\n",
    "    ShenwanL3_CN.append(dict_swc[stock_symbol[i]][1])\n",
    "    L3[i] = dict[l]\n",
    "df['14L3_CN'] = L3\n",
    "df['ShenwanL3'] = ShenwanL3\n",
    "df['ShenwanL3_CN'] = ShenwanL3_CN"
   ]
  },
  {
   "cell_type": "code",
   "execution_count": 10,
   "metadata": {},
   "outputs": [],
   "source": [
    "df_new = df[['TICKER_SYMBOL', 'STOCK_NAME', 'year', 'month', \n",
    "             'REPORT_TYPE', \n",
    "             'classifi_by_14L1', '14L1_CN',\n",
    "             'classifi_by_14L2', '14L2_CN',\n",
    "             'classifi_by_14L3', '14L3_CN', \n",
    "             'ShenwanL3', 'ShenwanL3_CN']]"
   ]
  },
  {
   "cell_type": "code",
   "execution_count": 11,
   "metadata": {},
   "outputs": [],
   "source": [
    "df_new.to_excel('classification.xlsx')\n",
    "# df.to_excel('total.xlsx')"
   ]
  },
  {
   "cell_type": "code",
   "execution_count": null,
   "metadata": {},
   "outputs": [],
   "source": [
    "lll = []\n",
    "df_n = pd.DataFrame()\n",
    "for i, row in df_new.iterrows():\n",
    "    if row['classifi_by_14L3'] not in dict_sw:\n",
    "        df_n = df_n.append(row)\n",
    "df_n=df_n[['TICKER_SYMBOL', 'STOCK_NAME', 'year', 'month',\n",
    "            'classifi_by_14L1', '14L1_CN',\n",
    "             'classifi_by_14L2', '14L2_CN',\n",
    "             'classifi_by_14L3', '14L3_CN', \n",
    "             'ShenwanL3', 'ShenwanL3_CN']]\n",
    "df_n.head()"
   ]
  },
  {
   "cell_type": "code",
   "execution_count": 11,
   "metadata": {},
   "outputs": [],
   "source": [
    "df_n.to_excel('errors.xlsx')"
   ]
  },
  {
   "cell_type": "markdown",
   "metadata": {},
   "source": [
    "# Test Class\n",
    "***"
   ]
  },
  {
   "cell_type": "code",
   "execution_count": 12,
   "metadata": {},
   "outputs": [],
   "source": [
    "df1.to_excel('Class1.xlsx')\n",
    "df2.to_excel('Class2.xlsx')\n",
    "df3.to_excel('Class3.xlsx')"
   ]
  },
  {
   "cell_type": "code",
   "execution_count": 13,
   "metadata": {},
   "outputs": [
    {
     "data": {
      "text/plain": [
       "242"
      ]
     },
     "execution_count": 13,
     "metadata": {},
     "output_type": "execute_result"
    }
   ],
   "source": [
    "len(set(list(df['classifi_by_14L3'])))"
   ]
  },
  {
   "cell_type": "code",
   "execution_count": 21,
   "metadata": {},
   "outputs": [
    {
     "data": {
      "text/plain": [
       "312"
      ]
     },
     "execution_count": 21,
     "metadata": {},
     "output_type": "execute_result"
    }
   ],
   "source": [
    "len(set(df['industrySymbol_level_3'].values))"
   ]
  },
  {
   "source": [
    "# Generate fixed classification"
   ],
   "cell_type": "markdown",
   "metadata": {}
  },
  {
   "cell_type": "code",
   "execution_count": 1,
   "metadata": {},
   "outputs": [],
   "source": [
    "import numpy as np\n",
    "import pandas as pd\n",
    "from os.path import join\n",
    "import matplotlib.pyplot as plt\n",
    "\n",
    "%matplotlib inline\n",
    "pd.set_option('display.max_rows', None)\n",
    "pd.set_option('display.max_columns', None)"
   ]
  },
  {
   "cell_type": "code",
   "execution_count": 3,
   "metadata": {},
   "outputs": [],
   "source": [
    "data_path = '../../data/classification'\n",
    "\n",
    "df = pd.read_csv(join(data_path, 'old/cal_now_values.csv'))\n",
    "df['TICKER_SYMBOL'] = df['TICKER_SYMBOL'].apply(lambda x: str(x).zfill(6))\n",
    "\n",
    "# df1 = pd.read_csv(join(data_path, 'shenwan/class1.csv'))\n",
    "# df2 = pd.read_csv(join(data_path, 'shenwan/class2.csv'))\n",
    "# dict_name = {}\n",
    "\n",
    "# for name, code in zip(df1['行业名称'], df1['申万行业代码']):\n",
    "#     dict_name[code] = name\n",
    "# for name, code in zip(df2['行业名称'], df2['申万行业代码']):\n",
    "#     dict_name[code] = name\n",
    "\n",
    "df1 = pd.read_csv(\n",
    "    join(data_path, 'shenwan/shenwan_l1.csv'))\n",
    "df2 = pd.read_csv(\n",
    "    join(data_path, 'shenwan/shenwan_l2.csv'))\n",
    "sw_name_dict = {}\n",
    "for code, name in zip(df1['industrySymbol'], df1['industryName']):\n",
    "    sw_name_dict[code] = name\n",
    "for code, name in zip(df2['industrySymbol'], df2['industryName']):\n",
    "    sw_name_dict[code] = name\n",
    "\n",
    "df_fixed = pd.read_csv(join(data_path, 'classification_fixed_L2.csv'))\n",
    "df_fixed['ticker'] = df_fixed['ticker'].apply(lambda x: str(x).zfill(6))"
   ]
  },
  {
   "cell_type": "code",
   "execution_count": 4,
   "metadata": {},
   "outputs": [
    {
     "output_type": "stream",
     "name": "stdout",
     "text": [
      "28\n104\n"
     ]
    }
   ],
   "source": [
    "L1 = list(df['classifi_by_14L1'].values.copy())\n",
    "print(len(set(L1)))\n",
    "for i, l in enumerate(L1):\n",
    "    L1[i] = sw_name_dict[l]\n",
    "df['class_L1_CN'] = L1\n",
    "\n",
    "L2 = list(df['classifi_by_14L2'].values.copy())\n",
    "print(len(set(L2)))\n",
    "for i, l in enumerate(L2):\n",
    "    L2[i] = sw_name_dict[l]\n",
    "df['class_L2_CN'] = L2"
   ]
  },
  {
   "cell_type": "code",
   "execution_count": 5,
   "metadata": {},
   "outputs": [],
   "source": [
    "df= df[['TICKER_SYMBOL', 'classifi_by_14L1', 'class_L1_CN', 'classifi_by_14L2', 'class_L2_CN', 'END_DATE']]\n",
    "df = df.rename(columns={\n",
    "    'TICKER_SYMBOL': 'ticker',\n",
    "    'END_DATE': 'endDate', \n",
    "    'classifi_by_14L1': 'class_L1',\n",
    "    'classifi_by_14L2': 'class_L2'\n",
    "}, errors='ignore')\n",
    "df = df.reset_index()"
   ]
  },
  {
   "cell_type": "code",
   "execution_count": 6,
   "metadata": {},
   "outputs": [],
   "source": [
    "df = df.set_index(['ticker', 'endDate'])\n",
    "df = df.drop(columns=['index'])\n",
    "month_2_date = {\n",
    "    3: '-03-31',\n",
    "    6: '-06-30',\n",
    "    9: '-09-30',\n",
    "    12: '-12-31'\n",
    "}\n",
    "for _, row in df_fixed.iterrows():\n",
    "    ticker = row['ticker']\n",
    "    month = row['month']\n",
    "    class_L2 = str(row['fixed_L2'])\n",
    "    class_L2_CN = row['fixed_L2_CN']\n",
    "    class_L1 = class_L2[:2] +'0000'\n",
    "    class_L1_CN = sw_name_dict[int(class_L1)]\n",
    "    end_date = str(row['year']) + month_2_date[row['month']]\n",
    "    df.loc[(ticker, end_date), 'class_L1'] = class_L1\n",
    "    df.loc[(ticker, end_date), 'class_L1_CN'] = class_L1_CN\n",
    "    df.loc[(ticker, end_date), 'class_L2'] = class_L2\n",
    "    df.loc[(ticker, end_date), 'class_L2_CN'] = class_L2_CN"
   ]
  },
  {
   "cell_type": "code",
   "execution_count": 7,
   "metadata": {},
   "outputs": [],
   "source": [
    "df = df.rename(columns={\n",
    "    'TICKER_SYMBOL': 'ticker',\n",
    "    'END_DATE': 'endDate', \n",
    "    'classifi_by_14L1': 'class_L1',\n",
    "    'classifi_by_14L2': 'class_L2'\n",
    "}, errors='ignore')\n",
    "df = df.reset_index()\n"
   ]
  },
  {
   "cell_type": "code",
   "execution_count": 8,
   "metadata": {},
   "outputs": [
    {
     "output_type": "execute_result",
     "data": {
      "text/plain": [
       "   ticker     endDate class_L1 class_L1_CN class_L2 class_L2_CN\n",
       "0  000001  2009-03-31   480000          银行   480100          银行\n",
       "1  000001  2009-06-30   480000          银行   480100          银行\n",
       "2  000001  2009-09-30   480000          银行   480100          银行\n",
       "3  000001  2009-12-31   480000          银行   480100          银行\n",
       "4  000001  2010-03-31   480000          银行   480100          银行"
      ],
      "text/html": "<div>\n<style scoped>\n    .dataframe tbody tr th:only-of-type {\n        vertical-align: middle;\n    }\n\n    .dataframe tbody tr th {\n        vertical-align: top;\n    }\n\n    .dataframe thead th {\n        text-align: right;\n    }\n</style>\n<table border=\"1\" class=\"dataframe\">\n  <thead>\n    <tr style=\"text-align: right;\">\n      <th></th>\n      <th>ticker</th>\n      <th>endDate</th>\n      <th>class_L1</th>\n      <th>class_L1_CN</th>\n      <th>class_L2</th>\n      <th>class_L2_CN</th>\n    </tr>\n  </thead>\n  <tbody>\n    <tr>\n      <th>0</th>\n      <td>000001</td>\n      <td>2009-03-31</td>\n      <td>480000</td>\n      <td>银行</td>\n      <td>480100</td>\n      <td>银行</td>\n    </tr>\n    <tr>\n      <th>1</th>\n      <td>000001</td>\n      <td>2009-06-30</td>\n      <td>480000</td>\n      <td>银行</td>\n      <td>480100</td>\n      <td>银行</td>\n    </tr>\n    <tr>\n      <th>2</th>\n      <td>000001</td>\n      <td>2009-09-30</td>\n      <td>480000</td>\n      <td>银行</td>\n      <td>480100</td>\n      <td>银行</td>\n    </tr>\n    <tr>\n      <th>3</th>\n      <td>000001</td>\n      <td>2009-12-31</td>\n      <td>480000</td>\n      <td>银行</td>\n      <td>480100</td>\n      <td>银行</td>\n    </tr>\n    <tr>\n      <th>4</th>\n      <td>000001</td>\n      <td>2010-03-31</td>\n      <td>480000</td>\n      <td>银行</td>\n      <td>480100</td>\n      <td>银行</td>\n    </tr>\n  </tbody>\n</table>\n</div>"
     },
     "metadata": {},
     "execution_count": 8
    }
   ],
   "source": [
    "df.head()"
   ]
  },
  {
   "cell_type": "code",
   "execution_count": 9,
   "metadata": {},
   "outputs": [],
   "source": [
    "df.to_csv('../../data/classification/classification.csv', index=False)"
   ]
  },
  {
   "cell_type": "code",
   "execution_count": null,
   "metadata": {},
   "outputs": [],
   "source": []
  },
  {
   "cell_type": "code",
   "execution_count": null,
   "metadata": {},
   "outputs": [],
   "source": []
  },
  {
   "cell_type": "code",
   "execution_count": null,
   "metadata": {},
   "outputs": [],
   "source": [
    "df = df[:10000]"
   ]
  },
  {
   "cell_type": "code",
   "execution_count": 3,
   "metadata": {},
   "outputs": [],
   "source": [
    "selected_1 = df.groupby(['TICKER_SYMBOL', 'END_DATE']).apply(\n",
    "    lambda x: tuple(x[x['END_DATE_REP'] == x['END_DATE_REP'].values[-1]].index))"
   ]
  },
  {
   "cell_type": "code",
   "execution_count": 4,
   "metadata": {},
   "outputs": [],
   "source": [
    "idx_dup_1 = []\n",
    "for i in selected_1.values:\n",
    "    if len(i) > 1:\n",
    "        idx_dup_1.extend(i)"
   ]
  },
  {
   "cell_type": "code",
   "execution_count": 5,
   "metadata": {},
   "outputs": [
    {
     "output_type": "execute_result",
     "data": {
      "text/plain": [
       "Empty DataFrame\n",
       "Columns: [TICKER_SYMBOL, END_DATE, END_DATE_REP, PUBLISH_DATE]\n",
       "Index: []"
      ],
      "text/html": "<div>\n<style scoped>\n    .dataframe tbody tr th:only-of-type {\n        vertical-align: middle;\n    }\n\n    .dataframe tbody tr th {\n        vertical-align: top;\n    }\n\n    .dataframe thead th {\n        text-align: right;\n    }\n</style>\n<table border=\"1\" class=\"dataframe\">\n  <thead>\n    <tr style=\"text-align: right;\">\n      <th></th>\n      <th>TICKER_SYMBOL</th>\n      <th>END_DATE</th>\n      <th>END_DATE_REP</th>\n      <th>PUBLISH_DATE</th>\n    </tr>\n  </thead>\n  <tbody>\n  </tbody>\n</table>\n</div>"
     },
     "metadata": {},
     "execution_count": 5
    }
   ],
   "source": [
    "df.loc[idx_dup_1][['TICKER_SYMBOL', 'END_DATE', 'END_DATE_REP', 'PUBLISH_DATE']]"
   ]
  },
  {
   "cell_type": "code",
   "execution_count": 6,
   "metadata": {},
   "outputs": [
    {
     "output_type": "execute_result",
     "data": {
      "text/plain": [
       "Empty DataFrame\n",
       "Columns: [TICKER_SYMBOL, END_DATE, END_DATE_REP, PUBLISH_DATE]\n",
       "Index: []"
      ],
      "text/html": "<div>\n<style scoped>\n    .dataframe tbody tr th:only-of-type {\n        vertical-align: middle;\n    }\n\n    .dataframe tbody tr th {\n        vertical-align: top;\n    }\n\n    .dataframe thead th {\n        text-align: right;\n    }\n</style>\n<table border=\"1\" class=\"dataframe\">\n  <thead>\n    <tr style=\"text-align: right;\">\n      <th></th>\n      <th>TICKER_SYMBOL</th>\n      <th>END_DATE</th>\n      <th>END_DATE_REP</th>\n      <th>PUBLISH_DATE</th>\n    </tr>\n  </thead>\n  <tbody>\n  </tbody>\n</table>\n</div>"
     },
     "metadata": {},
     "execution_count": 6
    }
   ],
   "source": [
    "selected_2 = df.groupby(['TICKER_SYMBOL', 'END_DATE', 'END_DATE_REP']).apply(lambda x: tuple(x[x['PUBLISH_DATE'] == x['PUBLISH_DATE'].values[-1]].index))\n",
    "idx_dup_2 = []\n",
    "for i in selected_2.values:\n",
    "    if len(i) > 1:\n",
    "        idx_dup_2.extend(i)\n",
    "df.loc[idx_dup_2][['TICKER_SYMBOL', 'END_DATE', 'END_DATE_REP', 'PUBLISH_DATE']]"
   ]
  },
  {
   "cell_type": "code",
   "execution_count": null,
   "metadata": {},
   "outputs": [],
   "source": []
  }
 ],
 "metadata": {
  "kernelspec": {
   "name": "python3710jvsc74a57bd0274ae7b1ae6bdb01b6edc022f96e68befb0463a18757fe08f3108c854cb76e94",
   "display_name": "Python 3.7.10 64-bit ('base': conda)"
  },
  "language_info": {
   "codemirror_mode": {
    "name": "ipython",
    "version": 3
   },
   "file_extension": ".py",
   "mimetype": "text/x-python",
   "name": "python",
   "nbconvert_exporter": "python",
   "pygments_lexer": "ipython3",
   "version": "3.7.10"
  }
 },
 "nbformat": 4,
 "nbformat_minor": 4
}