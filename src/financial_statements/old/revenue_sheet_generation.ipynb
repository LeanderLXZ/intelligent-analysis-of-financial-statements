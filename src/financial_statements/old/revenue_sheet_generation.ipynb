{
 "metadata": {
  "language_info": {
   "codemirror_mode": {
    "name": "ipython",
    "version": 3
   },
   "file_extension": ".py",
   "mimetype": "text/x-python",
   "name": "python",
   "nbconvert_exporter": "python",
   "pygments_lexer": "ipython3",
   "version": "3.7.6-final"
  },
  "orig_nbformat": 2,
  "kernelspec": {
   "name": "Python 3.7.6 64-bit ('base': conda)",
   "display_name": "Python 3.7.6 64-bit ('base': conda)",
   "metadata": {
    "interpreter": {
     "hash": "274ae7b1ae6bdb01b6edc022f96e68befb0463a18757fe08f3108c854cb76e94"
    }
   }
  }
 },
 "nbformat": 4,
 "nbformat_minor": 2,
 "cells": [
  {
   "cell_type": "code",
   "execution_count": 1,
   "metadata": {},
   "outputs": [],
   "source": [
    "import numpy as np\n",
    "import pandas as pd\n",
    "import matplotlib.pyplot as plt\n",
    "import tushare as ts\n",
    "\n",
    "with open('../../tushare_token.txt', 'r') as f:\n",
    "    token = f.readline()\n",
    "\n",
    "ts.set_token(token)\n",
    "tushare_api = ts.pro_api()\n",
    "\n",
    "%matplotlib inline\n",
    "pd.set_option('display.max_rows', None)\n",
    "pd.set_option('display.max_columns', None)"
   ]
  },
  {
   "cell_type": "code",
   "execution_count": 2,
   "metadata": {},
   "outputs": [],
   "source": [
    "df_income = pd.read_csv('../../data/financial_statements/income_sheet.csv')\n",
    "df_income = df_income[df_income['end_date'].apply(lambda x: str(x)[4:]=='1231')]\n",
    "df_income.drop_duplicates(subset=['end_date', 'ts_code'], keep='last', inplace=True)\n",
    "df_income['end_date'] = df_income['end_date'].apply(lambda x: int(x/10000))\n",
    "df_income['ts_code'] = df_income['ts_code'].apply(lambda x: x[:6])\n",
    "\n",
    "df_income.set_index(['end_date', 'comp_type', 'ts_code'], inplace=True)\n",
    "df_income.index.names = [None, 'comp_type', 'code']\n",
    "\n",
    "df_income_r = df_income[['revenue']]\n",
    "df_income_tr = df_income[['total_revenue']]\n",
    "\n",
    "df_income_r = df_income_r.unstack([1, 2]).T\n",
    "df_income_r.reset_index(inplace=True)\n",
    "df_income_r = df_income_r.drop(['level_0'], axis=1)\n",
    "df_income_r.set_index('code', inplace=True)\n",
    "# df_income_r.to_csv('../../data/revenue/revenue.csv', index=True)\n",
    "\n",
    "df_income_tr = df_income_tr.unstack([1, 2]).T\n",
    "df_income_tr.reset_index(inplace=True)\n",
    "df_income_tr = df_income_tr.drop(['level_0'], axis=1)\n",
    "df_income_tr.set_index('code', inplace=True)\n",
    "# df_income_r.to_csv('../../data/revenue/total_revenue.csv', index=True)"
   ]
  },
  {
   "cell_type": "code",
   "execution_count": 3,
   "metadata": {},
   "outputs": [
    {
     "output_type": "execute_result",
     "data": {
      "text/plain": "        comp_type  1988       1989         1990        1991          1992  \\\ncode                                                                        \n000001        2.0   NaN        NaN          NaN         NaN           NaN   \n000002        1.0   NaN        NaN          NaN         NaN           NaN   \n000004        1.0   NaN        NaN          NaN         NaN  9.480596e+07   \n000005        1.0   NaN        NaN          NaN         NaN           NaN   \n000006        1.0   NaN  9273600.0  31750411.65  83825196.6  1.081658e+08   \n\n                1993          1994          1995          1996          1997  \\\ncode                                                                           \n000001           NaN           NaN           NaN           NaN  1.869233e+09   \n000002  1.084045e+09  1.227544e+09  1.503755e+09  1.177714e+09  1.947641e+09   \n000004  2.117347e+08  2.051317e+08  6.436075e+08  3.330931e+08  3.386076e+08   \n000005  3.406867e+07  3.002047e+08  2.508866e+08  1.071974e+08  4.076809e+07   \n000006  1.510638e+08  1.359192e+08  1.101105e+08  1.852225e+08  1.304273e+09   \n\n                1998          1999          2000          2001          2002  \\\ncode                                                                           \n000001  1.963738e+09  1.724955e+09  1.812893e+09  2.597464e+09  3.769718e+09   \n000002  2.246117e+09  2.872796e+09  3.783669e+09  4.455065e+09  4.574360e+09   \n000004  1.207312e+08  1.256476e+08  1.310066e+08  6.198446e+07  1.212256e+08   \n000005  4.157128e+07  1.355727e+08  1.459475e+08  6.712823e+07  5.494323e+07   \n000006  1.641849e+09  1.942494e+09  1.883722e+09  2.024190e+09  2.084211e+09   \n\n                2003          2004          2005          2006          2007  \\\ncode                                                                           \n000001  3.850803e+09  5.273549e+09  5.450551e+09  7.135218e+09  1.080750e+10   \n000002  6.380060e+09  7.667226e+09  1.055885e+10  1.791833e+10  3.552661e+10   \n000004  1.195350e+08  1.067478e+08  6.137672e+07  4.766864e+07  4.044954e+07   \n000005  9.157534e+07  4.937819e+07  4.539573e+07  3.307376e+08  2.990316e+08   \n000006  1.988931e+09  1.876976e+09  1.433865e+09  1.254539e+09  1.024038e+09   \n\n                2008          2009          2010          2011          2012  \\\ncode                                                                           \n000001  1.451312e+10  1.511444e+10  1.802228e+10  2.964306e+10  3.974865e+10   \n000002  4.099178e+10  4.888101e+10  5.071385e+10  7.178275e+10  1.031162e+11   \n000004  4.331482e+07  6.008060e+07  1.313315e+08  7.450372e+07  9.736330e+07   \n000005  1.087203e+08  4.319248e+07  1.372342e+08  6.353484e+07  9.942123e+07   \n000006  1.021745e+09  1.849236e+09  2.338735e+09  2.589275e+09  3.076245e+09   \n\n                2013          2014          2015          2016          2017  \\\ncode                                                                           \n000001  5.218900e+10  7.340700e+10  9.616300e+10  1.077150e+11  1.057860e+11   \n000002  1.354188e+11  1.463880e+11  1.955491e+11  2.404772e+11  2.428971e+11   \n000004  7.278457e+07  8.060882e+07  1.204544e+08  2.876700e+08  1.386058e+08   \n000005  5.206170e+07  5.277699e+07  8.412597e+07  4.818634e+08  5.309222e+08   \n000006  4.610855e+09  2.328730e+09  3.654309e+09  3.358826e+09  2.959450e+09   \n\n                2018          2019  \ncode                                \n000001  1.167160e+11  1.379580e+11  \n000002  2.976793e+11  3.678939e+11  \n000004  3.668688e+08  1.082467e+08  \n000005  4.861810e+08  5.526091e+08  \n000006  2.511844e+09  3.731330e+09  ",
      "text/html": "<div>\n<style scoped>\n    .dataframe tbody tr th:only-of-type {\n        vertical-align: middle;\n    }\n\n    .dataframe tbody tr th {\n        vertical-align: top;\n    }\n\n    .dataframe thead th {\n        text-align: right;\n    }\n</style>\n<table border=\"1\" class=\"dataframe\">\n  <thead>\n    <tr style=\"text-align: right;\">\n      <th></th>\n      <th>comp_type</th>\n      <th>1988</th>\n      <th>1989</th>\n      <th>1990</th>\n      <th>1991</th>\n      <th>1992</th>\n      <th>1993</th>\n      <th>1994</th>\n      <th>1995</th>\n      <th>1996</th>\n      <th>1997</th>\n      <th>1998</th>\n      <th>1999</th>\n      <th>2000</th>\n      <th>2001</th>\n      <th>2002</th>\n      <th>2003</th>\n      <th>2004</th>\n      <th>2005</th>\n      <th>2006</th>\n      <th>2007</th>\n      <th>2008</th>\n      <th>2009</th>\n      <th>2010</th>\n      <th>2011</th>\n      <th>2012</th>\n      <th>2013</th>\n      <th>2014</th>\n      <th>2015</th>\n      <th>2016</th>\n      <th>2017</th>\n      <th>2018</th>\n      <th>2019</th>\n    </tr>\n    <tr>\n      <th>code</th>\n      <th></th>\n      <th></th>\n      <th></th>\n      <th></th>\n      <th></th>\n      <th></th>\n      <th></th>\n      <th></th>\n      <th></th>\n      <th></th>\n      <th></th>\n      <th></th>\n      <th></th>\n      <th></th>\n      <th></th>\n      <th></th>\n      <th></th>\n      <th></th>\n      <th></th>\n      <th></th>\n      <th></th>\n      <th></th>\n      <th></th>\n      <th></th>\n      <th></th>\n      <th></th>\n      <th></th>\n      <th></th>\n      <th></th>\n      <th></th>\n      <th></th>\n      <th></th>\n      <th></th>\n    </tr>\n  </thead>\n  <tbody>\n    <tr>\n      <th>000001</th>\n      <td>2.0</td>\n      <td>NaN</td>\n      <td>NaN</td>\n      <td>NaN</td>\n      <td>NaN</td>\n      <td>NaN</td>\n      <td>NaN</td>\n      <td>NaN</td>\n      <td>NaN</td>\n      <td>NaN</td>\n      <td>1.869233e+09</td>\n      <td>1.963738e+09</td>\n      <td>1.724955e+09</td>\n      <td>1.812893e+09</td>\n      <td>2.597464e+09</td>\n      <td>3.769718e+09</td>\n      <td>3.850803e+09</td>\n      <td>5.273549e+09</td>\n      <td>5.450551e+09</td>\n      <td>7.135218e+09</td>\n      <td>1.080750e+10</td>\n      <td>1.451312e+10</td>\n      <td>1.511444e+10</td>\n      <td>1.802228e+10</td>\n      <td>2.964306e+10</td>\n      <td>3.974865e+10</td>\n      <td>5.218900e+10</td>\n      <td>7.340700e+10</td>\n      <td>9.616300e+10</td>\n      <td>1.077150e+11</td>\n      <td>1.057860e+11</td>\n      <td>1.167160e+11</td>\n      <td>1.379580e+11</td>\n    </tr>\n    <tr>\n      <th>000002</th>\n      <td>1.0</td>\n      <td>NaN</td>\n      <td>NaN</td>\n      <td>NaN</td>\n      <td>NaN</td>\n      <td>NaN</td>\n      <td>1.084045e+09</td>\n      <td>1.227544e+09</td>\n      <td>1.503755e+09</td>\n      <td>1.177714e+09</td>\n      <td>1.947641e+09</td>\n      <td>2.246117e+09</td>\n      <td>2.872796e+09</td>\n      <td>3.783669e+09</td>\n      <td>4.455065e+09</td>\n      <td>4.574360e+09</td>\n      <td>6.380060e+09</td>\n      <td>7.667226e+09</td>\n      <td>1.055885e+10</td>\n      <td>1.791833e+10</td>\n      <td>3.552661e+10</td>\n      <td>4.099178e+10</td>\n      <td>4.888101e+10</td>\n      <td>5.071385e+10</td>\n      <td>7.178275e+10</td>\n      <td>1.031162e+11</td>\n      <td>1.354188e+11</td>\n      <td>1.463880e+11</td>\n      <td>1.955491e+11</td>\n      <td>2.404772e+11</td>\n      <td>2.428971e+11</td>\n      <td>2.976793e+11</td>\n      <td>3.678939e+11</td>\n    </tr>\n    <tr>\n      <th>000004</th>\n      <td>1.0</td>\n      <td>NaN</td>\n      <td>NaN</td>\n      <td>NaN</td>\n      <td>NaN</td>\n      <td>9.480596e+07</td>\n      <td>2.117347e+08</td>\n      <td>2.051317e+08</td>\n      <td>6.436075e+08</td>\n      <td>3.330931e+08</td>\n      <td>3.386076e+08</td>\n      <td>1.207312e+08</td>\n      <td>1.256476e+08</td>\n      <td>1.310066e+08</td>\n      <td>6.198446e+07</td>\n      <td>1.212256e+08</td>\n      <td>1.195350e+08</td>\n      <td>1.067478e+08</td>\n      <td>6.137672e+07</td>\n      <td>4.766864e+07</td>\n      <td>4.044954e+07</td>\n      <td>4.331482e+07</td>\n      <td>6.008060e+07</td>\n      <td>1.313315e+08</td>\n      <td>7.450372e+07</td>\n      <td>9.736330e+07</td>\n      <td>7.278457e+07</td>\n      <td>8.060882e+07</td>\n      <td>1.204544e+08</td>\n      <td>2.876700e+08</td>\n      <td>1.386058e+08</td>\n      <td>3.668688e+08</td>\n      <td>1.082467e+08</td>\n    </tr>\n    <tr>\n      <th>000005</th>\n      <td>1.0</td>\n      <td>NaN</td>\n      <td>NaN</td>\n      <td>NaN</td>\n      <td>NaN</td>\n      <td>NaN</td>\n      <td>3.406867e+07</td>\n      <td>3.002047e+08</td>\n      <td>2.508866e+08</td>\n      <td>1.071974e+08</td>\n      <td>4.076809e+07</td>\n      <td>4.157128e+07</td>\n      <td>1.355727e+08</td>\n      <td>1.459475e+08</td>\n      <td>6.712823e+07</td>\n      <td>5.494323e+07</td>\n      <td>9.157534e+07</td>\n      <td>4.937819e+07</td>\n      <td>4.539573e+07</td>\n      <td>3.307376e+08</td>\n      <td>2.990316e+08</td>\n      <td>1.087203e+08</td>\n      <td>4.319248e+07</td>\n      <td>1.372342e+08</td>\n      <td>6.353484e+07</td>\n      <td>9.942123e+07</td>\n      <td>5.206170e+07</td>\n      <td>5.277699e+07</td>\n      <td>8.412597e+07</td>\n      <td>4.818634e+08</td>\n      <td>5.309222e+08</td>\n      <td>4.861810e+08</td>\n      <td>5.526091e+08</td>\n    </tr>\n    <tr>\n      <th>000006</th>\n      <td>1.0</td>\n      <td>NaN</td>\n      <td>9273600.0</td>\n      <td>31750411.65</td>\n      <td>83825196.6</td>\n      <td>1.081658e+08</td>\n      <td>1.510638e+08</td>\n      <td>1.359192e+08</td>\n      <td>1.101105e+08</td>\n      <td>1.852225e+08</td>\n      <td>1.304273e+09</td>\n      <td>1.641849e+09</td>\n      <td>1.942494e+09</td>\n      <td>1.883722e+09</td>\n      <td>2.024190e+09</td>\n      <td>2.084211e+09</td>\n      <td>1.988931e+09</td>\n      <td>1.876976e+09</td>\n      <td>1.433865e+09</td>\n      <td>1.254539e+09</td>\n      <td>1.024038e+09</td>\n      <td>1.021745e+09</td>\n      <td>1.849236e+09</td>\n      <td>2.338735e+09</td>\n      <td>2.589275e+09</td>\n      <td>3.076245e+09</td>\n      <td>4.610855e+09</td>\n      <td>2.328730e+09</td>\n      <td>3.654309e+09</td>\n      <td>3.358826e+09</td>\n      <td>2.959450e+09</td>\n      <td>2.511844e+09</td>\n      <td>3.731330e+09</td>\n    </tr>\n  </tbody>\n</table>\n</div>"
     },
     "metadata": {},
     "execution_count": 3
    }
   ],
   "source": [
    "df_income_r.head()"
   ]
  },
  {
   "cell_type": "code",
   "execution_count": 4,
   "metadata": {},
   "outputs": [
    {
     "output_type": "execute_result",
     "data": {
      "text/plain": "        comp_type  1988       1989         1990        1991          1992  \\\ncode                                                                        \n000001        2.0   NaN        NaN          NaN         NaN           NaN   \n000002        1.0   NaN        NaN          NaN         NaN           NaN   \n000004        1.0   NaN        NaN          NaN         NaN  9.480596e+07   \n000005        1.0   NaN        NaN          NaN         NaN           NaN   \n000006        1.0   NaN  9273600.0  31750411.65  83825196.6  1.081658e+08   \n\n                1993          1994          1995          1996          1997  \\\ncode                                                                           \n000001           NaN           NaN           NaN           NaN  1.869233e+09   \n000002  1.084045e+09  1.227544e+09  1.503755e+09  1.177714e+09  1.947641e+09   \n000004  2.117347e+08  2.051317e+08  6.436075e+08  3.330931e+08  3.386076e+08   \n000005  3.406867e+07  3.002047e+08  2.508866e+08  1.071974e+08  4.076809e+07   \n000006  1.510638e+08  1.359192e+08  1.101105e+08  1.852225e+08  1.304273e+09   \n\n                1998          1999          2000          2001          2002  \\\ncode                                                                           \n000001  1.963738e+09  1.724955e+09  1.812893e+09  2.597464e+09  3.769718e+09   \n000002  2.246117e+09  2.872796e+09  3.783669e+09  4.455065e+09  4.574360e+09   \n000004  1.207312e+08  1.256476e+08  1.310066e+08  6.198446e+07  1.212256e+08   \n000005  4.157128e+07  1.355727e+08  1.459475e+08  6.712823e+07  5.494323e+07   \n000006  1.641849e+09  1.942494e+09  1.883722e+09  2.024190e+09  2.084211e+09   \n\n                2003          2004          2005          2006          2007  \\\ncode                                                                           \n000001  3.850803e+09  5.273549e+09  5.450551e+09  7.135218e+09  1.080750e+10   \n000002  6.380060e+09  7.667226e+09  1.055885e+10  1.791833e+10  3.552661e+10   \n000004  1.195350e+08  1.067478e+08  6.137672e+07  4.766864e+07  4.044954e+07   \n000005  9.157534e+07  4.937819e+07  4.539573e+07  3.307376e+08  2.990316e+08   \n000006  1.988931e+09  1.876976e+09  1.433865e+09  1.254539e+09  1.024038e+09   \n\n                2008          2009          2010          2011          2012  \\\ncode                                                                           \n000001  1.451312e+10  1.511444e+10  1.802228e+10  2.964306e+10  3.974865e+10   \n000002  4.099178e+10  4.888101e+10  5.071385e+10  7.178275e+10  1.031162e+11   \n000004  4.331482e+07  6.008060e+07  1.313315e+08  7.450372e+07  9.736330e+07   \n000005  1.087203e+08  4.319248e+07  1.372342e+08  6.353484e+07  9.942123e+07   \n000006  1.021745e+09  1.849236e+09  2.338735e+09  2.589275e+09  3.076245e+09   \n\n                2013          2014          2015          2016          2017  \\\ncode                                                                           \n000001  5.218900e+10  7.340700e+10  9.616300e+10  1.077150e+11  1.057860e+11   \n000002  1.354188e+11  1.463880e+11  1.955491e+11  2.404772e+11  2.428971e+11   \n000004  7.278457e+07  8.060882e+07  1.204544e+08  2.876700e+08  1.386058e+08   \n000005  5.206170e+07  5.277699e+07  8.412597e+07  4.818634e+08  5.309222e+08   \n000006  4.610855e+09  2.328730e+09  3.654309e+09  3.358826e+09  2.959450e+09   \n\n                2018          2019  \ncode                                \n000001  1.167160e+11  1.379580e+11  \n000002  2.976793e+11  3.678939e+11  \n000004  3.668688e+08  1.082467e+08  \n000005  4.861810e+08  5.526091e+08  \n000006  2.511844e+09  3.731330e+09  ",
      "text/html": "<div>\n<style scoped>\n    .dataframe tbody tr th:only-of-type {\n        vertical-align: middle;\n    }\n\n    .dataframe tbody tr th {\n        vertical-align: top;\n    }\n\n    .dataframe thead th {\n        text-align: right;\n    }\n</style>\n<table border=\"1\" class=\"dataframe\">\n  <thead>\n    <tr style=\"text-align: right;\">\n      <th></th>\n      <th>comp_type</th>\n      <th>1988</th>\n      <th>1989</th>\n      <th>1990</th>\n      <th>1991</th>\n      <th>1992</th>\n      <th>1993</th>\n      <th>1994</th>\n      <th>1995</th>\n      <th>1996</th>\n      <th>1997</th>\n      <th>1998</th>\n      <th>1999</th>\n      <th>2000</th>\n      <th>2001</th>\n      <th>2002</th>\n      <th>2003</th>\n      <th>2004</th>\n      <th>2005</th>\n      <th>2006</th>\n      <th>2007</th>\n      <th>2008</th>\n      <th>2009</th>\n      <th>2010</th>\n      <th>2011</th>\n      <th>2012</th>\n      <th>2013</th>\n      <th>2014</th>\n      <th>2015</th>\n      <th>2016</th>\n      <th>2017</th>\n      <th>2018</th>\n      <th>2019</th>\n    </tr>\n    <tr>\n      <th>code</th>\n      <th></th>\n      <th></th>\n      <th></th>\n      <th></th>\n      <th></th>\n      <th></th>\n      <th></th>\n      <th></th>\n      <th></th>\n      <th></th>\n      <th></th>\n      <th></th>\n      <th></th>\n      <th></th>\n      <th></th>\n      <th></th>\n      <th></th>\n      <th></th>\n      <th></th>\n      <th></th>\n      <th></th>\n      <th></th>\n      <th></th>\n      <th></th>\n      <th></th>\n      <th></th>\n      <th></th>\n      <th></th>\n      <th></th>\n      <th></th>\n      <th></th>\n      <th></th>\n      <th></th>\n    </tr>\n  </thead>\n  <tbody>\n    <tr>\n      <th>000001</th>\n      <td>2.0</td>\n      <td>NaN</td>\n      <td>NaN</td>\n      <td>NaN</td>\n      <td>NaN</td>\n      <td>NaN</td>\n      <td>NaN</td>\n      <td>NaN</td>\n      <td>NaN</td>\n      <td>NaN</td>\n      <td>1.869233e+09</td>\n      <td>1.963738e+09</td>\n      <td>1.724955e+09</td>\n      <td>1.812893e+09</td>\n      <td>2.597464e+09</td>\n      <td>3.769718e+09</td>\n      <td>3.850803e+09</td>\n      <td>5.273549e+09</td>\n      <td>5.450551e+09</td>\n      <td>7.135218e+09</td>\n      <td>1.080750e+10</td>\n      <td>1.451312e+10</td>\n      <td>1.511444e+10</td>\n      <td>1.802228e+10</td>\n      <td>2.964306e+10</td>\n      <td>3.974865e+10</td>\n      <td>5.218900e+10</td>\n      <td>7.340700e+10</td>\n      <td>9.616300e+10</td>\n      <td>1.077150e+11</td>\n      <td>1.057860e+11</td>\n      <td>1.167160e+11</td>\n      <td>1.379580e+11</td>\n    </tr>\n    <tr>\n      <th>000002</th>\n      <td>1.0</td>\n      <td>NaN</td>\n      <td>NaN</td>\n      <td>NaN</td>\n      <td>NaN</td>\n      <td>NaN</td>\n      <td>1.084045e+09</td>\n      <td>1.227544e+09</td>\n      <td>1.503755e+09</td>\n      <td>1.177714e+09</td>\n      <td>1.947641e+09</td>\n      <td>2.246117e+09</td>\n      <td>2.872796e+09</td>\n      <td>3.783669e+09</td>\n      <td>4.455065e+09</td>\n      <td>4.574360e+09</td>\n      <td>6.380060e+09</td>\n      <td>7.667226e+09</td>\n      <td>1.055885e+10</td>\n      <td>1.791833e+10</td>\n      <td>3.552661e+10</td>\n      <td>4.099178e+10</td>\n      <td>4.888101e+10</td>\n      <td>5.071385e+10</td>\n      <td>7.178275e+10</td>\n      <td>1.031162e+11</td>\n      <td>1.354188e+11</td>\n      <td>1.463880e+11</td>\n      <td>1.955491e+11</td>\n      <td>2.404772e+11</td>\n      <td>2.428971e+11</td>\n      <td>2.976793e+11</td>\n      <td>3.678939e+11</td>\n    </tr>\n    <tr>\n      <th>000004</th>\n      <td>1.0</td>\n      <td>NaN</td>\n      <td>NaN</td>\n      <td>NaN</td>\n      <td>NaN</td>\n      <td>9.480596e+07</td>\n      <td>2.117347e+08</td>\n      <td>2.051317e+08</td>\n      <td>6.436075e+08</td>\n      <td>3.330931e+08</td>\n      <td>3.386076e+08</td>\n      <td>1.207312e+08</td>\n      <td>1.256476e+08</td>\n      <td>1.310066e+08</td>\n      <td>6.198446e+07</td>\n      <td>1.212256e+08</td>\n      <td>1.195350e+08</td>\n      <td>1.067478e+08</td>\n      <td>6.137672e+07</td>\n      <td>4.766864e+07</td>\n      <td>4.044954e+07</td>\n      <td>4.331482e+07</td>\n      <td>6.008060e+07</td>\n      <td>1.313315e+08</td>\n      <td>7.450372e+07</td>\n      <td>9.736330e+07</td>\n      <td>7.278457e+07</td>\n      <td>8.060882e+07</td>\n      <td>1.204544e+08</td>\n      <td>2.876700e+08</td>\n      <td>1.386058e+08</td>\n      <td>3.668688e+08</td>\n      <td>1.082467e+08</td>\n    </tr>\n    <tr>\n      <th>000005</th>\n      <td>1.0</td>\n      <td>NaN</td>\n      <td>NaN</td>\n      <td>NaN</td>\n      <td>NaN</td>\n      <td>NaN</td>\n      <td>3.406867e+07</td>\n      <td>3.002047e+08</td>\n      <td>2.508866e+08</td>\n      <td>1.071974e+08</td>\n      <td>4.076809e+07</td>\n      <td>4.157128e+07</td>\n      <td>1.355727e+08</td>\n      <td>1.459475e+08</td>\n      <td>6.712823e+07</td>\n      <td>5.494323e+07</td>\n      <td>9.157534e+07</td>\n      <td>4.937819e+07</td>\n      <td>4.539573e+07</td>\n      <td>3.307376e+08</td>\n      <td>2.990316e+08</td>\n      <td>1.087203e+08</td>\n      <td>4.319248e+07</td>\n      <td>1.372342e+08</td>\n      <td>6.353484e+07</td>\n      <td>9.942123e+07</td>\n      <td>5.206170e+07</td>\n      <td>5.277699e+07</td>\n      <td>8.412597e+07</td>\n      <td>4.818634e+08</td>\n      <td>5.309222e+08</td>\n      <td>4.861810e+08</td>\n      <td>5.526091e+08</td>\n    </tr>\n    <tr>\n      <th>000006</th>\n      <td>1.0</td>\n      <td>NaN</td>\n      <td>9273600.0</td>\n      <td>31750411.65</td>\n      <td>83825196.6</td>\n      <td>1.081658e+08</td>\n      <td>1.510638e+08</td>\n      <td>1.359192e+08</td>\n      <td>1.101105e+08</td>\n      <td>1.852225e+08</td>\n      <td>1.304273e+09</td>\n      <td>1.641849e+09</td>\n      <td>1.942494e+09</td>\n      <td>1.883722e+09</td>\n      <td>2.024190e+09</td>\n      <td>2.084211e+09</td>\n      <td>1.988931e+09</td>\n      <td>1.876976e+09</td>\n      <td>1.433865e+09</td>\n      <td>1.254539e+09</td>\n      <td>1.024038e+09</td>\n      <td>1.021745e+09</td>\n      <td>1.849236e+09</td>\n      <td>2.338735e+09</td>\n      <td>2.589275e+09</td>\n      <td>3.076245e+09</td>\n      <td>4.610855e+09</td>\n      <td>2.328730e+09</td>\n      <td>3.654309e+09</td>\n      <td>3.358826e+09</td>\n      <td>2.959450e+09</td>\n      <td>2.511844e+09</td>\n      <td>3.731330e+09</td>\n    </tr>\n  </tbody>\n</table>\n</div>"
     },
     "metadata": {},
     "execution_count": 4
    }
   ],
   "source": [
    "df_income_tr.head()"
   ]
  },
  {
   "cell_type": "code",
   "execution_count": 5,
   "metadata": {},
   "outputs": [
    {
     "output_type": "error",
     "ename": "SyntaxError",
     "evalue": "invalid syntax (<ipython-input-5-7939a3ef9aa5>, line 1)",
     "traceback": [
      "\u001b[0;36m  File \u001b[0;32m\"<ipython-input-5-7939a3ef9aa5>\"\u001b[0;36m, line \u001b[0;32m1\u001b[0m\n\u001b[0;31m    len(df_income_r.index.values) == df_income_r.dropna(how='all').index.values)\u001b[0m\n\u001b[0m                                                                               ^\u001b[0m\n\u001b[0;31mSyntaxError\u001b[0m\u001b[0;31m:\u001b[0m invalid syntax\n"
     ]
    }
   ],
   "source": [
    "len(df_income_r.index.values) == df_income_r.dropna(how='all').index.values)"
   ]
  },
  {
   "cell_type": "code",
   "execution_count": null,
   "metadata": {},
   "outputs": [],
   "source": [
    "double_list = []\n",
    "i = None\n",
    "for v in df_income_r.index.values.tolist():\n",
    "    if i == v:\n",
    "        double_list.append(i)\n",
    "    i = v\n",
    "with open('../../data/revenue/double_comp_type.txt', 'w') as f:\n",
    "    f.write(str(double_list))"
   ]
  },
  {
   "cell_type": "code",
   "execution_count": 7,
   "metadata": {},
   "outputs": [],
   "source": [
    "df_income = pd.read_csv('../../data/financial_statements/income_sheet.csv')\n",
    "df_income = df_income[df_income['end_date'].apply(lambda x: str(x)[4:]=='1231')]\n",
    "df_income.drop_duplicates(subset=['end_date', 'ts_code'], keep='last', inplace=True)\n",
    "df_income['end_date'] = df_income['end_date'].apply(lambda x: int(x/10000))\n",
    "df_income['ts_code'] = df_income['ts_code'].apply(lambda x: x[:6])\n",
    "\n",
    "df_income.set_index(['end_date', 'ts_code'], inplace=True)\n",
    "df_income.index.names = [None, 'code']\n",
    "\n",
    "df_income_r = df_income[['revenue']]\n",
    "df_income_tr = df_income[['total_revenue']]\n",
    "\n",
    "df_income_r = df_income_r.unstack(1).T\n",
    "df_income_r.reset_index(inplace=True)\n",
    "df_income_r = df_income_r.drop(['level_0'], axis=1)\n",
    "df_income_r.set_index('code', inplace=True)\n",
    "df_income_r.to_csv('../../data/revenue/revenue.csv', index=True)\n",
    "\n",
    "df_income_tr = df_income_tr.unstack(1).T\n",
    "df_income_tr.reset_index(inplace=True)\n",
    "df_income_tr = df_income_tr.drop(['level_0'], axis=1)\n",
    "df_income_tr.set_index('code', inplace=True)\n",
    "df_income_r.to_csv('../../data/revenue/total_revenue.csv', index=True)"
   ]
  },
  {
   "cell_type": "code",
   "execution_count": 8,
   "metadata": {},
   "outputs": [
    {
     "output_type": "execute_result",
     "data": {
      "text/plain": "        1988  1989  1990          1991          1992          1993  \\\ncode                                                                 \n000001   NaN   NaN   NaN           NaN           NaN           NaN   \n000002   NaN   NaN   NaN           NaN           NaN  1.084045e+09   \n000003   NaN   NaN   NaN  4.686457e+08  7.877559e+08  1.054117e+09   \n000004   NaN   NaN   NaN           NaN  9.480596e+07  2.117347e+08   \n000005   NaN   NaN   NaN           NaN           NaN  3.406867e+07   \n\n                1994          1995          1996          1997          1998  \\\ncode                                                                           \n000001           NaN           NaN           NaN  1.869233e+09  1.963738e+09   \n000002  1.227544e+09  1.503755e+09  1.177714e+09  1.947641e+09  2.246117e+09   \n000003  1.072384e+09  9.011976e+08  6.702301e+08  5.260995e+08  5.241975e+08   \n000004  2.051317e+08  6.436075e+08  3.330931e+08  3.386076e+08  1.207312e+08   \n000005  3.002047e+08  2.508866e+08  1.071974e+08  4.076809e+07  4.157128e+07   \n\n                1999          2000          2001          2002          2003  \\\ncode                                                                           \n000001  1.724955e+09  1.812893e+09  2.597464e+09  3.769718e+09  3.850803e+09   \n000002  2.872796e+09  3.783669e+09  4.455065e+09  4.574360e+09  6.380060e+09   \n000003  4.804177e+08  4.647235e+08  3.660670e+07  2.070079e+07  2.580313e+07   \n000004  1.256476e+08  1.310066e+08  6.198446e+07  1.212256e+08  1.195350e+08   \n000005  1.355727e+08  1.459475e+08  6.712823e+07  5.494323e+07  9.157534e+07   \n\n                2004          2005          2006          2007          2008  \\\ncode                                                                           \n000001  5.273549e+09  5.450551e+09  7.135218e+09  1.080750e+10  1.451312e+10   \n000002  7.667226e+09  1.055885e+10  1.791833e+10  3.552661e+10  4.099178e+10   \n000003  2.441493e+07  1.847814e+07  1.670325e+07  6.875042e+06  1.792933e+07   \n000004  1.067478e+08  6.137672e+07  4.766864e+07  4.044954e+07  4.331482e+07   \n000005  4.937819e+07  4.539573e+07  3.307376e+08  2.990316e+08  1.087203e+08   \n\n                2009          2010          2011          2012          2013  \\\ncode                                                                           \n000001  1.511444e+10  1.802228e+10  2.964306e+10  3.974865e+10  5.218900e+10   \n000002  4.888101e+10  5.071385e+10  7.178275e+10  1.031162e+11  1.354188e+11   \n000003  1.775838e+07  6.437686e+06  7.289383e+06  7.295551e+06  8.398230e+06   \n000004  6.008060e+07  1.313315e+08  7.450372e+07  9.736330e+07  7.278457e+07   \n000005  4.319248e+07  1.372342e+08  6.353484e+07  9.942123e+07  5.206170e+07   \n\n                2014          2015          2016          2017          2018  \\\ncode                                                                           \n000001  7.340700e+10  9.616300e+10  1.077150e+11  1.057860e+11  1.167160e+11   \n000002  1.463880e+11  1.955491e+11  2.404772e+11  2.428971e+11  2.976793e+11   \n000003  9.377205e+06  1.120570e+07  2.509159e+07  7.901282e+07  2.953008e+07   \n000004  8.060882e+07  1.204544e+08  2.876700e+08  1.386058e+08  3.668688e+08   \n000005  5.277699e+07  8.412597e+07  4.818634e+08  5.309222e+08  4.861810e+08   \n\n                2019  \ncode                  \n000001  1.379580e+11  \n000002  3.678939e+11  \n000003  1.149232e+07  \n000004  1.082467e+08  \n000005  5.526091e+08  ",
      "text/html": "<div>\n<style scoped>\n    .dataframe tbody tr th:only-of-type {\n        vertical-align: middle;\n    }\n\n    .dataframe tbody tr th {\n        vertical-align: top;\n    }\n\n    .dataframe thead th {\n        text-align: right;\n    }\n</style>\n<table border=\"1\" class=\"dataframe\">\n  <thead>\n    <tr style=\"text-align: right;\">\n      <th></th>\n      <th>1988</th>\n      <th>1989</th>\n      <th>1990</th>\n      <th>1991</th>\n      <th>1992</th>\n      <th>1993</th>\n      <th>1994</th>\n      <th>1995</th>\n      <th>1996</th>\n      <th>1997</th>\n      <th>1998</th>\n      <th>1999</th>\n      <th>2000</th>\n      <th>2001</th>\n      <th>2002</th>\n      <th>2003</th>\n      <th>2004</th>\n      <th>2005</th>\n      <th>2006</th>\n      <th>2007</th>\n      <th>2008</th>\n      <th>2009</th>\n      <th>2010</th>\n      <th>2011</th>\n      <th>2012</th>\n      <th>2013</th>\n      <th>2014</th>\n      <th>2015</th>\n      <th>2016</th>\n      <th>2017</th>\n      <th>2018</th>\n      <th>2019</th>\n    </tr>\n    <tr>\n      <th>code</th>\n      <th></th>\n      <th></th>\n      <th></th>\n      <th></th>\n      <th></th>\n      <th></th>\n      <th></th>\n      <th></th>\n      <th></th>\n      <th></th>\n      <th></th>\n      <th></th>\n      <th></th>\n      <th></th>\n      <th></th>\n      <th></th>\n      <th></th>\n      <th></th>\n      <th></th>\n      <th></th>\n      <th></th>\n      <th></th>\n      <th></th>\n      <th></th>\n      <th></th>\n      <th></th>\n      <th></th>\n      <th></th>\n      <th></th>\n      <th></th>\n      <th></th>\n      <th></th>\n    </tr>\n  </thead>\n  <tbody>\n    <tr>\n      <th>000001</th>\n      <td>NaN</td>\n      <td>NaN</td>\n      <td>NaN</td>\n      <td>NaN</td>\n      <td>NaN</td>\n      <td>NaN</td>\n      <td>NaN</td>\n      <td>NaN</td>\n      <td>NaN</td>\n      <td>1.869233e+09</td>\n      <td>1.963738e+09</td>\n      <td>1.724955e+09</td>\n      <td>1.812893e+09</td>\n      <td>2.597464e+09</td>\n      <td>3.769718e+09</td>\n      <td>3.850803e+09</td>\n      <td>5.273549e+09</td>\n      <td>5.450551e+09</td>\n      <td>7.135218e+09</td>\n      <td>1.080750e+10</td>\n      <td>1.451312e+10</td>\n      <td>1.511444e+10</td>\n      <td>1.802228e+10</td>\n      <td>2.964306e+10</td>\n      <td>3.974865e+10</td>\n      <td>5.218900e+10</td>\n      <td>7.340700e+10</td>\n      <td>9.616300e+10</td>\n      <td>1.077150e+11</td>\n      <td>1.057860e+11</td>\n      <td>1.167160e+11</td>\n      <td>1.379580e+11</td>\n    </tr>\n    <tr>\n      <th>000002</th>\n      <td>NaN</td>\n      <td>NaN</td>\n      <td>NaN</td>\n      <td>NaN</td>\n      <td>NaN</td>\n      <td>1.084045e+09</td>\n      <td>1.227544e+09</td>\n      <td>1.503755e+09</td>\n      <td>1.177714e+09</td>\n      <td>1.947641e+09</td>\n      <td>2.246117e+09</td>\n      <td>2.872796e+09</td>\n      <td>3.783669e+09</td>\n      <td>4.455065e+09</td>\n      <td>4.574360e+09</td>\n      <td>6.380060e+09</td>\n      <td>7.667226e+09</td>\n      <td>1.055885e+10</td>\n      <td>1.791833e+10</td>\n      <td>3.552661e+10</td>\n      <td>4.099178e+10</td>\n      <td>4.888101e+10</td>\n      <td>5.071385e+10</td>\n      <td>7.178275e+10</td>\n      <td>1.031162e+11</td>\n      <td>1.354188e+11</td>\n      <td>1.463880e+11</td>\n      <td>1.955491e+11</td>\n      <td>2.404772e+11</td>\n      <td>2.428971e+11</td>\n      <td>2.976793e+11</td>\n      <td>3.678939e+11</td>\n    </tr>\n    <tr>\n      <th>000003</th>\n      <td>NaN</td>\n      <td>NaN</td>\n      <td>NaN</td>\n      <td>4.686457e+08</td>\n      <td>7.877559e+08</td>\n      <td>1.054117e+09</td>\n      <td>1.072384e+09</td>\n      <td>9.011976e+08</td>\n      <td>6.702301e+08</td>\n      <td>5.260995e+08</td>\n      <td>5.241975e+08</td>\n      <td>4.804177e+08</td>\n      <td>4.647235e+08</td>\n      <td>3.660670e+07</td>\n      <td>2.070079e+07</td>\n      <td>2.580313e+07</td>\n      <td>2.441493e+07</td>\n      <td>1.847814e+07</td>\n      <td>1.670325e+07</td>\n      <td>6.875042e+06</td>\n      <td>1.792933e+07</td>\n      <td>1.775838e+07</td>\n      <td>6.437686e+06</td>\n      <td>7.289383e+06</td>\n      <td>7.295551e+06</td>\n      <td>8.398230e+06</td>\n      <td>9.377205e+06</td>\n      <td>1.120570e+07</td>\n      <td>2.509159e+07</td>\n      <td>7.901282e+07</td>\n      <td>2.953008e+07</td>\n      <td>1.149232e+07</td>\n    </tr>\n    <tr>\n      <th>000004</th>\n      <td>NaN</td>\n      <td>NaN</td>\n      <td>NaN</td>\n      <td>NaN</td>\n      <td>9.480596e+07</td>\n      <td>2.117347e+08</td>\n      <td>2.051317e+08</td>\n      <td>6.436075e+08</td>\n      <td>3.330931e+08</td>\n      <td>3.386076e+08</td>\n      <td>1.207312e+08</td>\n      <td>1.256476e+08</td>\n      <td>1.310066e+08</td>\n      <td>6.198446e+07</td>\n      <td>1.212256e+08</td>\n      <td>1.195350e+08</td>\n      <td>1.067478e+08</td>\n      <td>6.137672e+07</td>\n      <td>4.766864e+07</td>\n      <td>4.044954e+07</td>\n      <td>4.331482e+07</td>\n      <td>6.008060e+07</td>\n      <td>1.313315e+08</td>\n      <td>7.450372e+07</td>\n      <td>9.736330e+07</td>\n      <td>7.278457e+07</td>\n      <td>8.060882e+07</td>\n      <td>1.204544e+08</td>\n      <td>2.876700e+08</td>\n      <td>1.386058e+08</td>\n      <td>3.668688e+08</td>\n      <td>1.082467e+08</td>\n    </tr>\n    <tr>\n      <th>000005</th>\n      <td>NaN</td>\n      <td>NaN</td>\n      <td>NaN</td>\n      <td>NaN</td>\n      <td>NaN</td>\n      <td>3.406867e+07</td>\n      <td>3.002047e+08</td>\n      <td>2.508866e+08</td>\n      <td>1.071974e+08</td>\n      <td>4.076809e+07</td>\n      <td>4.157128e+07</td>\n      <td>1.355727e+08</td>\n      <td>1.459475e+08</td>\n      <td>6.712823e+07</td>\n      <td>5.494323e+07</td>\n      <td>9.157534e+07</td>\n      <td>4.937819e+07</td>\n      <td>4.539573e+07</td>\n      <td>3.307376e+08</td>\n      <td>2.990316e+08</td>\n      <td>1.087203e+08</td>\n      <td>4.319248e+07</td>\n      <td>1.372342e+08</td>\n      <td>6.353484e+07</td>\n      <td>9.942123e+07</td>\n      <td>5.206170e+07</td>\n      <td>5.277699e+07</td>\n      <td>8.412597e+07</td>\n      <td>4.818634e+08</td>\n      <td>5.309222e+08</td>\n      <td>4.861810e+08</td>\n      <td>5.526091e+08</td>\n    </tr>\n  </tbody>\n</table>\n</div>"
     },
     "metadata": {},
     "execution_count": 8
    }
   ],
   "source": [
    "df_income_r.head()"
   ]
  },
  {
   "cell_type": "code",
   "execution_count": 9,
   "metadata": {},
   "outputs": [
    {
     "output_type": "execute_result",
     "data": {
      "text/plain": "        1988  1989  1990          1991          1992          1993  \\\ncode                                                                 \n000001   NaN   NaN   NaN           NaN           NaN           NaN   \n000002   NaN   NaN   NaN           NaN           NaN  1.084045e+09   \n000003   NaN   NaN   0.0  4.686457e+08  7.877559e+08  1.054117e+09   \n000004   NaN   NaN   NaN           NaN  9.480596e+07  2.117347e+08   \n000005   NaN   NaN   NaN           NaN           NaN  3.406867e+07   \n\n                1994          1995          1996          1997          1998  \\\ncode                                                                           \n000001           NaN           NaN           NaN  1.869233e+09  1.963738e+09   \n000002  1.227544e+09  1.503755e+09  1.177714e+09  1.947641e+09  2.246117e+09   \n000003  1.072384e+09  9.011976e+08  6.702301e+08  5.260995e+08  5.241975e+08   \n000004  2.051317e+08  6.436075e+08  3.330931e+08  3.386076e+08  1.207312e+08   \n000005  3.002047e+08  2.508866e+08  1.071974e+08  4.076809e+07  4.157128e+07   \n\n                1999          2000          2001          2002          2003  \\\ncode                                                                           \n000001  1.724955e+09  1.812893e+09  2.597464e+09  3.769718e+09  3.850803e+09   \n000002  2.872796e+09  3.783669e+09  4.455065e+09  4.574360e+09  6.380060e+09   \n000003  4.804177e+08  4.647235e+08  3.660670e+07  2.070079e+07  2.580313e+07   \n000004  1.256476e+08  1.310066e+08  6.198446e+07  1.212256e+08  1.195350e+08   \n000005  1.355727e+08  1.459475e+08  6.712823e+07  5.494323e+07  9.157534e+07   \n\n                2004          2005          2006          2007          2008  \\\ncode                                                                           \n000001  5.273549e+09  5.450551e+09  7.135218e+09  1.080750e+10  1.451312e+10   \n000002  7.667226e+09  1.055885e+10  1.791833e+10  3.552661e+10  4.099178e+10   \n000003  2.441493e+07  1.847814e+07  1.670325e+07  6.875042e+06  1.792933e+07   \n000004  1.067478e+08  6.137672e+07  4.766864e+07  4.044954e+07  4.331482e+07   \n000005  4.937819e+07  4.539573e+07  3.307376e+08  2.990316e+08  1.087203e+08   \n\n                2009          2010          2011          2012          2013  \\\ncode                                                                           \n000001  1.511444e+10  1.802228e+10  2.964306e+10  3.974865e+10  5.218900e+10   \n000002  4.888101e+10  5.071385e+10  7.178275e+10  1.031162e+11  1.354188e+11   \n000003  1.775838e+07  6.437686e+06  7.289383e+06  7.295551e+06  8.398230e+06   \n000004  6.008060e+07  1.313315e+08  7.450372e+07  9.736330e+07  7.278457e+07   \n000005  4.319248e+07  1.372342e+08  6.353484e+07  9.942123e+07  5.206170e+07   \n\n                2014          2015          2016          2017          2018  \\\ncode                                                                           \n000001  7.340700e+10  9.616300e+10  1.077150e+11  1.057860e+11  1.167160e+11   \n000002  1.463880e+11  1.955491e+11  2.404772e+11  2.428971e+11  2.976793e+11   \n000003  9.377205e+06  1.120570e+07  2.509159e+07  7.901282e+07  2.953008e+07   \n000004  8.060882e+07  1.204544e+08  2.876700e+08  1.386058e+08  3.668688e+08   \n000005  5.277699e+07  8.412597e+07  4.818634e+08  5.309222e+08  4.861810e+08   \n\n                2019  \ncode                  \n000001  1.379580e+11  \n000002  3.678939e+11  \n000003  1.149232e+07  \n000004  1.082467e+08  \n000005  5.526091e+08  ",
      "text/html": "<div>\n<style scoped>\n    .dataframe tbody tr th:only-of-type {\n        vertical-align: middle;\n    }\n\n    .dataframe tbody tr th {\n        vertical-align: top;\n    }\n\n    .dataframe thead th {\n        text-align: right;\n    }\n</style>\n<table border=\"1\" class=\"dataframe\">\n  <thead>\n    <tr style=\"text-align: right;\">\n      <th></th>\n      <th>1988</th>\n      <th>1989</th>\n      <th>1990</th>\n      <th>1991</th>\n      <th>1992</th>\n      <th>1993</th>\n      <th>1994</th>\n      <th>1995</th>\n      <th>1996</th>\n      <th>1997</th>\n      <th>1998</th>\n      <th>1999</th>\n      <th>2000</th>\n      <th>2001</th>\n      <th>2002</th>\n      <th>2003</th>\n      <th>2004</th>\n      <th>2005</th>\n      <th>2006</th>\n      <th>2007</th>\n      <th>2008</th>\n      <th>2009</th>\n      <th>2010</th>\n      <th>2011</th>\n      <th>2012</th>\n      <th>2013</th>\n      <th>2014</th>\n      <th>2015</th>\n      <th>2016</th>\n      <th>2017</th>\n      <th>2018</th>\n      <th>2019</th>\n    </tr>\n    <tr>\n      <th>code</th>\n      <th></th>\n      <th></th>\n      <th></th>\n      <th></th>\n      <th></th>\n      <th></th>\n      <th></th>\n      <th></th>\n      <th></th>\n      <th></th>\n      <th></th>\n      <th></th>\n      <th></th>\n      <th></th>\n      <th></th>\n      <th></th>\n      <th></th>\n      <th></th>\n      <th></th>\n      <th></th>\n      <th></th>\n      <th></th>\n      <th></th>\n      <th></th>\n      <th></th>\n      <th></th>\n      <th></th>\n      <th></th>\n      <th></th>\n      <th></th>\n      <th></th>\n      <th></th>\n    </tr>\n  </thead>\n  <tbody>\n    <tr>\n      <th>000001</th>\n      <td>NaN</td>\n      <td>NaN</td>\n      <td>NaN</td>\n      <td>NaN</td>\n      <td>NaN</td>\n      <td>NaN</td>\n      <td>NaN</td>\n      <td>NaN</td>\n      <td>NaN</td>\n      <td>1.869233e+09</td>\n      <td>1.963738e+09</td>\n      <td>1.724955e+09</td>\n      <td>1.812893e+09</td>\n      <td>2.597464e+09</td>\n      <td>3.769718e+09</td>\n      <td>3.850803e+09</td>\n      <td>5.273549e+09</td>\n      <td>5.450551e+09</td>\n      <td>7.135218e+09</td>\n      <td>1.080750e+10</td>\n      <td>1.451312e+10</td>\n      <td>1.511444e+10</td>\n      <td>1.802228e+10</td>\n      <td>2.964306e+10</td>\n      <td>3.974865e+10</td>\n      <td>5.218900e+10</td>\n      <td>7.340700e+10</td>\n      <td>9.616300e+10</td>\n      <td>1.077150e+11</td>\n      <td>1.057860e+11</td>\n      <td>1.167160e+11</td>\n      <td>1.379580e+11</td>\n    </tr>\n    <tr>\n      <th>000002</th>\n      <td>NaN</td>\n      <td>NaN</td>\n      <td>NaN</td>\n      <td>NaN</td>\n      <td>NaN</td>\n      <td>1.084045e+09</td>\n      <td>1.227544e+09</td>\n      <td>1.503755e+09</td>\n      <td>1.177714e+09</td>\n      <td>1.947641e+09</td>\n      <td>2.246117e+09</td>\n      <td>2.872796e+09</td>\n      <td>3.783669e+09</td>\n      <td>4.455065e+09</td>\n      <td>4.574360e+09</td>\n      <td>6.380060e+09</td>\n      <td>7.667226e+09</td>\n      <td>1.055885e+10</td>\n      <td>1.791833e+10</td>\n      <td>3.552661e+10</td>\n      <td>4.099178e+10</td>\n      <td>4.888101e+10</td>\n      <td>5.071385e+10</td>\n      <td>7.178275e+10</td>\n      <td>1.031162e+11</td>\n      <td>1.354188e+11</td>\n      <td>1.463880e+11</td>\n      <td>1.955491e+11</td>\n      <td>2.404772e+11</td>\n      <td>2.428971e+11</td>\n      <td>2.976793e+11</td>\n      <td>3.678939e+11</td>\n    </tr>\n    <tr>\n      <th>000003</th>\n      <td>NaN</td>\n      <td>NaN</td>\n      <td>0.0</td>\n      <td>4.686457e+08</td>\n      <td>7.877559e+08</td>\n      <td>1.054117e+09</td>\n      <td>1.072384e+09</td>\n      <td>9.011976e+08</td>\n      <td>6.702301e+08</td>\n      <td>5.260995e+08</td>\n      <td>5.241975e+08</td>\n      <td>4.804177e+08</td>\n      <td>4.647235e+08</td>\n      <td>3.660670e+07</td>\n      <td>2.070079e+07</td>\n      <td>2.580313e+07</td>\n      <td>2.441493e+07</td>\n      <td>1.847814e+07</td>\n      <td>1.670325e+07</td>\n      <td>6.875042e+06</td>\n      <td>1.792933e+07</td>\n      <td>1.775838e+07</td>\n      <td>6.437686e+06</td>\n      <td>7.289383e+06</td>\n      <td>7.295551e+06</td>\n      <td>8.398230e+06</td>\n      <td>9.377205e+06</td>\n      <td>1.120570e+07</td>\n      <td>2.509159e+07</td>\n      <td>7.901282e+07</td>\n      <td>2.953008e+07</td>\n      <td>1.149232e+07</td>\n    </tr>\n    <tr>\n      <th>000004</th>\n      <td>NaN</td>\n      <td>NaN</td>\n      <td>NaN</td>\n      <td>NaN</td>\n      <td>9.480596e+07</td>\n      <td>2.117347e+08</td>\n      <td>2.051317e+08</td>\n      <td>6.436075e+08</td>\n      <td>3.330931e+08</td>\n      <td>3.386076e+08</td>\n      <td>1.207312e+08</td>\n      <td>1.256476e+08</td>\n      <td>1.310066e+08</td>\n      <td>6.198446e+07</td>\n      <td>1.212256e+08</td>\n      <td>1.195350e+08</td>\n      <td>1.067478e+08</td>\n      <td>6.137672e+07</td>\n      <td>4.766864e+07</td>\n      <td>4.044954e+07</td>\n      <td>4.331482e+07</td>\n      <td>6.008060e+07</td>\n      <td>1.313315e+08</td>\n      <td>7.450372e+07</td>\n      <td>9.736330e+07</td>\n      <td>7.278457e+07</td>\n      <td>8.060882e+07</td>\n      <td>1.204544e+08</td>\n      <td>2.876700e+08</td>\n      <td>1.386058e+08</td>\n      <td>3.668688e+08</td>\n      <td>1.082467e+08</td>\n    </tr>\n    <tr>\n      <th>000005</th>\n      <td>NaN</td>\n      <td>NaN</td>\n      <td>NaN</td>\n      <td>NaN</td>\n      <td>NaN</td>\n      <td>3.406867e+07</td>\n      <td>3.002047e+08</td>\n      <td>2.508866e+08</td>\n      <td>1.071974e+08</td>\n      <td>4.076809e+07</td>\n      <td>4.157128e+07</td>\n      <td>1.355727e+08</td>\n      <td>1.459475e+08</td>\n      <td>6.712823e+07</td>\n      <td>5.494323e+07</td>\n      <td>9.157534e+07</td>\n      <td>4.937819e+07</td>\n      <td>4.539573e+07</td>\n      <td>3.307376e+08</td>\n      <td>2.990316e+08</td>\n      <td>1.087203e+08</td>\n      <td>4.319248e+07</td>\n      <td>1.372342e+08</td>\n      <td>6.353484e+07</td>\n      <td>9.942123e+07</td>\n      <td>5.206170e+07</td>\n      <td>5.277699e+07</td>\n      <td>8.412597e+07</td>\n      <td>4.818634e+08</td>\n      <td>5.309222e+08</td>\n      <td>4.861810e+08</td>\n      <td>5.526091e+08</td>\n    </tr>\n  </tbody>\n</table>\n</div>"
     },
     "metadata": {},
     "execution_count": 9
    }
   ],
   "source": [
    "df_income_tr.head()"
   ]
  },
  {
   "cell_type": "code",
   "execution_count": 10,
   "metadata": {},
   "outputs": [
    {
     "output_type": "execute_result",
     "data": {
      "text/plain": "True"
     },
     "metadata": {},
     "execution_count": 10
    }
   ],
   "source": [
    "len(df_income_r.index.values) == len(df_income_r.dropna(how='all').index.values)"
   ]
  },
  {
   "cell_type": "code",
   "execution_count": 11,
   "metadata": {},
   "outputs": [
    {
     "output_type": "execute_result",
     "data": {
      "text/plain": "4109"
     },
     "metadata": {},
     "execution_count": 11
    }
   ],
   "source": [
    "len(df_income_r.index.values)"
   ]
  },
  {
   "cell_type": "code",
   "execution_count": 12,
   "metadata": {
    "tags": []
   },
   "outputs": [
    {
     "output_type": "execute_result",
     "data": {
      "text/plain": "     code               years\n0  000409              [2006]\n1  000504  [1996, 1998, 1999]\n2  000562              [2005]\n3  000572              [1995]\n4  300426              [2019]",
      "text/html": "<div>\n<style scoped>\n    .dataframe tbody tr th:only-of-type {\n        vertical-align: middle;\n    }\n\n    .dataframe tbody tr th {\n        vertical-align: top;\n    }\n\n    .dataframe thead th {\n        text-align: right;\n    }\n</style>\n<table border=\"1\" class=\"dataframe\">\n  <thead>\n    <tr style=\"text-align: right;\">\n      <th></th>\n      <th>code</th>\n      <th>years</th>\n    </tr>\n  </thead>\n  <tbody>\n    <tr>\n      <th>0</th>\n      <td>000409</td>\n      <td>[2006]</td>\n    </tr>\n    <tr>\n      <th>1</th>\n      <td>000504</td>\n      <td>[1996, 1998, 1999]</td>\n    </tr>\n    <tr>\n      <th>2</th>\n      <td>000562</td>\n      <td>[2005]</td>\n    </tr>\n    <tr>\n      <th>3</th>\n      <td>000572</td>\n      <td>[1995]</td>\n    </tr>\n    <tr>\n      <th>4</th>\n      <td>300426</td>\n      <td>[2019]</td>\n    </tr>\n  </tbody>\n</table>\n</div>"
     },
     "metadata": {},
     "execution_count": 12
    }
   ],
   "source": [
    "df_income_r_neg = df_income_r.apply(lambda x: x<0)\n",
    "df_income_r_neg_list = pd.DataFrame(columns=('code', 'years'))\n",
    "for code, r in df_income_r_neg.iterrows():\n",
    "    neg_list = []\n",
    "    for k in r.keys():\n",
    "        if r[k]:\n",
    "            neg_list.append(k)\n",
    "    if neg_list:\n",
    "        df_income_r_neg_list = df_income_r_neg_list.append(\n",
    "            pd.DataFrame({'code': [code], 'years': [neg_list]}), ignore_index=True)\n",
    "df_income_r_neg_list.to_csv('../../data/revenue/revenue_neg_years.csv', index=False)\n",
    "df_income_r_neg_list.head()"
   ]
  },
  {
   "cell_type": "code",
   "execution_count": 13,
   "metadata": {},
   "outputs": [
    {
     "output_type": "execute_result",
     "data": {
      "text/plain": "     code               years\n0  000409              [2006]\n1  000504  [1996, 1998, 1999]\n2  000562              [2005]\n3  000572              [1995]\n4  300426              [2019]",
      "text/html": "<div>\n<style scoped>\n    .dataframe tbody tr th:only-of-type {\n        vertical-align: middle;\n    }\n\n    .dataframe tbody tr th {\n        vertical-align: top;\n    }\n\n    .dataframe thead th {\n        text-align: right;\n    }\n</style>\n<table border=\"1\" class=\"dataframe\">\n  <thead>\n    <tr style=\"text-align: right;\">\n      <th></th>\n      <th>code</th>\n      <th>years</th>\n    </tr>\n  </thead>\n  <tbody>\n    <tr>\n      <th>0</th>\n      <td>000409</td>\n      <td>[2006]</td>\n    </tr>\n    <tr>\n      <th>1</th>\n      <td>000504</td>\n      <td>[1996, 1998, 1999]</td>\n    </tr>\n    <tr>\n      <th>2</th>\n      <td>000562</td>\n      <td>[2005]</td>\n    </tr>\n    <tr>\n      <th>3</th>\n      <td>000572</td>\n      <td>[1995]</td>\n    </tr>\n    <tr>\n      <th>4</th>\n      <td>300426</td>\n      <td>[2019]</td>\n    </tr>\n  </tbody>\n</table>\n</div>"
     },
     "metadata": {},
     "execution_count": 13
    }
   ],
   "source": [
    "df_income_tr_neg = df_income_tr.apply(lambda x: x<0)\n",
    "df_income_tr_neg_list = pd.DataFrame(columns=('code', 'years'))\n",
    "for code, r in df_income_tr_neg.iterrows():\n",
    "    neg_list = []\n",
    "    for k in r.keys():\n",
    "        if r[k]:\n",
    "            neg_list.append(k)\n",
    "    if neg_list:\n",
    "        df_income_tr_neg_list = df_income_tr_neg_list.append(\n",
    "            pd.DataFrame({'code': [code], 'years': [neg_list]}), ignore_index=True)\n",
    "df_income_tr_neg_list.to_csv('../../data/revenue/total_revenue_neg_years.csv', index=False)\n",
    "df_income_tr_neg_list.head()"
   ]
  },
  {
   "cell_type": "code",
   "execution_count": 14,
   "metadata": {
    "tags": []
   },
   "outputs": [
    {
     "output_type": "execute_result",
     "data": {
      "text/plain": "     code counts                                              years\n0  000001     23  [1997, 1998, 1999, 2000, 2001, 2002, 2003, 200...\n1  000002     27  [1993, 1994, 1995, 1996, 1997, 1998, 1999, 200...\n2  000003     29  [1991, 1992, 1993, 1994, 1995, 1996, 1997, 199...\n3  000004     28  [1992, 1993, 1994, 1995, 1996, 1997, 1998, 199...\n4  000005     27  [1993, 1994, 1995, 1996, 1997, 1998, 1999, 200...",
      "text/html": "<div>\n<style scoped>\n    .dataframe tbody tr th:only-of-type {\n        vertical-align: middle;\n    }\n\n    .dataframe tbody tr th {\n        vertical-align: top;\n    }\n\n    .dataframe thead th {\n        text-align: right;\n    }\n</style>\n<table border=\"1\" class=\"dataframe\">\n  <thead>\n    <tr style=\"text-align: right;\">\n      <th></th>\n      <th>code</th>\n      <th>counts</th>\n      <th>years</th>\n    </tr>\n  </thead>\n  <tbody>\n    <tr>\n      <th>0</th>\n      <td>000001</td>\n      <td>23</td>\n      <td>[1997, 1998, 1999, 2000, 2001, 2002, 2003, 200...</td>\n    </tr>\n    <tr>\n      <th>1</th>\n      <td>000002</td>\n      <td>27</td>\n      <td>[1993, 1994, 1995, 1996, 1997, 1998, 1999, 200...</td>\n    </tr>\n    <tr>\n      <th>2</th>\n      <td>000003</td>\n      <td>29</td>\n      <td>[1991, 1992, 1993, 1994, 1995, 1996, 1997, 199...</td>\n    </tr>\n    <tr>\n      <th>3</th>\n      <td>000004</td>\n      <td>28</td>\n      <td>[1992, 1993, 1994, 1995, 1996, 1997, 1998, 199...</td>\n    </tr>\n    <tr>\n      <th>4</th>\n      <td>000005</td>\n      <td>27</td>\n      <td>[1993, 1994, 1995, 1996, 1997, 1998, 1999, 200...</td>\n    </tr>\n  </tbody>\n</table>\n</div>"
     },
     "metadata": {},
     "execution_count": 14
    }
   ],
   "source": [
    "df_income_r_count_list = pd.DataFrame(columns=('code', 'counts', 'years'))\n",
    "df_income_r_not_ct_list = pd.DataFrame(columns=('code', 'years'))\n",
    "for code, r in df_income_r.iterrows():\n",
    "    r = r.notnull()\n",
    "    counts = sum(r)\n",
    "    years_list = []\n",
    "    for k in r.keys():\n",
    "        if r[k]:\n",
    "            years_list.append(k)\n",
    "    df_income_r_count_list = df_income_r_count_list.append(\n",
    "        pd.DataFrame({'code': [code], 'counts': [counts], 'years': [years_list]}), ignore_index=True)\n",
    "    if not years_list:\n",
    "        print(code)\n",
    "    if years_list[-1] - years_list[0] != counts - 1:\n",
    "        df_income_r_not_ct_list = df_income_r_not_ct_list.append(\n",
    "            pd.DataFrame({'code': [code], 'years': [years_list]}), ignore_index=True)\n",
    "df_income_r_count_list.to_csv('../../data/revenue/revenue_counts.csv', index=False)\n",
    "df_income_r_not_ct_list.to_csv('../../data/revenue/revenue_discontinuous.csv', index=False)\n",
    "df_income_r_count_list.head()"
   ]
  },
  {
   "cell_type": "code",
   "execution_count": 15,
   "metadata": {},
   "outputs": [
    {
     "output_type": "execute_result",
     "data": {
      "text/plain": "     code                                              years\n0  000013  [1991, 1992, 1993, 1994, 1995, 1996, 1997, 199...\n1  000015  [1991, 1992, 1993, 1994, 1995, 1996, 1997, 199...\n2  000024  [1989, 1990, 1991, 1993, 1994, 1995, 1996, 199...\n3  000047  [1991, 1992, 1993, 1994, 1995, 1996, 1997, 199...\n4  000405  [1993, 1994, 1995, 1996, 1997, 1998, 1999, 200...",
      "text/html": "<div>\n<style scoped>\n    .dataframe tbody tr th:only-of-type {\n        vertical-align: middle;\n    }\n\n    .dataframe tbody tr th {\n        vertical-align: top;\n    }\n\n    .dataframe thead th {\n        text-align: right;\n    }\n</style>\n<table border=\"1\" class=\"dataframe\">\n  <thead>\n    <tr style=\"text-align: right;\">\n      <th></th>\n      <th>code</th>\n      <th>years</th>\n    </tr>\n  </thead>\n  <tbody>\n    <tr>\n      <th>0</th>\n      <td>000013</td>\n      <td>[1991, 1992, 1993, 1994, 1995, 1996, 1997, 199...</td>\n    </tr>\n    <tr>\n      <th>1</th>\n      <td>000015</td>\n      <td>[1991, 1992, 1993, 1994, 1995, 1996, 1997, 199...</td>\n    </tr>\n    <tr>\n      <th>2</th>\n      <td>000024</td>\n      <td>[1989, 1990, 1991, 1993, 1994, 1995, 1996, 199...</td>\n    </tr>\n    <tr>\n      <th>3</th>\n      <td>000047</td>\n      <td>[1991, 1992, 1993, 1994, 1995, 1996, 1997, 199...</td>\n    </tr>\n    <tr>\n      <th>4</th>\n      <td>000405</td>\n      <td>[1993, 1994, 1995, 1996, 1997, 1998, 1999, 200...</td>\n    </tr>\n  </tbody>\n</table>\n</div>"
     },
     "metadata": {},
     "execution_count": 15
    }
   ],
   "source": [
    "df_income_r_not_ct_list.head()"
   ]
  },
  {
   "cell_type": "code",
   "execution_count": 16,
   "metadata": {},
   "outputs": [
    {
     "output_type": "execute_result",
     "data": {
      "text/plain": "     code counts                                              years\n0  000001     23  [1997, 1998, 1999, 2000, 2001, 2002, 2003, 200...\n1  000002     27  [1993, 1994, 1995, 1996, 1997, 1998, 1999, 200...\n2  000003     30  [1990, 1991, 1992, 1993, 1994, 1995, 1996, 199...\n3  000004     28  [1992, 1993, 1994, 1995, 1996, 1997, 1998, 199...\n4  000005     27  [1993, 1994, 1995, 1996, 1997, 1998, 1999, 200...",
      "text/html": "<div>\n<style scoped>\n    .dataframe tbody tr th:only-of-type {\n        vertical-align: middle;\n    }\n\n    .dataframe tbody tr th {\n        vertical-align: top;\n    }\n\n    .dataframe thead th {\n        text-align: right;\n    }\n</style>\n<table border=\"1\" class=\"dataframe\">\n  <thead>\n    <tr style=\"text-align: right;\">\n      <th></th>\n      <th>code</th>\n      <th>counts</th>\n      <th>years</th>\n    </tr>\n  </thead>\n  <tbody>\n    <tr>\n      <th>0</th>\n      <td>000001</td>\n      <td>23</td>\n      <td>[1997, 1998, 1999, 2000, 2001, 2002, 2003, 200...</td>\n    </tr>\n    <tr>\n      <th>1</th>\n      <td>000002</td>\n      <td>27</td>\n      <td>[1993, 1994, 1995, 1996, 1997, 1998, 1999, 200...</td>\n    </tr>\n    <tr>\n      <th>2</th>\n      <td>000003</td>\n      <td>30</td>\n      <td>[1990, 1991, 1992, 1993, 1994, 1995, 1996, 199...</td>\n    </tr>\n    <tr>\n      <th>3</th>\n      <td>000004</td>\n      <td>28</td>\n      <td>[1992, 1993, 1994, 1995, 1996, 1997, 1998, 199...</td>\n    </tr>\n    <tr>\n      <th>4</th>\n      <td>000005</td>\n      <td>27</td>\n      <td>[1993, 1994, 1995, 1996, 1997, 1998, 1999, 200...</td>\n    </tr>\n  </tbody>\n</table>\n</div>"
     },
     "metadata": {},
     "execution_count": 16
    }
   ],
   "source": [
    "df_income_tr_count_list = pd.DataFrame(columns=('code', 'counts', 'years'))\n",
    "df_income_tr_not_ct_list = pd.DataFrame(columns=('code', 'years'))\n",
    "for code, r in df_income_tr.iterrows():\n",
    "    r = r.notnull()\n",
    "    counts = sum(r)\n",
    "    years_list = []\n",
    "    for k in r.keys():\n",
    "        if r[k]:\n",
    "            years_list.append(k)\n",
    "    df_income_tr_count_list = df_income_tr_count_list.append(\n",
    "        pd.DataFrame({'code': [code], 'counts': [counts], 'years': [years_list]}), ignore_index=True)\n",
    "    if not years_list:\n",
    "        print(code)\n",
    "    if years_list[-1] - years_list[0] != counts - 1:\n",
    "        df_income_tr_not_ct_list = df_income_tr_not_ct_list.append(\n",
    "            pd.DataFrame({'code': [code], 'years': [years_list]}), ignore_index=True)\n",
    "df_income_tr_count_list.to_csv('../../data/revenue/total_revenue_counts.csv', index=False)\n",
    "df_income_tr_not_ct_list.to_csv('../../data/revenue/total_revenue_discontinuous.csv', index=False)\n",
    "df_income_tr_count_list.head()"
   ]
  },
  {
   "cell_type": "code",
   "execution_count": 17,
   "metadata": {},
   "outputs": [
    {
     "output_type": "execute_result",
     "data": {
      "text/plain": "     code                                              years\n0  000015  [1991, 1992, 1993, 1994, 1995, 1996, 1997, 199...\n1  000024  [1989, 1990, 1991, 1993, 1994, 1995, 1996, 199...\n2  000405  [1993, 1994, 1995, 1996, 1997, 1998, 1999, 200...\n3  000498  [1994, 1995, 1996, 1997, 1998, 1999, 2000, 200...\n4  000504  [1989, 1991, 1992, 1993, 1994, 1995, 1996, 199...",
      "text/html": "<div>\n<style scoped>\n    .dataframe tbody tr th:only-of-type {\n        vertical-align: middle;\n    }\n\n    .dataframe tbody tr th {\n        vertical-align: top;\n    }\n\n    .dataframe thead th {\n        text-align: right;\n    }\n</style>\n<table border=\"1\" class=\"dataframe\">\n  <thead>\n    <tr style=\"text-align: right;\">\n      <th></th>\n      <th>code</th>\n      <th>years</th>\n    </tr>\n  </thead>\n  <tbody>\n    <tr>\n      <th>0</th>\n      <td>000015</td>\n      <td>[1991, 1992, 1993, 1994, 1995, 1996, 1997, 199...</td>\n    </tr>\n    <tr>\n      <th>1</th>\n      <td>000024</td>\n      <td>[1989, 1990, 1991, 1993, 1994, 1995, 1996, 199...</td>\n    </tr>\n    <tr>\n      <th>2</th>\n      <td>000405</td>\n      <td>[1993, 1994, 1995, 1996, 1997, 1998, 1999, 200...</td>\n    </tr>\n    <tr>\n      <th>3</th>\n      <td>000498</td>\n      <td>[1994, 1995, 1996, 1997, 1998, 1999, 2000, 200...</td>\n    </tr>\n    <tr>\n      <th>4</th>\n      <td>000504</td>\n      <td>[1989, 1991, 1992, 1993, 1994, 1995, 1996, 199...</td>\n    </tr>\n  </tbody>\n</table>\n</div>"
     },
     "metadata": {},
     "execution_count": 17
    }
   ],
   "source": [
    "df_income_tr_not_ct_list.head()"
   ]
  },
  {
   "cell_type": "code",
   "execution_count": null,
   "metadata": {},
   "outputs": [],
   "source": []
  }
 ]
}